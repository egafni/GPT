{
 "cells": [
  {
   "cell_type": "code",
   "execution_count": 1,
   "id": "5a03e98b-e538-4246-8ea7-3fc5fa6d4194",
   "metadata": {},
   "outputs": [],
   "source": [
    "\"\"\"\n",
    "1. Make a simple bigram model\n",
    "2. Do a mlp model\n",
    "2. Do a wavenet model\n",
    "3. Do a GPT model\n",
    "\"\"\"\n",
    "%load_ext autoreload\n",
    "%autoreload 2"
   ]
  },
  {
   "cell_type": "code",
   "execution_count": 2,
   "id": "6a1d6ac2-8472-42d2-bc50-6501f3c3c040",
   "metadata": {},
   "outputs": [],
   "source": [
    "import torch\n",
    "from torch import nn\n",
    "from dataclasses import dataclass\n",
    "import numpy as np\n",
    "from torch.utils.data import Dataset\n",
    "from torch.utils.data import DataLoader\n",
    "import matplotlib.pyplot as plt\n",
    "import torch.nn.functional as F\n",
    "import pandas as pd\n",
    "from gpt.model import BiGram, MLP, WaveNet\n",
    "from gpt.data import TextDataset\n",
    "from gpt.wavenet_layers import make_wavenet\n",
    "from gpt.utils import model_info, nan_hook\n",
    "from torchinfo import summary\n",
    "from gpt.transformer import Transformer\n",
    "\n",
    "@torch.no_grad()\n",
    "@torch.inference_mode()\n",
    "def eval(device):\n",
    "    losses = []\n",
    "    for X, Y in iter(dl_val):\n",
    "        X = X.to(device)\n",
    "        Y = Y.to(device)\n",
    "        y_logit, loss = model(X, Y)\n",
    "        losses.append(loss.item())\n",
    "    return torch.mean(torch.tensor(losses)).item()"
   ]
  },
  {
   "cell_type": "code",
   "execution_count": 8,
   "id": "20dd5925-9488-4ab3-b29b-fc99eddfaad8",
   "metadata": {},
   "outputs": [],
   "source": [
    "# !wget https://raw.githubusercontent.com/karpathy/makemore/master/names.txt\n",
    "# !wget https://raw.githubusercontent.com/karpathy/char-rnn/master/data/tinyshakespeare/input.txt\n",
    "batch_size=64\n",
    "block_size=256"
   ]
  },
  {
   "cell_type": "code",
   "execution_count": 9,
   "id": "c2365901-f676-4df9-9b6d-a261fc5cffd5",
   "metadata": {},
   "outputs": [],
   "source": [
    "ds_train = TextDataset('input.txt','train', block_size=block_size)\n",
    "ds_val = TextDataset('input.txt','val', block_size=block_size)\n",
    "\n",
    "dl_train = DataLoader(ds_train, batch_size=batch_size, shuffle=True)\n",
    "dl_val = DataLoader(ds_val, batch_size=batch_size, shuffle=True)\n",
    "vocab_size = len(ds_train.vocab)"
   ]
  },
  {
   "cell_type": "code",
   "execution_count": 10,
   "id": "2aad8c4e-3695-4700-b6dd-b5645a426ed2",
   "metadata": {},
   "outputs": [],
   "source": [
    "c = Transformer.Config(block_size=block_size,\n",
    "                       n_embd=384,\n",
    "                       n_heads=6,\n",
    "                       vocab_size=vocab_size,\n",
    "                       n_blocks=6,\n",
    "                       dropout=.2)\n",
    "model = Transformer(c)\n",
    "# model = MLP(vocab_size,block_size,n_embd, n_hidden)\n",
    "# model = BiGram(vocab_size)\n",
    "# _=summary(model, input_data=x,col_names=['input_size',\"output_size\", \"num_params\",'kernel_size'], verbose=2, row_settings=['var_names',], )"
   ]
  },
  {
   "cell_type": "code",
   "execution_count": 12,
   "id": "62bd7147-5c73-4ab2-a590-117c40135800",
   "metadata": {},
   "outputs": [],
   "source": [
    "device = torch.device(\"cuda\")\n",
    "model = model.to(device)\n",
    "# X,Y = next(iter(dl_train))\n",
    "# X, Y = X.to(device),Y.to(device)\n",
    "train_losses = []\n",
    "val_losses = {}\n",
    "step = 0"
   ]
  },
  {
   "cell_type": "code",
   "execution_count": null,
   "id": "8ad6da87-2c47-42b0-aff1-148e0ecc71a6",
   "metadata": {},
   "outputs": [
    {
     "name": "stdout",
     "output_type": "stream",
     "text": [
      "1:50|s=50 loss: 2.5307457447052 val_loss: 2.548118829727173 lr: 0.0003\n",
      "1:100|s=100 loss: 2.477017402648926 val_loss: 2.495133399963379 lr: 0.0003\n",
      "1:150|s=150 loss: 2.4505116939544678 val_loss: 2.467078685760498 lr: 0.0003\n",
      "1:200|s=200 loss: 2.4043378829956055 val_loss: 2.4465432167053223 lr: 0.0003\n",
      "1:250|s=250 loss: 2.341930389404297 val_loss: 2.3758797645568848 lr: 0.0003\n",
      "1:300|s=300 loss: 2.2527260780334473 val_loss: 2.304080009460449 lr: 0.0003\n",
      "1:350|s=350 loss: 2.1582577228546143 val_loss: 2.2166993618011475 lr: 0.0003\n",
      "1:400|s=400 loss: 2.0934464931488037 val_loss: 2.1583914756774902 lr: 0.0003\n",
      "1:450|s=450 loss: 2.0401923656463623 val_loss: 2.1005845069885254 lr: 0.0003\n",
      "1:500|s=500 loss: 1.9590400457382202 val_loss: 2.0557265281677246 lr: 0.0003\n",
      "1:550|s=550 loss: 1.9203728437423706 val_loss: 2.019498586654663 lr: 0.0003\n",
      "1:600|s=600 loss: 1.8934191465377808 val_loss: 1.9841663837432861 lr: 0.0003\n",
      "1:650|s=650 loss: 1.8212238550186157 val_loss: 1.94488525390625 lr: 0.0003\n",
      "1:700|s=700 loss: 1.8125016689300537 val_loss: 1.9112939834594727 lr: 0.0003\n",
      "1:750|s=750 loss: 1.7411493062973022 val_loss: 1.8862335681915283 lr: 0.0003\n",
      "1:800|s=800 loss: 1.7078559398651123 val_loss: 1.8614498376846313 lr: 0.0003\n",
      "1:850|s=850 loss: 1.6703436374664307 val_loss: 1.8353502750396729 lr: 0.0003\n",
      "1:900|s=900 loss: 1.6614078283309937 val_loss: 1.8142322301864624 lr: 0.0003\n",
      "1:950|s=950 loss: 1.6590138673782349 val_loss: 1.8013520240783691 lr: 0.0003\n",
      "1:1000|s=1000 loss: 1.6678638458251953 val_loss: 1.781607747077942 lr: 0.0003\n",
      "1:1050|s=1050 loss: 1.6205072402954102 val_loss: 1.760372519493103 lr: 0.0003\n",
      "1:1100|s=1100 loss: 1.5847474336624146 val_loss: 1.7483086585998535 lr: 0.0003\n",
      "1:1150|s=1150 loss: 1.5926427841186523 val_loss: 1.7404823303222656 lr: 0.0003\n",
      "1:1200|s=1200 loss: 1.5686875581741333 val_loss: 1.7264931201934814 lr: 0.0003\n",
      "1:1250|s=1250 loss: 1.5341465473175049 val_loss: 1.7092353105545044 lr: 0.0003\n",
      "1:1300|s=1300 loss: 1.5433576107025146 val_loss: 1.7068078517913818 lr: 0.0003\n",
      "1:1350|s=1350 loss: 1.5157610177993774 val_loss: 1.6936906576156616 lr: 0.0003\n",
      "1:1400|s=1400 loss: 1.5126382112503052 val_loss: 1.686978816986084 lr: 0.0003\n",
      "1:1450|s=1450 loss: 1.5209641456604004 val_loss: 1.6742814779281616 lr: 0.0003\n",
      "1:1500|s=1500 loss: 1.481099009513855 val_loss: 1.6662702560424805 lr: 0.0003\n",
      "1:1550|s=1550 loss: 1.4574187994003296 val_loss: 1.6585547924041748 lr: 0.0003\n",
      "1:1600|s=1600 loss: 1.4567842483520508 val_loss: 1.649300217628479 lr: 0.0003\n",
      "1:1650|s=1650 loss: 1.4409458637237549 val_loss: 1.6465445756912231 lr: 0.0003\n",
      "1:1700|s=1700 loss: 1.4206923246383667 val_loss: 1.6327264308929443 lr: 0.0003\n",
      "1:1750|s=1750 loss: 1.4366198778152466 val_loss: 1.6292563676834106 lr: 0.0003\n",
      "1:1800|s=1800 loss: 1.422508716583252 val_loss: 1.6239738464355469 lr: 0.0003\n",
      "1:1850|s=1850 loss: 1.4375239610671997 val_loss: 1.6188238859176636 lr: 0.0003\n",
      "1:1900|s=1900 loss: 1.3923866748809814 val_loss: 1.6115994453430176 lr: 0.0003\n"
     ]
    }
   ],
   "source": [
    "optimizer = torch.optim.AdamW(model.parameters(), lr=3e-4)\n",
    "max_epochs = 20\n",
    "eval_freq = 50\n",
    "done = False\n",
    "for epoch in range(1, max_epochs+1):\n",
    "    for i, (X,Y) in enumerate(iter(dl_train), start=1):\n",
    "        step += 1\n",
    "        # break\n",
    "        X = X.to(device)\n",
    "        Y = Y.to(device)\n",
    "        y_logit,loss = model(X, Y)\n",
    "        \n",
    "        # break\n",
    "        \n",
    "        optimizer.zero_grad(True)\n",
    "        loss.backward()\n",
    "        optimizer.step()\n",
    "        # scheduler.step()\n",
    "    \n",
    "        if step == 0 or step % eval_freq == 0:\n",
    "            val_loss = eval(device)\n",
    "            val_losses[step] = val_loss\n",
    "            lr = optimizer.param_groups[0]['lr']\n",
    "            print(f'{epoch}:{i}|s={step} loss: {loss.item()} val_loss: {val_loss} lr: {lr}')\n",
    "            \n",
    "        train_losses.append(float(loss))\n",
    "                \n",
    "    print('epoch done')"
   ]
  },
  {
   "cell_type": "code",
   "execution_count": null,
   "id": "cfc16f9e-1fbc-44c6-b49d-66cc0463d312",
   "metadata": {},
   "outputs": [],
   "source": [
    "# list(model.parameters())[0].var(0)"
   ]
  },
  {
   "cell_type": "code",
   "execution_count": 39,
   "id": "cc109aa5-375b-4f5d-8835-e87010d851f0",
   "metadata": {},
   "outputs": [
    {
     "data": {
      "text/plain": [
       "58830"
      ]
     },
     "execution_count": 39,
     "metadata": {},
     "output_type": "execute_result"
    }
   ],
   "source": [
    "len(train_losses)"
   ]
  },
  {
   "cell_type": "code",
   "execution_count": 41,
   "id": "d8c2db5c-a8f8-412b-b41a-494c6ca2337f",
   "metadata": {},
   "outputs": [
    {
     "data": {
      "text/plain": [
       "[<matplotlib.lines.Line2D at 0x7f60bc269930>]"
      ]
     },
     "execution_count": 41,
     "metadata": {},
     "output_type": "execute_result"
    },
    {
     "data": {
      "image/png": "[encoded data removed]",
      "text/plain": [
       "<Figure size 800x300 with 1 Axes>"
      ]
     },
     "metadata": {},
     "output_type": "display_data"
    }
   ],
   "source": [
    "from scipy.signal import savgol_filter\n",
    "train_losses_smoothed = savgol_filter(train_losses, 100, 1)\n",
    "fig, ax = plt.subplots(1,1,figsize=(8,3))\n",
    "i = list(range(0, len(train_losses), eval_freq))\n",
    "# ax.plot(train_losses_smoothed)\n",
    "ax.plot(val_losses.keys(),val_losses.values())\n",
    "# ax.set_"
   ]
  },
  {
   "cell_type": "code",
   "execution_count": 42,
   "id": "efcd084a-265e-4943-9718-d42afb80ca6c",
   "metadata": {},
   "outputs": [
    {
     "name": "stdout",
     "output_type": "stream",
     "text": [
      "e fare to lase man wead plood balryson trainst,\n",
      "Ever\n",
      "hough to is see in two Edward did downtrever under-nesment of on udvertost is for that sord their, Tye fient-alout fable a digrenge him consune ouch a cake and glainly as yearte; and ofturmpled two your gest upe kind in is with but man, like obogbaltous some's good,\n",
      "Where I'll of I prict mine younger may procks for pelliends my him, dears my bagain abrother rus greas theriend my thous ul itpray?\n",
      "\n",
      "QUEEN YIOHN MARIA:\n",
      "I wingly to Riction earn of aris plow rubval, dan, say should Hare?\n",
      "Griviand blesss, by lord\n",
      "There how\n",
      "now for hose. Loiss and my do thee to you; what wall thy as contands.\n",
      "\n",
      "JUTIUS:\n",
      "O, by and my him'd I'll be conduty, I son in'\n",
      "faull all that.\n",
      "A Sern'd in I tervits, right:\n",
      "To knawness Lord us ships commont: it fay, sire\n",
      "And 'Tho gruse\n",
      "Hen contase she act bust of wars ceater.\n",
      "\n",
      "DUKE VINCE:\n",
      "\n",
      "FRIAR A besuilingens, 'Best my be I well chard Chalome iless agaughter, lay his be flaines Was at the as panidiling in torm my mood, dra\n"
     ]
    }
   ],
   "source": [
    "x = ds_val[0][0].unsqueeze(0)\n",
    "y_pred = model.predict(X, 1000)\n",
    "print(''.join(ds_train.decode(y_pred[0])))"
   ]
  },
  {
   "cell_type": "code",
   "execution_count": null,
   "id": "e4ae632a-06d1-43ea-8e80-d2d6432848fb",
   "metadata": {},
   "outputs": [],
   "source": []
  },
  {
   "cell_type": "code",
   "execution_count": 40,
   "id": "401a3281-ef68-4113-ada0-91f28327a040",
   "metadata": {},
   "outputs": [
    {
     "data": {
      "text/plain": [
       "torch.Size([1, 8, 65])"
      ]
     },
     "execution_count": 40,
     "metadata": {},
     "output_type": "execute_result"
    }
   ],
   "source": []
  }
 ],
 "metadata": {
  "kernelspec": {
   "display_name": "Python 3 (ipykernel)",
   "language": "python",
   "name": "python3"
  },
  "language_info": {
   "codemirror_mode": {
    "name": "ipython",
    "version": 3
   },
   "file_extension": ".py",
   "mimetype": "text/x-python",
   "name": "python",
   "nbconvert_exporter": "python",
   "pygments_lexer": "ipython3",
   "version": "3.10.12"
  }
 },
 "nbformat": 4,
 "nbformat_minor": 5
}
