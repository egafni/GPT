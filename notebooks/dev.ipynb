{
 "cells": [
  {
   "cell_type": "code",
   "execution_count": 1,
   "id": "5a03e98b-e538-4246-8ea7-3fc5fa6d4194",
   "metadata": {},
   "outputs": [],
   "source": [
    "\"\"\"\n",
    "1. Make a simple bigram model\n",
    "2. Do a mlp model\n",
    "2. Do a wavenet model\n",
    "3. Do a GPT model\n",
    "\"\"\"\n",
    "%load_ext autoreload\n",
    "%autoreload 2"
   ]
  },
  {
   "cell_type": "code",
   "execution_count": 2,
   "id": "6a1d6ac2-8472-42d2-bc50-6501f3c3c040",
   "metadata": {},
   "outputs": [],
   "source": [
    "import torch\n",
    "from torch import nn\n",
    "from dataclasses import dataclass\n",
    "import numpy as np\n",
    "from torch.utils.data import Dataset\n",
    "from torch.utils.data import DataLoader\n",
    "import matplotlib.pyplot as plt\n",
    "import torch.nn.functional as F\n",
    "import pandas as pd\n",
    "from gpt.model import BiGram, MLP, WaveNet\n",
    "from gpt.data import TextDataset\n",
    "from gpt.wavenet_layers import make_wavenet\n",
    "from gpt.utils import model_info, nan_hook\n",
    "from torchinfo import summary\n",
    "from gpt.transformer import Transformer\n",
    "\n",
    "@torch.no_grad()\n",
    "@torch.inference_mode()\n",
    "def eval(device):\n",
    "    losses = []\n",
    "    for X, Y in iter(dl_val):\n",
    "        X = X.to(device)\n",
    "        Y = Y.to(device)\n",
    "        y_logit, loss = model(X, Y)\n",
    "        losses.append(loss.item())\n",
    "    return torch.mean(torch.tensor(losses)).item()"
   ]
  },
  {
   "cell_type": "code",
   "execution_count": 8,
   "id": "20dd5925-9488-4ab3-b29b-fc99eddfaad8",
   "metadata": {},
   "outputs": [],
   "source": [
    "# !wget https://raw.githubusercontent.com/karpathy/makemore/master/names.txt\n",
    "# !wget https://raw.githubusercontent.com/karpathy/char-rnn/master/data/tinyshakespeare/input.txt\n",
    "batch_size=64\n",
    "block_size=256"
   ]
  },
  {
   "cell_type": "code",
   "execution_count": 9,
   "id": "c2365901-f676-4df9-9b6d-a261fc5cffd5",
   "metadata": {},
   "outputs": [],
   "source": [
    "ds_train = TextDataset('input.txt','train', block_size=block_size)\n",
    "ds_val = TextDataset('input.txt','val', block_size=block_size)\n",
    "\n",
    "dl_train = DataLoader(ds_train, batch_size=batch_size, shuffle=True)\n",
    "dl_val = DataLoader(ds_val, batch_size=batch_size, shuffle=True)\n",
    "vocab_size = len(ds_train.vocab)"
   ]
  },
  {
   "cell_type": "code",
   "execution_count": 10,
   "id": "2aad8c4e-3695-4700-b6dd-b5645a426ed2",
   "metadata": {},
   "outputs": [],
   "source": [
    "c = Transformer.Config(block_size=block_size,\n",
    "                       n_embd=384,\n",
    "                       n_heads=6,\n",
    "                       vocab_size=vocab_size,\n",
    "                       n_blocks=6,\n",
    "                       dropout=.2)\n",
    "model = Transformer(c)\n",
    "# model = MLP(vocab_size,block_size,n_embd, n_hidden)\n",
    "# model = BiGram(vocab_size)\n",
    "# _=summary(model, input_data=x,col_names=['input_size',\"output_size\", \"num_params\",'kernel_size'], verbose=2, row_settings=['var_names',], )"
   ]
  },
  {
   "cell_type": "code",
   "execution_count": 12,
   "id": "62bd7147-5c73-4ab2-a590-117c40135800",
   "metadata": {},
   "outputs": [],
   "source": [
    "device = torch.device(\"cuda\")\n",
    "model = model.to(device)\n",
    "X,Y = next(iter(dl_train))\n",
    "X, Y = X.to(device),Y.to(device)\n",
    "# logits, loss = model(X, Y)\n",
    "# loss\n",
    "\n",
    "# if hasattr(model,'seq'):\n",
    "#     with torch.no_grad():\n",
    "#       model.seq[-1].weight *= 0.1 # last layer make less confident\n",
    "\n",
    "# scheduler = torch.optim.lr_scheduler.StepLR(optimizer, step_size=150000)\n",
    "train_losses = []\n",
    "val_losses = {}\n",
    "step = 0"
   ]
  },
  {
   "cell_type": "code",
   "execution_count": null,
   "id": "8ad6da87-2c47-42b0-aff1-148e0ecc71a6",
   "metadata": {},
   "outputs": [
    {
     "name": "stdout",
     "output_type": "stream",
     "text": [
      "1:50|s=50 loss: 2.5307457447052 val_loss: 2.548118829727173 lr: 0.0003\n",
      "1:100|s=100 loss: 2.477017402648926 val_loss: 2.495133399963379 lr: 0.0003\n",
      "1:150|s=150 loss: 2.4505116939544678 val_loss: 2.467078685760498 lr: 0.0003\n",
      "1:200|s=200 loss: 2.4043378829956055 val_loss: 2.4465432167053223 lr: 0.0003\n",
      "1:250|s=250 loss: 2.341930389404297 val_loss: 2.3758797645568848 lr: 0.0003\n",
      "1:300|s=300 loss: 2.2527260780334473 val_loss: 2.304080009460449 lr: 0.0003\n",
      "1:350|s=350 loss: 2.1582577228546143 val_loss: 2.2166993618011475 lr: 0.0003\n",
      "1:400|s=400 loss: 2.0934464931488037 val_loss: 2.1583914756774902 lr: 0.0003\n",
      "1:450|s=450 loss: 2.0401923656463623 val_loss: 2.1005845069885254 lr: 0.0003\n",
      "1:500|s=500 loss: 1.9590400457382202 val_loss: 2.0557265281677246 lr: 0.0003\n",
      "1:550|s=550 loss: 1.9203728437423706 val_loss: 2.019498586654663 lr: 0.0003\n",
      "1:600|s=600 loss: 1.8934191465377808 val_loss: 1.9841663837432861 lr: 0.0003\n",
      "1:650|s=650 loss: 1.8212238550186157 val_loss: 1.94488525390625 lr: 0.0003\n",
      "1:700|s=700 loss: 1.8125016689300537 val_loss: 1.9112939834594727 lr: 0.0003\n",
      "1:750|s=750 loss: 1.7411493062973022 val_loss: 1.8862335681915283 lr: 0.0003\n",
      "1:800|s=800 loss: 1.7078559398651123 val_loss: 1.8614498376846313 lr: 0.0003\n",
      "1:850|s=850 loss: 1.6703436374664307 val_loss: 1.8353502750396729 lr: 0.0003\n",
      "1:900|s=900 loss: 1.6614078283309937 val_loss: 1.8142322301864624 lr: 0.0003\n",
      "1:950|s=950 loss: 1.6590138673782349 val_loss: 1.8013520240783691 lr: 0.0003\n",
      "1:1000|s=1000 loss: 1.6678638458251953 val_loss: 1.781607747077942 lr: 0.0003\n",
      "1:1050|s=1050 loss: 1.6205072402954102 val_loss: 1.760372519493103 lr: 0.0003\n",
      "1:1100|s=1100 loss: 1.5847474336624146 val_loss: 1.7483086585998535 lr: 0.0003\n",
      "1:1150|s=1150 loss: 1.5926427841186523 val_loss: 1.7404823303222656 lr: 0.0003\n",
      "1:1200|s=1200 loss: 1.5686875581741333 val_loss: 1.7264931201934814 lr: 0.0003\n",
      "1:1250|s=1250 loss: 1.5341465473175049 val_loss: 1.7092353105545044 lr: 0.0003\n",
      "1:1300|s=1300 loss: 1.5433576107025146 val_loss: 1.7068078517913818 lr: 0.0003\n",
      "1:1350|s=1350 loss: 1.5157610177993774 val_loss: 1.6936906576156616 lr: 0.0003\n",
      "1:1400|s=1400 loss: 1.5126382112503052 val_loss: 1.686978816986084 lr: 0.0003\n",
      "1:1450|s=1450 loss: 1.5209641456604004 val_loss: 1.6742814779281616 lr: 0.0003\n",
      "1:1500|s=1500 loss: 1.481099009513855 val_loss: 1.6662702560424805 lr: 0.0003\n",
      "1:1550|s=1550 loss: 1.4574187994003296 val_loss: 1.6585547924041748 lr: 0.0003\n",
      "1:1600|s=1600 loss: 1.4567842483520508 val_loss: 1.649300217628479 lr: 0.0003\n",
      "1:1650|s=1650 loss: 1.4409458637237549 val_loss: 1.6465445756912231 lr: 0.0003\n",
      "1:1700|s=1700 loss: 1.4206923246383667 val_loss: 1.6327264308929443 lr: 0.0003\n",
      "1:1750|s=1750 loss: 1.4366198778152466 val_loss: 1.6292563676834106 lr: 0.0003\n",
      "1:1800|s=1800 loss: 1.422508716583252 val_loss: 1.6239738464355469 lr: 0.0003\n",
      "1:1850|s=1850 loss: 1.4375239610671997 val_loss: 1.6188238859176636 lr: 0.0003\n"
     ]
    }
   ],
   "source": [
    "optimizer = torch.optim.AdamW(model.parameters(), lr=3e-4)\n",
    "max_epochs = 20\n",
    "eval_freq = 50\n",
    "done = False\n",
    "for epoch in range(1, max_epochs+1):\n",
    "    for i, (X,Y) in enumerate(iter(dl_train), start=1):\n",
    "        step += 1\n",
    "        # break\n",
    "        X = X.to(device)\n",
    "        Y = Y.to(device)\n",
    "        y_logit,loss = model(X, Y)\n",
    "        \n",
    "        # break\n",
    "        \n",
    "        optimizer.zero_grad(True)\n",
    "        loss.backward()\n",
    "        optimizer.step()\n",
    "        # scheduler.step()\n",
    "    \n",
    "        if step == 0 or step % eval_freq == 0:\n",
    "            val_loss = eval(device)\n",
    "            val_losses[step] = val_loss\n",
    "            lr = optimizer.param_groups[0]['lr']\n",
    "            print(f'{epoch}:{i}|s={step} loss: {loss.item()} val_loss: {val_loss} lr: {lr}')\n",
    "            \n",
    "        train_losses.append(float(loss))\n",
    "                \n",
    "    print('epoch done')"
   ]
  },
  {
   "cell_type": "code",
   "execution_count": null,
   "id": "cfc16f9e-1fbc-44c6-b49d-66cc0463d312",
   "metadata": {},
   "outputs": [],
   "source": [
    "# list(model.parameters())[0].var(0)"
   ]
  },
  {
   "cell_type": "code",
   "execution_count": 39,
   "id": "cc109aa5-375b-4f5d-8835-e87010d851f0",
   "metadata": {},
   "outputs": [
    {
     "data": {
      "text/plain": [
       "58830"
      ]
     },
     "execution_count": 39,
     "metadata": {},
     "output_type": "execute_result"
    }
   ],
   "source": [
    "len(train_losses)"
   ]
  },
  {
   "cell_type": "code",
   "execution_count": 41,
   "id": "d8c2db5c-a8f8-412b-b41a-494c6ca2337f",
   "metadata": {},
   "outputs": [
    {
     "data": {
      "text/plain": [
       "[<matplotlib.lines.Line2D at 0x7f60bc269930>]"
      ]
     },
     "execution_count": 41,
     "metadata": {},
     "output_type": "execute_result"
    },
    {
     "data": {
      "image/png": "[encoded data removed]",
      "text/plain": [
       "<Figure size 800x300 with 1 Axes>"
      ]
     },
     "metadata": {},
     "output_type": "display_data"
    }
   ],
   "source": [
    "from scipy.signal import savgol_filter\n",
    "train_losses_smoothed = savgol_filter(train_losses, 100, 1)\n",
    "fig, ax = plt.subplots(1,1,figsize=(8,3))\n",
    "i = list(range(0, len(train_losses), eval_freq))\n",
    "# ax.plot(train_losses_smoothed)\n",
    "ax.plot(val_losses.keys(),val_losses.values())\n",
    "# ax.set_"
   ]
  },
  {
   "cell_type": "code",
   "execution_count": 42,
   "id": "efcd084a-265e-4943-9718-d42afb80ca6c",
   "metadata": {},
   "outputs": [
    {
     "name": "stdout",
     "output_type": "stream",
     "text": [
      "e fare to lase man wead plood balryson trainst,\n",
      "Ever\n",
      "hough to is see in two Edward did downtrever under-nesment of on udvertost is for that sord their, Tye fient-alout fable a digrenge him consune ouch a cake and glainly as yearte; and ofturmpled two your gest upe kind in is with but man, like obogbaltous some's good,\n",
      "Where I'll of I prict mine younger may procks for pelliends my him, dears my bagain abrother rus greas theriend my thous ul itpray?\n",
      "\n",
      "QUEEN YIOHN MARIA:\n",
      "I wingly to Riction earn of aris plow rubval, dan, say should Hare?\n",
      "Griviand blesss, by lord\n",
      "There how\n",
      "now for hose. Loiss and my do thee to you; what wall thy as contands.\n",
      "\n",
      "JUTIUS:\n",
      "O, by and my him'd I'll be conduty, I son in'\n",
      "faull all that.\n",
      "A Sern'd in I tervits, right:\n",
      "To knawness Lord us ships commont: it fay, sire\n",
      "And 'Tho gruse\n",
      "Hen contase she act bust of wars ceater.\n",
      "\n",
      "DUKE VINCE:\n",
      "\n",
      "FRIAR A besuilingens, 'Best my be I well chard Chalome iless agaughter, lay his be flaines Was at the as panidiling in torm my mood, dra\n"
     ]
    }
   ],
   "source": [
    "x = ds_val[0][0].unsqueeze(0)\n",
    "y_pred = model.predict(X, 1000)\n",
    "print(''.join(ds_train.decode(y_pred[0])))"
   ]
  },
  {
   "cell_type": "code",
   "execution_count": 217,
   "id": "9f3df7ab-0b17-47a7-a4da-e8bd3629bcb6",
   "metadata": {},
   "outputs": [
    {
     "name": "stdout",
     "output_type": "stream",
     "text": [
      "> \u001b[0;32m/mnt/hdd2/userdata/egafni/projects/GPT/gpt/bigram.py\u001b[0m(23)\u001b[0;36mpredict\u001b[0;34m()\u001b[0m\n",
      "\u001b[0;32m     21 \u001b[0;31m            \u001b[0my_logit\u001b[0m\u001b[0;34m,\u001b[0m \u001b[0mloss\u001b[0m \u001b[0;34m=\u001b[0m \u001b[0mself\u001b[0m\u001b[0;34m(\u001b[0m\u001b[0mX\u001b[0m\u001b[0;34m)\u001b[0m\u001b[0;34m\u001b[0m\u001b[0;34m\u001b[0m\u001b[0m\n",
      "\u001b[0m\u001b[0;32m     22 \u001b[0;31m            \u001b[0;32massert\u001b[0m \u001b[0misinstance\u001b[0m\u001b[0;34m(\u001b[0m\u001b[0my_logit\u001b[0m\u001b[0;34m,\u001b[0m \u001b[0mtorch\u001b[0m\u001b[0;34m.\u001b[0m\u001b[0mTensor\u001b[0m\u001b[0;34m)\u001b[0m\u001b[0;34m\u001b[0m\u001b[0;34m\u001b[0m\u001b[0m\n",
      "\u001b[0m\u001b[0;32m---> 23 \u001b[0;31m            \u001b[0my_proba\u001b[0m \u001b[0;34m=\u001b[0m \u001b[0mtorch\u001b[0m\u001b[0;34m.\u001b[0m\u001b[0msoftmax\u001b[0m\u001b[0;34m(\u001b[0m\u001b[0my_logit\u001b[0m\u001b[0;34m,\u001b[0m \u001b[0maxis\u001b[0m\u001b[0;34m=\u001b[0m\u001b[0;36m2\u001b[0m\u001b[0;34m)\u001b[0m\u001b[0;34m\u001b[0m\u001b[0;34m\u001b[0m\u001b[0m\n",
      "\u001b[0m\u001b[0;32m     24 \u001b[0;31m            \u001b[0mnext_token\u001b[0m \u001b[0;34m=\u001b[0m \u001b[0mtorch\u001b[0m\u001b[0;34m.\u001b[0m\u001b[0mmultinomial\u001b[0m\u001b[0;34m(\u001b[0m\u001b[0my_proba\u001b[0m\u001b[0;34m[\u001b[0m\u001b[0;34m:\u001b[0m\u001b[0;34m,\u001b[0m \u001b[0;34m-\u001b[0m\u001b[0;36m1\u001b[0m\u001b[0;34m,\u001b[0m \u001b[0;34m:\u001b[0m\u001b[0;34m]\u001b[0m\u001b[0;34m,\u001b[0m \u001b[0mnum_samples\u001b[0m\u001b[0;34m=\u001b[0m\u001b[0;36m1\u001b[0m\u001b[0;34m)\u001b[0m\u001b[0;34m\u001b[0m\u001b[0;34m\u001b[0m\u001b[0m\n",
      "\u001b[0m\u001b[0;32m     25 \u001b[0;31m            \u001b[0mX\u001b[0m \u001b[0;34m=\u001b[0m \u001b[0mtorch\u001b[0m\u001b[0;34m.\u001b[0m\u001b[0mcat\u001b[0m\u001b[0;34m(\u001b[0m\u001b[0;34m[\u001b[0m\u001b[0mX\u001b[0m\u001b[0;34m[\u001b[0m\u001b[0;34m:\u001b[0m\u001b[0;34m,\u001b[0m \u001b[0;36m1\u001b[0m\u001b[0;34m:\u001b[0m\u001b[0;34m]\u001b[0m\u001b[0;34m,\u001b[0m \u001b[0mnext_token\u001b[0m\u001b[0;34m]\u001b[0m\u001b[0;34m,\u001b[0m \u001b[0maxis\u001b[0m\u001b[0;34m=\u001b[0m\u001b[0;36m1\u001b[0m\u001b[0;34m)\u001b[0m\u001b[0;34m\u001b[0m\u001b[0;34m\u001b[0m\u001b[0m\n",
      "\u001b[0m\n"
     ]
    },
    {
     "name": "stdin",
     "output_type": "stream",
     "text": [
      "ipdb>  y_logit\n"
     ]
    },
    {
     "name": "stdout",
     "output_type": "stream",
     "text": [
      "tensor([[-2.7631e+00,  9.9062e-01, -3.3537e-01, -9.0765e-01, -4.8481e-01,\n",
      "         -2.2454e-01, -1.8219e+00, -6.2908e-02, -1.1588e+00, -1.5960e+00,\n",
      "         -1.9196e+00, -3.9353e-01,  1.5247e+00,  1.7489e-01,  6.4097e-01,\n",
      "          8.1899e-01,  1.6525e-01,  1.0941e+00,  3.6124e+00,  1.9773e+00,\n",
      "          1.0520e+00, -1.1566e+00,  3.5627e-01, -1.8867e+00, -3.9479e-01,\n",
      "          1.8337e-01,  2.8279e-01],\n",
      "        [ 1.2643e+00,  7.5333e-01, -5.1790e-01, -1.7604e+00, -1.2357e+00,\n",
      "          8.3414e-01, -2.1037e+00, -2.7824e+00, -1.4906e+00, -2.2694e-03,\n",
      "         -2.9240e+00, -1.6971e+00,  3.2932e+00,  6.1414e-01,  2.7654e+00,\n",
      "         -1.1716e+00, -2.9617e+00, -3.8996e+00,  1.0703e+00, -1.6041e-01,\n",
      "         -3.0540e-01, -2.5644e+00, -1.8339e+00, -4.0383e+00, -2.9988e+00,\n",
      "          4.4717e-01, -5.9124e-01],\n",
      "        [ 6.3073e-01,  3.7418e+00, -3.3771e+00, -1.4789e+00, -1.5102e+00,\n",
      "          3.7167e+00, -3.1904e+00, -3.1646e+00, -7.6849e-01,  4.1494e+00,\n",
      "         -2.4173e+00, -2.6876e+00, -2.1606e+00, -3.0236e+00, -3.1739e-03,\n",
      "          1.1437e+00, -4.3545e+00, -5.2605e+00, -1.2216e+00, -2.9515e+00,\n",
      "         -1.9349e+00, -1.7233e-01, -3.9359e+00, -2.2966e+00, -3.9773e+00,\n",
      "          2.0552e+00, -4.1331e+00],\n",
      "        [-3.1026e+00,  3.3121e+00, -2.4304e+00, -8.3120e-01, -9.5713e-01,\n",
      "          3.5821e+00, -3.0320e+00, -1.7210e+00, -9.8739e-02,  2.6532e+00,\n",
      "         -2.6867e+00, -7.0508e-01, -7.5537e-01, -3.3452e+00, -1.6742e+00,\n",
      "          2.1926e+00, -3.2664e+00, -3.0904e+00,  1.5551e+00, -3.1651e+00,\n",
      "         -9.7135e-01,  3.9257e-01, -2.5221e+00, -2.1851e+00, -1.9054e+00,\n",
      "          2.0178e+00, -3.7179e+00],\n",
      "        [ 1.3833e+00,  7.3492e-01, -1.4312e+00, -3.8028e-01, -1.2322e+00,\n",
      "          1.1700e+00, -2.6838e+00, -2.9630e+00, -1.0332e-01, -2.6226e-01,\n",
      "         -3.1175e+00, -9.1277e-01,  5.6433e-01,  3.9382e-01,  2.3275e+00,\n",
      "         -4.7466e-01, -1.2787e+00, -1.8637e+00,  4.3239e-01,  1.3327e+00,\n",
      "          2.9745e-01, -1.3856e+00, -2.2165e+00, -1.7246e+00, -2.2362e+00,\n",
      "         -4.5906e-01, -2.0643e+00],\n",
      "        [ 1.2331e+00,  1.8269e+00, -2.3270e+00, -6.0382e-01, -9.3754e-01,\n",
      "          2.3293e+00, -2.5849e+00, -1.4215e+00, -1.2508e+00,  1.0460e-01,\n",
      "         -2.5693e+00, -1.2221e+00, -3.6728e-01, -6.6199e-01,  1.8270e+00,\n",
      "          5.6832e-01, -2.6981e+00, -2.2916e+00, -7.2197e-01,  6.0552e-01,\n",
      "         -4.2499e-01, -2.3418e+00, -2.3506e+00, -3.5264e+00, -2.1397e+00,\n",
      "          6.2006e-01, -1.6222e+00],\n",
      "        [-3.5281e+00,  4.2904e+00,  1.4258e+00,  1.8408e+00, -3.3702e-01,\n",
      "          1.3672e+00, -2.5924e+00, -4.1870e-01,  5.1223e-01,  1.0009e+00,\n",
      "          1.7692e+00,  1.6353e+00,  3.2855e-01, -5.3010e-01, -9.3658e-01,\n",
      "         -2.5636e-01, -2.4840e+00, -3.1974e+00, -8.9917e-01, -7.1669e-01,\n",
      "         -7.0735e-01, -2.5834e+00, -2.9292e+00, -3.8587e+00, -3.0335e+00,\n",
      "         -1.2111e-01,  1.5034e-01],\n",
      "        [ 5.0345e+00,  2.6414e-01, -1.7452e+00, -1.6683e+00,  9.5290e-01,\n",
      "          7.1595e-01, -1.5933e+00, -6.8459e-02, -2.1610e+00, -6.2295e-01,\n",
      "         -3.0571e+00, -1.4653e+00,  2.6564e+00, -7.0691e-01,  8.2773e-01,\n",
      "         -5.6632e-01, -4.1174e+00, -4.2543e+00, -2.5847e-01, -2.4132e-01,\n",
      "         -2.7151e-01, -8.4480e-01, -1.6369e-01, -3.5780e+00, -1.8141e+00,\n",
      "         -3.2511e-01, -9.6864e-01],\n",
      "        [ 4.0722e+00,  1.8717e+00, -2.6072e+00, -1.7821e+00, -5.6330e-02,\n",
      "          1.2526e+00, -3.4578e+00, -2.0968e+00, -9.0547e-02,  2.0445e+00,\n",
      "         -3.4471e+00, -3.2460e+00, -8.0138e-01, -2.0188e+00,  2.4402e+00,\n",
      "         -7.5268e-01, -3.2287e+00, -4.7614e+00, -6.3188e-01, -1.8411e-01,\n",
      "          4.5743e-02, -2.3593e+00, -3.5003e+00, -3.3192e+00, -4.2727e+00,\n",
      "         -4.2215e-01, -1.3919e+00],\n",
      "        [ 6.2453e+00,  2.1740e+00, -2.2045e+00, -2.5141e+00,  2.9271e-01,\n",
      "          1.7182e+00, -3.6873e+00, -2.9694e+00, -8.5608e-01,  4.5800e-01,\n",
      "         -4.3050e+00, -2.8950e+00,  4.0112e-01, -9.0516e-01, -2.9814e-01,\n",
      "          4.6451e-01, -4.0760e+00, -4.8301e+00, -6.5541e-01, -1.5332e+00,\n",
      "         -1.3022e+00,  8.5585e-01, -2.0075e+00, -2.9908e+00, -4.3524e+00,\n",
      "         -3.2766e-01, -3.1486e+00],\n",
      "        [-2.0243e+00,  4.7536e+00, -2.0199e+00, -8.4790e-01, -1.6182e-02,\n",
      "          4.2543e+00, -2.9295e+00, -2.5846e+00, -5.3974e-01,  2.6077e+00,\n",
      "         -2.5853e+00, -2.4583e+00, -1.2714e+00, -2.5662e+00, -1.6710e+00,\n",
      "          2.4014e+00, -4.3065e+00, -4.9307e+00, -8.1867e-01, -3.5797e+00,\n",
      "         -2.7433e+00,  1.7664e+00, -1.7531e+00, -2.0785e+00, -3.5657e+00,\n",
      "          1.4435e+00, -3.6714e+00],\n",
      "        [ 3.5156e+00,  1.7376e+00, -1.9923e+00, -2.9483e+00, -6.7501e-01,\n",
      "          2.4673e+00, -2.4937e+00, -3.9733e+00, -1.9701e+00,  1.9353e+00,\n",
      "         -3.0396e+00, -2.8451e+00,  2.1349e+00,  4.3208e-02, -1.4933e+00,\n",
      "          5.2044e-01, -4.8728e+00, -6.1031e+00, -1.3418e+00, -1.5453e+00,\n",
      "         -7.7437e-01,  6.2515e-01, -1.1195e+00, -2.3163e+00, -3.6543e+00,\n",
      "          1.1770e+00, -2.0726e+00],\n",
      "        [ 5.7394e+00,  1.8549e-01, -2.3107e+00, -2.6174e+00, -5.7972e-01,\n",
      "          1.1433e+00, -3.4364e+00, -2.1563e+00,  3.0522e+00,  2.6766e-01,\n",
      "         -4.5024e+00, -2.9017e+00,  6.8933e-01, -1.4021e+00,  5.3051e-01,\n",
      "         -1.4247e+00, -3.6824e+00, -4.8299e+00,  1.4080e-01, -6.4306e-01,\n",
      "          1.0151e+00, -1.0059e-01, -2.0410e+00, -2.4815e+00, -3.4913e+00,\n",
      "         -3.8954e-02, -2.8785e+00],\n",
      "        [-1.5615e+00,  1.8321e+00,  1.4380e+00,  5.9739e-01,  1.7505e+00,\n",
      "         -3.7482e-02, -1.7392e+00, -9.7097e-01, -1.4686e+00, -5.9218e-01,\n",
      "         -6.4555e-01, -7.4817e-01,  1.2277e+00,  9.5548e-01,  1.3857e+00,\n",
      "         -1.4284e+00, -3.0575e+00, -3.1808e+00,  8.4505e-01, -6.6713e-01,\n",
      "         -1.1467e+00, -5.2933e-01,  1.3285e+00, -1.5348e+00, -1.1148e+00,\n",
      "          9.0067e-01,  8.6672e-01],\n",
      "        [-1.4052e+00,  1.9520e+00, -5.6360e-01, -4.6129e-01,  6.4996e-01,\n",
      "          5.4343e-01, -2.7850e+00, -1.6077e+00, -7.2575e-01, -2.7451e-01,\n",
      "         -1.6859e+00, -1.2960e+00,  1.5480e+00,  1.0275e+00,  3.5880e+00,\n",
      "         -6.6303e-03, -2.1376e+00, -2.7475e+00,  8.8063e-01, -6.0727e-01,\n",
      "         -1.8855e+00, -1.7790e+00, -1.3245e+00, -4.5752e+00, -3.9580e+00,\n",
      "         -3.0500e-02, -8.0185e-01],\n",
      "        [ 2.2400e+00,  1.3778e+00, -3.8983e+00, -2.4280e+00, -2.4044e-01,\n",
      "          1.8536e+00, -2.7139e+00, -2.0993e+00, -1.5093e+00,  1.7854e+00,\n",
      "         -3.6700e+00, -2.6327e+00, -4.6002e-01, -2.6242e+00,  1.8858e+00,\n",
      "         -4.7006e-01, -4.2360e+00, -4.4209e+00,  9.1031e-01, -6.3492e-01,\n",
      "          6.3450e-01, -1.5519e+00, -1.8381e+00, -2.0224e+00, -1.2961e+00,\n",
      "          1.3789e+00, -2.1197e+00],\n",
      "        [ 3.6433e+00,  3.3104e+00, -4.2733e+00, -2.6380e+00, -2.0697e+00,\n",
      "          3.2841e+00, -3.8591e+00, -3.5202e+00,  6.1341e-01,  1.6383e+00,\n",
      "         -4.2972e+00, -4.1284e+00, -3.0275e+00, -3.5740e+00,  5.3033e-02,\n",
      "          2.5035e+00, -2.5871e+00, -2.7405e+00, -3.4065e-01, -2.3860e+00,\n",
      "         -6.2116e-01,  8.0897e-01, -3.9359e+00, -1.8548e+00, -3.8606e+00,\n",
      "          1.4088e+00, -4.2597e+00],\n",
      "        [ 6.5539e-02,  2.3899e+00, -1.1294e+00, -8.3307e-01, -7.7855e-01,\n",
      "          2.7939e+00, -2.0190e+00, -1.5863e+00,  3.0434e+00,  1.4886e+00,\n",
      "         -2.9766e+00, -1.3420e+00, -9.4083e-02, -1.8712e+00, -1.8386e+00,\n",
      "          3.6464e-01, -1.8318e+00, -3.7057e+00, -3.9061e-01, -1.1073e+00,\n",
      "          6.8056e-01, -4.9346e-01, -2.7458e+00, -1.6739e+00, -3.6883e+00,\n",
      "         -5.2941e-01, -2.3769e+00],\n",
      "        [ 6.9116e-01,  1.7358e+00, -1.2945e+00,  3.1653e-01, -8.8589e-01,\n",
      "          1.7181e+00, -2.4933e+00, -1.4364e+00, -1.0640e+00, -6.5733e-01,\n",
      "         -2.1295e+00, -2.7613e-01,  4.1212e-01,  8.2423e-03,  1.1783e+00,\n",
      "          5.0053e-01, -1.9424e+00, -1.6391e+00, -6.2225e-01,  1.0247e+00,\n",
      "          1.2948e-01, -2.1590e+00, -2.0769e+00, -3.4250e+00, -2.3438e+00,\n",
      "          3.5515e-01, -1.4787e+00],\n",
      "        [-8.4007e-01,  1.1969e+00, -2.1439e+00, -5.8603e-01,  1.0340e+00,\n",
      "          3.9564e-01, -1.1409e+00,  5.2238e-01,  6.1446e-01,  1.1553e-01,\n",
      "         -1.0274e+00, -1.2158e+00, -7.1548e-01, -1.2204e+00,  1.7157e+00,\n",
      "          3.7487e-01, -1.0673e-01, -1.2854e+00,  6.7511e-01,  4.8194e-01,\n",
      "          1.6905e+00, -1.8722e+00, -7.0039e-01, -1.9361e+00, -2.2580e+00,\n",
      "         -3.0888e-01, -6.7751e-01],\n",
      "        [-1.7586e+00,  2.8632e+00,  1.4134e+00, -5.3312e-01, -2.6255e+00,\n",
      "         -1.0930e+00, -1.4836e+00,  1.4357e+00,  1.9609e-01, -5.0445e-01,\n",
      "          2.5619e+00, -3.5274e-01,  9.2172e-01, -4.9267e-01, -1.0925e+00,\n",
      "         -4.9239e-01, -2.8087e+00, -2.2556e+00, -4.8643e-01,  6.7310e-01,\n",
      "          6.5722e-01, -1.8049e+00,  8.5420e-01, -1.9572e+00,  3.8741e-02,\n",
      "          1.5915e+00,  5.5573e+00],\n",
      "        [ 8.6848e-02,  2.3821e+00, -1.8097e+00, -1.6826e+00, -2.7802e+00,\n",
      "          2.0119e+00, -2.8943e+00, -2.5725e+00,  2.0197e+00,  1.6124e+00,\n",
      "         -2.8582e+00, -1.1720e+00,  6.4725e-01, -2.3764e+00, -1.8403e+00,\n",
      "          1.1884e+00, -2.1117e+00, -3.1085e+00,  5.2772e-01, -1.6575e+00,\n",
      "          1.0087e+00, -1.8403e-01, -3.2234e+00, -1.9126e+00, -3.4725e+00,\n",
      "          1.1123e+00, -2.3515e+00],\n",
      "        [-2.4835e+00,  1.5237e+00, -1.1119e+00, -7.9411e-01, -2.4599e+00,\n",
      "          9.2935e-01, -3.6969e+00, -2.3760e+00,  3.0632e+00,  1.4621e+00,\n",
      "         -1.1732e+00,  8.5736e-01,  1.4188e+00,  3.4952e-01, -1.9532e+00,\n",
      "          8.2750e-01, -7.9597e-01, -2.1235e+00,  2.6434e-01,  3.2236e-01,\n",
      "          1.9314e+00, -7.2815e-01, -1.6780e+00, -1.8220e+00, -2.8311e+00,\n",
      "          3.5554e-01, -8.1206e-01],\n",
      "        [-2.9472e+00,  2.0301e+00, -2.5511e-01, -4.1125e-01, -5.8250e-01,\n",
      "          1.7749e+00, -2.6524e+00, -2.1097e+00, -1.2999e+00,  2.1404e+00,\n",
      "         -1.6418e+00, -9.2452e-02,  2.0608e+00, -3.4516e-01, -2.2366e+00,\n",
      "          1.2830e+00, -2.5477e+00, -3.3261e+00,  7.5678e-01, -1.0625e+00,\n",
      "         -3.9260e-01,  7.5588e-01, -2.3263e-01, -1.6827e+00, -2.2639e+00,\n",
      "          1.1816e+00, -1.7117e+00],\n",
      "        [ 2.3903e+00, -1.2213e-01, -1.2134e+00, -1.0849e+00,  4.8374e-01,\n",
      "         -1.4294e+00, -2.8474e+00, -2.1498e-01,  1.7885e+00, -7.1741e-01,\n",
      "         -2.7036e+00, -1.0642e+00,  1.2664e+00, -4.2082e-02,  4.0594e+00,\n",
      "         -1.6748e+00, -1.7767e+00, -2.3494e+00,  1.1871e+00,  7.9359e-01,\n",
      "          5.8555e-02, -1.6590e+00, -1.6688e+00, -3.4558e+00, -4.0812e+00,\n",
      "         -8.4728e-01, -6.1732e-01],\n",
      "        [-3.1445e+00,  8.5805e-01, -1.0027e+00, -3.9259e-01,  1.2665e+00,\n",
      "          2.0700e+00,  1.1176e-01, -8.7774e-01,  3.7538e-01, -1.6862e-01,\n",
      "          8.7031e-01,  2.4920e-01,  3.9874e-01,  3.4614e+00,  2.3123e+00,\n",
      "          3.2951e-01,  1.3330e+00, -4.8931e-01,  9.0243e-01, -4.1336e-01,\n",
      "         -1.9413e+00, -3.0064e+00, -1.4740e+00, -2.6124e+00, -3.0201e+00,\n",
      "         -6.9466e-01, -2.6571e+00],\n",
      "        [-2.0030e+00,  1.0576e+00,  1.7568e+00,  5.4027e-02,  2.1259e-01,\n",
      "          3.5076e-01, -1.2545e+00, -1.5865e+00,  1.7641e-01,  3.0571e-01,\n",
      "         -1.8114e+00, -1.0252e+00,  2.4669e+00,  9.5865e-01,  1.3457e+00,\n",
      "         -1.2549e+00, -1.1700e+00, -2.7450e+00,  2.1025e+00, -1.0224e+00,\n",
      "         -1.0007e+00, -8.3067e-01, -6.0271e-01, -2.3371e+00, -3.2471e+00,\n",
      "          4.6644e-02, -1.1124e+00],\n",
      "        [ 3.7302e+00,  2.8022e+00, -2.4794e+00, -1.3806e+00,  1.8092e-01,\n",
      "          1.0623e+00, -3.8189e+00, -2.9565e+00, -2.3089e+00,  7.7571e-01,\n",
      "         -3.4429e+00, -2.0963e+00,  1.6011e-01, -2.0379e+00,  2.9246e+00,\n",
      "          4.0736e-01, -4.1700e+00, -4.8027e+00, -1.0089e+00, -6.1606e-01,\n",
      "         -1.0155e+00, -9.9727e-01, -2.9122e+00, -3.7607e+00, -3.9221e+00,\n",
      "         -3.6601e-01, -1.6450e+00],\n",
      "        [-3.4852e+00,  1.7254e+00, -6.5320e-01, -4.1838e-01, -7.2191e-01,\n",
      "          1.8573e+00, -2.7665e+00, -1.7444e+00, -6.1690e-01,  2.8381e+00,\n",
      "         -6.8597e-01,  3.2355e-02,  1.5029e+00,  4.5087e-01, -1.4131e-01,\n",
      "          2.4235e-01, -2.3844e+00, -3.6365e+00,  7.1147e-01, -9.8844e-01,\n",
      "         -6.5091e-01, -2.0344e+00, -1.7114e+00, -3.1215e+00, -2.8251e+00,\n",
      "          1.1768e+00, -1.3040e+00],\n",
      "        [ 3.5131e+00,  3.8904e+00, -2.3209e+00, -9.4298e-01, -3.7318e-01,\n",
      "          2.7932e+00, -3.2397e+00, -6.2607e-01,  3.9706e-01,  7.2980e-01,\n",
      "         -1.1569e+00, -1.1590e+00, -1.4906e+00, -2.5051e+00,  1.4280e+00,\n",
      "          1.0046e+00, -3.9379e+00, -4.1086e+00, -2.6620e+00, -1.3414e+00,\n",
      "         -2.6681e+00, -2.4365e+00, -5.2947e+00, -5.7117e+00, -4.8716e+00,\n",
      "         -4.6482e-01, -2.2500e+00],\n",
      "        [ 1.7270e+00,  1.3419e-01, -1.6916e+00, -1.5111e+00, -3.4286e-01,\n",
      "          1.2101e+00, -2.6781e+00, -1.5461e+00, -1.4932e+00,  7.0089e-01,\n",
      "         -3.0088e+00, -9.9051e-01,  2.5260e+00, -4.6995e-01,  1.5791e+00,\n",
      "         -1.3756e+00, -4.0273e+00, -4.1561e+00,  9.3746e-01,  5.1871e-01,\n",
      "          7.4855e-01, -2.8791e+00, -1.7011e+00, -3.7235e+00, -1.6974e+00,\n",
      "          8.8608e-01, -1.1825e+00],\n",
      "        [-2.8348e+00,  1.2751e+00, -1.5006e-03,  1.0378e+00, -1.9917e+00,\n",
      "          2.8057e-01, -3.5986e+00, -7.7150e-01, -9.5708e-01,  1.4272e+00,\n",
      "          2.6795e+00,  1.9832e+00,  8.1472e-01,  6.0185e-01, -8.9226e-01,\n",
      "         -3.1291e-01, -2.9948e+00, -1.9668e+00, -1.1259e+00,  1.3440e+00,\n",
      "          8.6654e-01, -2.7661e+00, -4.4694e-01, -1.6245e+00,  1.3268e+00,\n",
      "          2.4589e+00,  2.9294e+00]], device='cuda:0')\n"
     ]
    },
    {
     "name": "stdin",
     "output_type": "stream",
     "text": [
      "ipdb>  y_logit.shape\n"
     ]
    },
    {
     "name": "stdout",
     "output_type": "stream",
     "text": [
      "torch.Size([32, 27])\n"
     ]
    },
    {
     "name": "stdin",
     "output_type": "stream",
     "text": [
      "ipdb>  y_logit.shape\n"
     ]
    },
    {
     "name": "stdout",
     "output_type": "stream",
     "text": [
      "torch.Size([32, 27])\n"
     ]
    },
    {
     "name": "stdin",
     "output_type": "stream",
     "text": [
      "ipdb>  q\n"
     ]
    }
   ],
   "source": [
    "%debug "
   ]
  },
  {
   "cell_type": "code",
   "execution_count": 121,
   "id": "da5b724b-52b3-4056-b30c-f259c342af18",
   "metadata": {},
   "outputs": [
    {
     "data": {
      "text/plain": [
       "torch.Size([9, 8])"
      ]
     },
     "execution_count": 121,
     "metadata": {},
     "output_type": "execute_result"
    }
   ],
   "source": [
    "X.shape"
   ]
  },
  {
   "cell_type": "code",
   "execution_count": 20,
   "id": "42717c27-7f82-44ce-8e83-446ab198bb2c",
   "metadata": {},
   "outputs": [
    {
     "data": {
      "text/plain": [
       "[<matplotlib.lines.Line2D at 0x140d1ae10>]"
      ]
     },
     "execution_count": 20,
     "metadata": {},
     "output_type": "execute_result"
    },
    {
     "data": {
      "image/png": "[encoded data removed]",
      "text/plain": [
       "<Figure size 800x300 with 1 Axes>"
      ]
     },
     "metadata": {},
     "output_type": "display_data"
    }
   ],
   "source": [
    "fig, ax = plt.subplots(1,1,figsize=(8,3))\n",
    "ax.plot(torch.as_tensor(losses).view(-1, 20).mean(1))"
   ]
  },
  {
   "cell_type": "code",
   "execution_count": 235,
   "id": "bd3e0312-a444-4f58-ac70-50a9692a435c",
   "metadata": {},
   "outputs": [
    {
     "data": {
      "text/plain": [
       "[<matplotlib.lines.Line2D at 0x286805250>]"
      ]
     },
     "execution_count": 235,
     "metadata": {},
     "output_type": "execute_result"
    },
    {
     "data": {
      "image/png": "[encoded data removed]",
      "text/plain": [
       "<Figure size 800x300 with 1 Axes>"
      ]
     },
     "metadata": {},
     "output_type": "display_data"
    }
   ],
   "source": [
    "fig, ax = plt.subplots(1,1,figsize=(8,3))\n",
    "ax.plot(torch.as_tensor(losses).view(-1, 20).mean(1))"
   ]
  },
  {
   "cell_type": "code",
   "execution_count": 239,
   "id": "4a7648f1-d264-4a80-88fc-14c7b196c08d",
   "metadata": {},
   "outputs": [
    {
     "data": {
      "text/plain": [
       "\"rifave tentha n is il tinoue, l ie s tot SAnt fos oowi'ste n cilld harr tet; be s h grors ake, he kik\\nF f foxthe iverrfeoran ce fisin suean;\\nhe: w honous, gen har warry s, t horol mbleliglllly s mes PONoseaingn, matherds\\nAUThaved RIO,\\nAs!\\nThour.\\nHUCis;\\nThie INGo;\\nBE: foladopefit, pit se adve, h hatriernoay lecet asby wbe ff;\\nA G tajou l\\n\\n\\nRO:\\nI l ags fandet VIShill.\\nMathalemu\\nOLAREWre ld MPred se mousoteall, mst, te d s I ts fl hat;\\nCAnd tousenconowakesim,\\nThur ve rorecthithase; gug mpplyo arean GBunok I MPRDWeag s haughe LI d thar,\\n\\nTUSetar want-t it t INThesetre wne tove ave hatt as y e y, d lpa brimugnd prd\\nANThous mevol m ondeenermaverthimo tanin-m h mefry sot y und, our tar ck Hounghathe wirismyo wacevart.\\nS:\\nTourdertly t---dooandiromo 'sashashyor te pel mar, de't;\\nGAPr d:\\nR:\\n\\nMENoun tr-\\n\\nCEDWhin soucovene mumetolotours ge; be ve tootulyl oo'meantuaize sst en! IStoun, anis fund! he Wrd, binglt theel nt hiovave d ar, himas my, thashes.\\nTwht! s.\\nKIINCKENI in mfapa dou ng\\nAste wig nc\""
      ]
     },
     "execution_count": 239,
     "metadata": {},
     "output_type": "execute_result"
    }
   ],
   "source": [
    "''.join(ds_train.decode(model.predict(X, 1000)[0]))"
   ]
  },
  {
   "cell_type": "code",
   "execution_count": null,
   "id": "062cf9dc-dad1-48c1-8275-dbe2a931977c",
   "metadata": {},
   "outputs": [],
   "source": []
  },
  {
   "cell_type": "code",
   "execution_count": null,
   "id": "002c79f0-de83-4ad5-a3fc-90c1cede608e",
   "metadata": {},
   "outputs": [],
   "source": []
  },
  {
   "cell_type": "code",
   "execution_count": null,
   "id": "e4ae632a-06d1-43ea-8e80-d2d6432848fb",
   "metadata": {},
   "outputs": [],
   "source": []
  },
  {
   "cell_type": "code",
   "execution_count": 40,
   "id": "401a3281-ef68-4113-ada0-91f28327a040",
   "metadata": {},
   "outputs": [
    {
     "data": {
      "text/plain": [
       "torch.Size([1, 8, 65])"
      ]
     },
     "execution_count": 40,
     "metadata": {},
     "output_type": "execute_result"
    }
   ],
   "source": [
    "y_logit.shape"
   ]
  }
 ],
 "metadata": {
  "kernelspec": {
   "display_name": "Python 3 (ipykernel)",
   "language": "python",
   "name": "python3"
  },
  "language_info": {
   "codemirror_mode": {
    "name": "ipython",
    "version": 3
   },
   "file_extension": ".py",
   "mimetype": "text/x-python",
   "name": "python",
   "nbconvert_exporter": "python",
   "pygments_lexer": "ipython3",
   "version": "3.10.12"
  }
 },
 "nbformat": 4,
 "nbformat_minor": 5
}
