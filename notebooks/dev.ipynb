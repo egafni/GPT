{
 "cells": [
  {
   "cell_type": "code",
   "execution_count": 1,
   "id": "5a03e98b-e538-4246-8ea7-3fc5fa6d4194",
   "metadata": {},
   "outputs": [],
   "source": [
    "\"\"\"\n",
    "1. Make a simple bigram model\n",
    "2. Do a mlp model\n",
    "2. Do a wavenet model\n",
    "3. Do a GPT model\n",
    "\"\"\"\n",
    "%load_ext autoreload\n",
    "%autoreload 2"
   ]
  },
  {
   "cell_type": "code",
   "execution_count": 2,
   "id": "6a1d6ac2-8472-42d2-bc50-6501f3c3c040",
   "metadata": {},
   "outputs": [],
   "source": [
    "import torch\n",
    "from torch import nn\n",
    "from dataclasses import dataclass\n",
    "import numpy as np\n",
    "from torch.utils.data import Dataset\n",
    "from torch.utils.data import DataLoader\n",
    "import matplotlib.pyplot as plt\n",
    "@dataclass\n",
    "class Config:\n",
    "    batch_size: int\n",
    "\n",
    "@torch.no_grad\n",
    "@torch.inference_mode\n",
    "def eval():\n",
    "    losses = []\n",
    "    for X, Y in iter(dl_val):\n",
    "        y_logit, loss = model(X, Y)\n",
    "        losses.append(loss.item())\n",
    "    return torch.mean(torch.tensor(losses)).item()\n",
    "\n",
    "batch_size=32\n",
    "block_size=8"
   ]
  },
  {
   "cell_type": "code",
   "execution_count": 3,
   "id": "20dd5925-9488-4ab3-b29b-fc99eddfaad8",
   "metadata": {},
   "outputs": [],
   "source": [
    "# !wget https://raw.githubusercontent.com/karpathy/makemore/master/names.txt\n",
    "# !wget https://raw.githubusercontent.com/karpathy/char-rnn/master/data/tinyshakespeare/input.txt"
   ]
  },
  {
   "cell_type": "code",
   "execution_count": 4,
   "id": "c2365901-f676-4df9-9b6d-a261fc5cffd5",
   "metadata": {},
   "outputs": [],
   "source": [
    "from gpt.bigram import BiGram, MLP\n",
    "from gpt.data import TextDataset\n",
    "torch.optim.lr_scheduler.StepLR\n",
    "\n",
    "ds_train = TextDataset('names.txt','train', block_size=block_size)\n",
    "ds_val = TextDataset('names.txt','val', block_size=block_size)\n",
    "\n",
    "dl_train = DataLoader(ds_train, batch_size=batch_size, shuffle=True)\n",
    "dl_val = DataLoader(ds_val, batch_size=batch_size, shuffle=True)\n",
    "vocab_size = len(ds_train.vocab)"
   ]
  },
  {
   "cell_type": "code",
   "execution_count": 37,
   "id": "62bd7147-5c73-4ab2-a590-117c40135800",
   "metadata": {},
   "outputs": [],
   "source": [
    "device = torch.device(\"cpu\")\n",
    "# model = BiGram(vocab_size)\n",
    "model = MLP(vocab_size)\n",
    "model = model.to(device)\n",
    "if hasattr(model,'seq'):\n",
    "    with torch.no_grad():\n",
    "      model.seq[-1].weight *= 0.1 # last layer make less confident\n",
    "\n",
    "optimizer = torch.optim.AdamW(model.parameters(), lr=1e-3)\n",
    "scheduler = torch.optim.lr_scheduler.StepLR(optimizer, step_size=100)\n",
    "train_losses = []\n",
    "val_losses = {}"
   ]
  },
  {
   "cell_type": "code",
   "execution_count": 35,
   "id": "114b5f2d-9b4d-4ff1-b6d3-e7c0b1311ff1",
   "metadata": {},
   "outputs": [
    {
     "data": {
      "text/plain": [
       "0.001"
      ]
     },
     "execution_count": 35,
     "metadata": {},
     "output_type": "execute_result"
    }
   ],
   "source": []
  },
  {
   "cell_type": "code",
   "execution_count": 38,
   "id": "8ad6da87-2c47-42b0-aff1-148e0ecc71a6",
   "metadata": {},
   "outputs": [
    {
     "name": "stdout",
     "output_type": "stream",
     "text": [
      "1:1000|s=1000 loss: 2.5522735118865967 val_loss: 2.6233303546905518 lr: 1.0000000000000007e-13\n",
      "1:2000|s=2000 loss: 2.4919092655181885 val_loss: 2.623365879058838 lr: 1.0000000000000013e-23\n"
     ]
    },
    {
     "ename": "KeyboardInterrupt",
     "evalue": "",
     "output_type": "error",
     "traceback": [
      "\u001b[0;31m---------------------------------------------------------------------------\u001b[0m",
      "\u001b[0;31mKeyboardInterrupt\u001b[0m                         Traceback (most recent call last)",
      "Cell \u001b[0;32mIn[38], line 16\u001b[0m\n\u001b[1;32m     13\u001b[0m \u001b[38;5;66;03m# break\u001b[39;00m\n\u001b[1;32m     15\u001b[0m optimizer\u001b[38;5;241m.\u001b[39mzero_grad(\u001b[38;5;28;01mTrue\u001b[39;00m)\n\u001b[0;32m---> 16\u001b[0m \u001b[43mloss\u001b[49m\u001b[38;5;241;43m.\u001b[39;49m\u001b[43mbackward\u001b[49m\u001b[43m(\u001b[49m\u001b[43m)\u001b[49m\n\u001b[1;32m     17\u001b[0m optimizer\u001b[38;5;241m.\u001b[39mstep()\n\u001b[1;32m     18\u001b[0m scheduler\u001b[38;5;241m.\u001b[39mstep()\n",
      "File \u001b[0;32m~/Library/Caches/pypoetry/virtualenvs/gpt-cENg_XSr-py3.11/lib/python3.11/site-packages/torch/_tensor.py:492\u001b[0m, in \u001b[0;36mTensor.backward\u001b[0;34m(self, gradient, retain_graph, create_graph, inputs)\u001b[0m\n\u001b[1;32m    482\u001b[0m \u001b[38;5;28;01mif\u001b[39;00m has_torch_function_unary(\u001b[38;5;28mself\u001b[39m):\n\u001b[1;32m    483\u001b[0m     \u001b[38;5;28;01mreturn\u001b[39;00m handle_torch_function(\n\u001b[1;32m    484\u001b[0m         Tensor\u001b[38;5;241m.\u001b[39mbackward,\n\u001b[1;32m    485\u001b[0m         (\u001b[38;5;28mself\u001b[39m,),\n\u001b[0;32m   (...)\u001b[0m\n\u001b[1;32m    490\u001b[0m         inputs\u001b[38;5;241m=\u001b[39minputs,\n\u001b[1;32m    491\u001b[0m     )\n\u001b[0;32m--> 492\u001b[0m \u001b[43mtorch\u001b[49m\u001b[38;5;241;43m.\u001b[39;49m\u001b[43mautograd\u001b[49m\u001b[38;5;241;43m.\u001b[39;49m\u001b[43mbackward\u001b[49m\u001b[43m(\u001b[49m\n\u001b[1;32m    493\u001b[0m \u001b[43m    \u001b[49m\u001b[38;5;28;43mself\u001b[39;49m\u001b[43m,\u001b[49m\u001b[43m \u001b[49m\u001b[43mgradient\u001b[49m\u001b[43m,\u001b[49m\u001b[43m \u001b[49m\u001b[43mretain_graph\u001b[49m\u001b[43m,\u001b[49m\u001b[43m \u001b[49m\u001b[43mcreate_graph\u001b[49m\u001b[43m,\u001b[49m\u001b[43m \u001b[49m\u001b[43minputs\u001b[49m\u001b[38;5;241;43m=\u001b[39;49m\u001b[43minputs\u001b[49m\n\u001b[1;32m    494\u001b[0m \u001b[43m\u001b[49m\u001b[43m)\u001b[49m\n",
      "File \u001b[0;32m~/Library/Caches/pypoetry/virtualenvs/gpt-cENg_XSr-py3.11/lib/python3.11/site-packages/torch/autograd/__init__.py:251\u001b[0m, in \u001b[0;36mbackward\u001b[0;34m(tensors, grad_tensors, retain_graph, create_graph, grad_variables, inputs)\u001b[0m\n\u001b[1;32m    246\u001b[0m     retain_graph \u001b[38;5;241m=\u001b[39m create_graph\n\u001b[1;32m    248\u001b[0m \u001b[38;5;66;03m# The reason we repeat the same comment below is that\u001b[39;00m\n\u001b[1;32m    249\u001b[0m \u001b[38;5;66;03m# some Python versions print out the first line of a multi-line function\u001b[39;00m\n\u001b[1;32m    250\u001b[0m \u001b[38;5;66;03m# calls in the traceback and some print out the last line\u001b[39;00m\n\u001b[0;32m--> 251\u001b[0m \u001b[43mVariable\u001b[49m\u001b[38;5;241;43m.\u001b[39;49m\u001b[43m_execution_engine\u001b[49m\u001b[38;5;241;43m.\u001b[39;49m\u001b[43mrun_backward\u001b[49m\u001b[43m(\u001b[49m\u001b[43m  \u001b[49m\u001b[38;5;66;43;03m# Calls into the C++ engine to run the backward pass\u001b[39;49;00m\n\u001b[1;32m    252\u001b[0m \u001b[43m    \u001b[49m\u001b[43mtensors\u001b[49m\u001b[43m,\u001b[49m\n\u001b[1;32m    253\u001b[0m \u001b[43m    \u001b[49m\u001b[43mgrad_tensors_\u001b[49m\u001b[43m,\u001b[49m\n\u001b[1;32m    254\u001b[0m \u001b[43m    \u001b[49m\u001b[43mretain_graph\u001b[49m\u001b[43m,\u001b[49m\n\u001b[1;32m    255\u001b[0m \u001b[43m    \u001b[49m\u001b[43mcreate_graph\u001b[49m\u001b[43m,\u001b[49m\n\u001b[1;32m    256\u001b[0m \u001b[43m    \u001b[49m\u001b[43minputs\u001b[49m\u001b[43m,\u001b[49m\n\u001b[1;32m    257\u001b[0m \u001b[43m    \u001b[49m\u001b[43mallow_unreachable\u001b[49m\u001b[38;5;241;43m=\u001b[39;49m\u001b[38;5;28;43;01mTrue\u001b[39;49;00m\u001b[43m,\u001b[49m\n\u001b[1;32m    258\u001b[0m \u001b[43m    \u001b[49m\u001b[43maccumulate_grad\u001b[49m\u001b[38;5;241;43m=\u001b[39;49m\u001b[38;5;28;43;01mTrue\u001b[39;49;00m\u001b[43m,\u001b[49m\n\u001b[1;32m    259\u001b[0m \u001b[43m\u001b[49m\u001b[43m)\u001b[49m\n",
      "\u001b[0;31mKeyboardInterrupt\u001b[0m: "
     ]
    }
   ],
   "source": [
    "# n_steps = 100000\n",
    "max_epochs = 20\n",
    "eval_freq = 1000\n",
    "step = 0\n",
    "done = False\n",
    "for epoch in range(1, max_epochs+1):\n",
    "    for i, (X,Y) in enumerate(iter(dl_train), start=1):\n",
    "        step += 1\n",
    "        # break\n",
    "        X = X.to(device)\n",
    "        Y = Y.to(device)\n",
    "        y_logit, loss = model(X, Y)\n",
    "        # break\n",
    "        \n",
    "        optimizer.zero_grad(True)\n",
    "        loss.backward()\n",
    "        optimizer.step()\n",
    "        scheduler.step()\n",
    "    \n",
    "        if step % eval_freq == 0:\n",
    "            val_loss = eval()\n",
    "            val_losses[step] = val_loss\n",
    "            lr = optimizer.param_groups[0]['lr']\n",
    "            print(f'{epoch}:{i}|s={step} loss: {loss.item()} val_loss: {val_loss} lr: {lr}')\n",
    "            \n",
    "        train_losses.append(float(loss))\n",
    "                \n",
    "    print('epoch done')\n"
   ]
  },
  {
   "cell_type": "code",
   "execution_count": 26,
   "id": "a7f7e639-453f-4e83-866a-e6d67eda1960",
   "metadata": {},
   "outputs": [
    {
     "data": {
      "text/plain": [
       "MLP(\n",
       "  (seq): Sequential(\n",
       "    (0): Embedding(27, 128)\n",
       "    (1): Linear(in_features=128, out_features=128, bias=True)\n",
       "    (2): Permute()\n",
       "    (3): BatchNorm1d(128, eps=1e-05, momentum=0.1, affine=True, track_running_stats=True)\n",
       "    (4): Permute()\n",
       "    (5): Tanh()\n",
       "    (6): Linear(in_features=128, out_features=128, bias=True)\n",
       "    (7): Permute()\n",
       "    (8): BatchNorm1d(128, eps=1e-05, momentum=0.1, affine=True, track_running_stats=True)\n",
       "    (9): Permute()\n",
       "    (10): Tanh()\n",
       "    (11): Linear(in_features=128, out_features=27, bias=True)\n",
       "  )\n",
       ")"
      ]
     },
     "execution_count": 26,
     "metadata": {},
     "output_type": "execute_result"
    }
   ],
   "source": [
    "model"
   ]
  },
  {
   "cell_type": "code",
   "execution_count": 27,
   "id": "cfc16f9e-1fbc-44c6-b49d-66cc0463d312",
   "metadata": {},
   "outputs": [],
   "source": [
    "# list(model.parameters())[0].var(0)"
   ]
  },
  {
   "cell_type": "code",
   "execution_count": 28,
   "id": "d8c2db5c-a8f8-412b-b41a-494c6ca2337f",
   "metadata": {},
   "outputs": [
    {
     "data": {
      "text/plain": [
       "[<matplotlib.lines.Line2D at 0x16b5e4250>]"
      ]
     },
     "execution_count": 28,
     "metadata": {},
     "output_type": "execute_result"
    },
    {
     "data": {
      "image/png": "[encoded data removed]",
      "text/plain": [
       "<Figure size 800x300 with 1 Axes>"
      ]
     },
     "metadata": {},
     "output_type": "display_data"
    }
   ],
   "source": [
    "from scipy.signal import savgol_filter\n",
    "train_losses_smoothed = savgol_filter(train_losses, 100, 1)\n",
    "fig, ax = plt.subplots(1,1,figsize=(8,3))\n",
    "i = list(range(0, len(train_losses), eval_freq))\n",
    "ax.plot(train_losses_smoothed)\n",
    "ax.plot(val_losses.keys(),val_losses.values())"
   ]
  },
  {
   "cell_type": "code",
   "execution_count": 12,
   "id": "8507680a-80f1-4563-b2c4-c7f3affa4955",
   "metadata": {},
   "outputs": [
    {
     "data": {
      "text/plain": [
       "(tensor([14, 21,  5, 12,  0,  1, 14, 19]),\n",
       " tensor([21,  5, 12,  0,  1, 14, 19, 21]))"
      ]
     },
     "execution_count": 12,
     "metadata": {},
     "output_type": "execute_result"
    }
   ],
   "source": [
    "ds_val[0]"
   ]
  },
  {
   "cell_type": "code",
   "execution_count": 13,
   "id": "efcd084a-265e-4943-9718-d42afb80ca6c",
   "metadata": {},
   "outputs": [
    {
     "name": "stdout",
     "output_type": "stream",
     "text": [
      "yal\n",
      "aroamaqusicanynande\n",
      "gevwayar\n",
      "fil\n",
      "a\n",
      "han\n",
      "pobruemna\n",
      "geiyn\n",
      "elynan\n",
      "s\n",
      "ela\n",
      "ceriekanyarllel\n",
      "brrolasvaniaha\n",
      "myakahoratazwenonth\n",
      "r\n",
      "ariedenetahoreh\n",
      "n\n",
      "aiogramayn\n",
      "x\n",
      "aytaniayahangon\n",
      "epah\n",
      "gran\n",
      "deay\n",
      "lerusan\n",
      "maerailalon\n",
      "ayabrus\n",
      "ylle\n",
      "sly\n",
      "aly\n",
      "arsatssetoha\n",
      "sanaifambade\n",
      "maduoy\n",
      "cema\n",
      "zuk\n",
      "bignde\n",
      "son\n",
      "b\n",
      "rro\n",
      "kovigian\n",
      "wh\n",
      "juryn\n",
      "eam\n",
      "co\n",
      "aman\n",
      "ckestth\n",
      "beren\n",
      "zianoamicaumiitlerlyn\n",
      "gi\n",
      "belajole\n",
      "bana\n",
      "aqueilya\n",
      "t\n",
      "briyn\n",
      "n\n",
      "etha\n",
      "stzeren\n",
      "alariseaylas\n",
      "le\n",
      "ierierlaavelen\n",
      "peat\n",
      "enshai\n",
      "kian\n",
      "beryn\n",
      "ereyshttittrie\n",
      "phe\n",
      "ricke\n",
      "lar\n",
      "cer\n",
      "ajon\n",
      "distalelelumaramcabra\n",
      "llonca\n",
      "janynigi\n",
      "ara\n",
      "fareginala\n",
      "toesarthan\n",
      "ta\n",
      "kyeaainn\n",
      "ylimi\n",
      "mow\n",
      "d\n",
      "cor\n",
      "malismiaman\n",
      "kularon\n",
      "lcavi\n",
      "anemalynckenazetilysite\n",
      "conesh\n",
      "elia\n",
      "llli\n",
      "a\n",
      "lllor\n",
      "ceyr\n",
      "figisen\n",
      "mayr\n",
      "kicen\n",
      "ze\n",
      "sen\n",
      "kide\n",
      "dielisiealyaz\n",
      "vieleaynerarinaai\n",
      "tabinenas\n",
      "benyarinaya\n",
      "saral\n",
      "zan\n",
      "ara\n",
      "n\n",
      "linahan\n",
      "aroria\n",
      "ctophe\n",
      "a\n",
      "a\n",
      "myeligrama\n",
      "sa\n",
      "s\n",
      "zan\n",
      "lele\n",
      "s\n",
      "zilannnamalme\n",
      "lisa\n",
      "ma\n",
      "s\n",
      "rin\n",
      "mi\n",
      "domdllelfet\n",
      "julay\n",
      "kisoieyahn\n",
      "prika\n",
      "chveranyma\n",
      "hi\n",
      "ce\n",
      "pan\n",
      "b\n",
      "cqucoroniahnahyllideiyiscad\n",
      "anann\n",
      "kayaegwayliyna\n",
      "toniyoin\n",
      "syaronn\n",
      "w\n",
      "manemamacovi\n",
      "calyie\n",
      "lar\n"
     ]
    }
   ],
   "source": [
    "x = ds_val[0][0].unsqueeze(0)\n",
    "y_pred = model.predict(X, 1000)\n",
    "print(''.join(ds_train.decode(y_pred[0])))"
   ]
  },
  {
   "cell_type": "code",
   "execution_count": 121,
   "id": "da5b724b-52b3-4056-b30c-f259c342af18",
   "metadata": {},
   "outputs": [
    {
     "data": {
      "text/plain": [
       "torch.Size([9, 8])"
      ]
     },
     "execution_count": 121,
     "metadata": {},
     "output_type": "execute_result"
    }
   ],
   "source": [
    "X.shape"
   ]
  },
  {
   "cell_type": "code",
   "execution_count": 20,
   "id": "42717c27-7f82-44ce-8e83-446ab198bb2c",
   "metadata": {},
   "outputs": [
    {
     "data": {
      "text/plain": [
       "[<matplotlib.lines.Line2D at 0x140d1ae10>]"
      ]
     },
     "execution_count": 20,
     "metadata": {},
     "output_type": "execute_result"
    },
    {
     "data": {
      "image/png": "[encoded data removed]",
      "text/plain": [
       "<Figure size 800x300 with 1 Axes>"
      ]
     },
     "metadata": {},
     "output_type": "display_data"
    }
   ],
   "source": [
    "fig, ax = plt.subplots(1,1,figsize=(8,3))\n",
    "ax.plot(torch.as_tensor(losses).view(-1, 20).mean(1))"
   ]
  },
  {
   "cell_type": "code",
   "execution_count": 235,
   "id": "bd3e0312-a444-4f58-ac70-50a9692a435c",
   "metadata": {},
   "outputs": [
    {
     "data": {
      "text/plain": [
       "[<matplotlib.lines.Line2D at 0x286805250>]"
      ]
     },
     "execution_count": 235,
     "metadata": {},
     "output_type": "execute_result"
    },
    {
     "data": {
      "image/png": "[encoded data removed]",
      "text/plain": [
       "<Figure size 800x300 with 1 Axes>"
      ]
     },
     "metadata": {},
     "output_type": "display_data"
    }
   ],
   "source": [
    "fig, ax = plt.subplots(1,1,figsize=(8,3))\n",
    "ax.plot(torch.as_tensor(losses).view(-1, 20).mean(1))"
   ]
  },
  {
   "cell_type": "code",
   "execution_count": 239,
   "id": "4a7648f1-d264-4a80-88fc-14c7b196c08d",
   "metadata": {},
   "outputs": [
    {
     "data": {
      "text/plain": [
       "\"rifave tentha n is il tinoue, l ie s tot SAnt fos oowi'ste n cilld harr tet; be s h grors ake, he kik\\nF f foxthe iverrfeoran ce fisin suean;\\nhe: w honous, gen har warry s, t horol mbleliglllly s mes PONoseaingn, matherds\\nAUThaved RIO,\\nAs!\\nThour.\\nHUCis;\\nThie INGo;\\nBE: foladopefit, pit se adve, h hatriernoay lecet asby wbe ff;\\nA G tajou l\\n\\n\\nRO:\\nI l ags fandet VIShill.\\nMathalemu\\nOLAREWre ld MPred se mousoteall, mst, te d s I ts fl hat;\\nCAnd tousenconowakesim,\\nThur ve rorecthithase; gug mpplyo arean GBunok I MPRDWeag s haughe LI d thar,\\n\\nTUSetar want-t it t INThesetre wne tove ave hatt as y e y, d lpa brimugnd prd\\nANThous mevol m ondeenermaverthimo tanin-m h mefry sot y und, our tar ck Hounghathe wirismyo wacevart.\\nS:\\nTourdertly t---dooandiromo 'sashashyor te pel mar, de't;\\nGAPr d:\\nR:\\n\\nMENoun tr-\\n\\nCEDWhin soucovene mumetolotours ge; be ve tootulyl oo'meantuaize sst en! IStoun, anis fund! he Wrd, binglt theel nt hiovave d ar, himas my, thashes.\\nTwht! s.\\nKIINCKENI in mfapa dou ng\\nAste wig nc\""
      ]
     },
     "execution_count": 239,
     "metadata": {},
     "output_type": "execute_result"
    }
   ],
   "source": [
    "''.join(ds_train.decode(model.predict(X, 1000)[0]))"
   ]
  },
  {
   "cell_type": "code",
   "execution_count": null,
   "id": "062cf9dc-dad1-48c1-8275-dbe2a931977c",
   "metadata": {},
   "outputs": [],
   "source": []
  },
  {
   "cell_type": "code",
   "execution_count": null,
   "id": "002c79f0-de83-4ad5-a3fc-90c1cede608e",
   "metadata": {},
   "outputs": [],
   "source": []
  },
  {
   "cell_type": "code",
   "execution_count": null,
   "id": "e4ae632a-06d1-43ea-8e80-d2d6432848fb",
   "metadata": {},
   "outputs": [],
   "source": []
  },
  {
   "cell_type": "code",
   "execution_count": 40,
   "id": "401a3281-ef68-4113-ada0-91f28327a040",
   "metadata": {},
   "outputs": [
    {
     "data": {
      "text/plain": [
       "torch.Size([1, 8, 65])"
      ]
     },
     "execution_count": 40,
     "metadata": {},
     "output_type": "execute_result"
    }
   ],
   "source": [
    "y_logit.shape"
   ]
  }
 ],
 "metadata": {
  "kernelspec": {
   "display_name": "Python 3 (ipykernel)",
   "language": "python",
   "name": "python3"
  },
  "language_info": {
   "codemirror_mode": {
    "name": "ipython",
    "version": 3
   },
   "file_extension": ".py",
   "mimetype": "text/x-python",
   "name": "python",
   "nbconvert_exporter": "python",
   "pygments_lexer": "ipython3",
   "version": "3.11.6"
  }
 },
 "nbformat": 4,
 "nbformat_minor": 5
}
