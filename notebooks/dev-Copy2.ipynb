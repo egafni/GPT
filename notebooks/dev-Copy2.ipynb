{
 "cells": [
  {
   "cell_type": "code",
   "execution_count": 6,
   "id": "5a03e98b-e538-4246-8ea7-3fc5fa6d4194",
   "metadata": {},
   "outputs": [
    {
     "name": "stdout",
     "output_type": "stream",
     "text": [
      "The autoreload extension is already loaded. To reload it, use:\n",
      "  %reload_ext autoreload\n"
     ]
    }
   ],
   "source": [
    "\"\"\"\n",
    "1. Make a simple bigram model\n",
    "2. Do a mlp model\n",
    "2. Do a wavenet model\n",
    "3. Do a GPT model\n",
    "\"\"\"\n",
    "%load_ext autoreload\n",
    "%autoreload 2"
   ]
  },
  {
   "cell_type": "code",
   "execution_count": 15,
   "id": "6a1d6ac2-8472-42d2-bc50-6501f3c3c040",
   "metadata": {},
   "outputs": [],
   "source": [
    "import torch\n",
    "from torch import nn\n",
    "from dataclasses import dataclass\n",
    "import numpy as np\n",
    "from torch.utils.data import Dataset\n",
    "from torch.utils.data import DataLoader\n",
    "import matplotlib.pyplot as plt\n",
    "import torch.nn.functional as F\n",
    "import pandas as pd\n",
    "from gpt.bigram import BiGram, MLP, WaveNet\n",
    "from gpt.data import TextDataset\n",
    "from gpt.wavenet import make_wavenet\n",
    "from gpt.utils import model_info\n",
    "\n",
    "@torch.no_grad()\n",
    "@torch.inference_mode()\n",
    "def eval(device):\n",
    "    losses = []\n",
    "    for X, Y in iter(dl_val):\n",
    "        X = X.to(device)\n",
    "        Y = Y.to(device)\n",
    "        y_logit, loss = model(X, Y)\n",
    "        losses.append(loss.item())\n",
    "    return torch.mean(torch.tensor(losses)).item()\n"
   ]
  },
  {
   "cell_type": "code",
   "execution_count": 16,
   "id": "20dd5925-9488-4ab3-b29b-fc99eddfaad8",
   "metadata": {},
   "outputs": [],
   "source": [
    "# !wget https://raw.githubusercontent.com/karpathy/makemore/master/names.txt\n",
    "# !wget https://raw.githubusercontent.com/karpathy/char-rnn/master/data/tinyshakespeare/input.txt\n",
    "\n",
    "batch_size=32\n",
    "block_size=8\n",
    "n_embd=24\n",
    "n_hidden=128"
   ]
  },
  {
   "cell_type": "code",
   "execution_count": 17,
   "id": "c2365901-f676-4df9-9b6d-a261fc5cffd5",
   "metadata": {},
   "outputs": [],
   "source": [
    "ds_train = TextDataset('names.txt','train', block_size=block_size)\n",
    "ds_val = TextDataset('names.txt','val', block_size=block_size)\n",
    "\n",
    "dl_train = DataLoader(ds_train, batch_size=batch_size, shuffle=True)\n",
    "dl_val = DataLoader(ds_val, batch_size=batch_size, shuffle=True)\n",
    "vocab_size = len(ds_train.vocab)"
   ]
  },
  {
   "cell_type": "code",
   "execution_count": 35,
   "id": "6f18ac07-674d-4c5d-95d1-04e1c4c808c7",
   "metadata": {},
   "outputs": [
    {
     "name": "stdout",
     "output_type": "stream",
     "text": [
      "62627\n"
     ]
    },
    {
     "data": {
      "text/html": [
       "<div>\n",
       "<style scoped>\n",
       "    .dataframe tbody tr th:only-of-type {\n",
       "        vertical-align: middle;\n",
       "    }\n",
       "\n",
       "    .dataframe tbody tr th {\n",
       "        vertical-align: top;\n",
       "    }\n",
       "\n",
       "    .dataframe thead th {\n",
       "        text-align: right;\n",
       "    }\n",
       "</style>\n",
       "<table border=\"1\" class=\"dataframe\">\n",
       "  <thead>\n",
       "    <tr style=\"text-align: right;\">\n",
       "      <th></th>\n",
       "      <th>name</th>\n",
       "      <th>out_size</th>\n",
       "      <th>params</th>\n",
       "      <th>nparams</th>\n",
       "    </tr>\n",
       "  </thead>\n",
       "  <tbody>\n",
       "    <tr>\n",
       "      <th>0</th>\n",
       "      <td>X</td>\n",
       "      <td>(32, 8)</td>\n",
       "      <td>NaN</td>\n",
       "      <td>NaN</td>\n",
       "    </tr>\n",
       "    <tr>\n",
       "      <th>1</th>\n",
       "      <td>Embedding</td>\n",
       "      <td>(32, 8, 24)</td>\n",
       "      <td>{'weight': (27, 24)}</td>\n",
       "      <td>648.0</td>\n",
       "    </tr>\n",
       "    <tr>\n",
       "      <th>2</th>\n",
       "      <td>Flatten</td>\n",
       "      <td>(32, 192)</td>\n",
       "      <td>{}</td>\n",
       "      <td>0.0</td>\n",
       "    </tr>\n",
       "    <tr>\n",
       "      <th>3</th>\n",
       "      <td>Linear</td>\n",
       "      <td>(32, 128)</td>\n",
       "      <td>{'weight': (128, 192), 'bias': (128,)}</td>\n",
       "      <td>24704.0</td>\n",
       "    </tr>\n",
       "    <tr>\n",
       "      <th>4</th>\n",
       "      <td>BatchNorm1d</td>\n",
       "      <td>(32, 128)</td>\n",
       "      <td>{'weight': (128,), 'bias': (128,)}</td>\n",
       "      <td>256.0</td>\n",
       "    </tr>\n",
       "    <tr>\n",
       "      <th>5</th>\n",
       "      <td>Tanh</td>\n",
       "      <td>(32, 128)</td>\n",
       "      <td>{}</td>\n",
       "      <td>0.0</td>\n",
       "    </tr>\n",
       "    <tr>\n",
       "      <th>6</th>\n",
       "      <td>Linear</td>\n",
       "      <td>(32, 128)</td>\n",
       "      <td>{'weight': (128, 128), 'bias': (128,)}</td>\n",
       "      <td>16512.0</td>\n",
       "    </tr>\n",
       "    <tr>\n",
       "      <th>7</th>\n",
       "      <td>BatchNorm1d</td>\n",
       "      <td>(32, 128)</td>\n",
       "      <td>{'weight': (128,), 'bias': (128,)}</td>\n",
       "      <td>256.0</td>\n",
       "    </tr>\n",
       "    <tr>\n",
       "      <th>8</th>\n",
       "      <td>Tanh</td>\n",
       "      <td>(32, 128)</td>\n",
       "      <td>{}</td>\n",
       "      <td>0.0</td>\n",
       "    </tr>\n",
       "    <tr>\n",
       "      <th>9</th>\n",
       "      <td>Linear</td>\n",
       "      <td>(32, 128)</td>\n",
       "      <td>{'weight': (128, 128), 'bias': (128,)}</td>\n",
       "      <td>16512.0</td>\n",
       "    </tr>\n",
       "    <tr>\n",
       "      <th>10</th>\n",
       "      <td>BatchNorm1d</td>\n",
       "      <td>(32, 128)</td>\n",
       "      <td>{'weight': (128,), 'bias': (128,)}</td>\n",
       "      <td>256.0</td>\n",
       "    </tr>\n",
       "    <tr>\n",
       "      <th>11</th>\n",
       "      <td>Tanh</td>\n",
       "      <td>(32, 128)</td>\n",
       "      <td>{}</td>\n",
       "      <td>0.0</td>\n",
       "    </tr>\n",
       "    <tr>\n",
       "      <th>12</th>\n",
       "      <td>Linear</td>\n",
       "      <td>(32, 27)</td>\n",
       "      <td>{'weight': (27, 128), 'bias': (27,)}</td>\n",
       "      <td>3483.0</td>\n",
       "    </tr>\n",
       "  </tbody>\n",
       "</table>\n",
       "</div>"
      ],
      "text/plain": [
       "           name     out_size                                  params  nparams\n",
       "0             X      (32, 8)                                     NaN      NaN\n",
       "1     Embedding  (32, 8, 24)                    {'weight': (27, 24)}    648.0\n",
       "2       Flatten    (32, 192)                                      {}      0.0\n",
       "3        Linear    (32, 128)  {'weight': (128, 192), 'bias': (128,)}  24704.0\n",
       "4   BatchNorm1d    (32, 128)      {'weight': (128,), 'bias': (128,)}    256.0\n",
       "5          Tanh    (32, 128)                                      {}      0.0\n",
       "6        Linear    (32, 128)  {'weight': (128, 128), 'bias': (128,)}  16512.0\n",
       "7   BatchNorm1d    (32, 128)      {'weight': (128,), 'bias': (128,)}    256.0\n",
       "8          Tanh    (32, 128)                                      {}      0.0\n",
       "9        Linear    (32, 128)  {'weight': (128, 128), 'bias': (128,)}  16512.0\n",
       "10  BatchNorm1d    (32, 128)      {'weight': (128,), 'bias': (128,)}    256.0\n",
       "11         Tanh    (32, 128)                                      {}      0.0\n",
       "12       Linear     (32, 27)    {'weight': (27, 128), 'bias': (27,)}   3483.0"
      ]
     },
     "execution_count": 35,
     "metadata": {},
     "output_type": "execute_result"
    }
   ],
   "source": [
    "# model = make_wavenet(vocab_size, n_embd=24,n_hidden=128)\n",
    "model = MLP(vocab_size, block_size, n_embd, n_hidden)\n",
    "with torch.no_grad():\n",
    "  model.layers[-1].weight *= 0.1 # last layer make less confident\n",
    "\n",
    "parameters = model.parameters()\n",
    "print(sum(p.nelement() for p in parameters)) # number of parameters in total\n",
    "for p in parameters:\n",
    "  p.requires_grad = True\n",
    "\n",
    "# model info\n",
    "x = next(iter(dl_train))[0]\n",
    "model_info(model, x)"
   ]
  },
  {
   "cell_type": "code",
   "execution_count": 33,
   "id": "755ada97-e55b-4b71-b038-191403997f67",
   "metadata": {},
   "outputs": [
    {
     "data": {
      "text/html": [
       "<div>\n",
       "<style scoped>\n",
       "    .dataframe tbody tr th:only-of-type {\n",
       "        vertical-align: middle;\n",
       "    }\n",
       "\n",
       "    .dataframe tbody tr th {\n",
       "        vertical-align: top;\n",
       "    }\n",
       "\n",
       "    .dataframe thead th {\n",
       "        text-align: right;\n",
       "    }\n",
       "</style>\n",
       "<table border=\"1\" class=\"dataframe\">\n",
       "  <thead>\n",
       "    <tr style=\"text-align: right;\">\n",
       "      <th></th>\n",
       "      <th>name</th>\n",
       "      <th>out_size</th>\n",
       "      <th>nparams</th>\n",
       "      <th>params</th>\n",
       "    </tr>\n",
       "  </thead>\n",
       "  <tbody>\n",
       "    <tr>\n",
       "      <th>0</th>\n",
       "      <td>X</td>\n",
       "      <td>(32, 8)</td>\n",
       "      <td>NaN</td>\n",
       "      <td>NaN</td>\n",
       "    </tr>\n",
       "    <tr>\n",
       "      <th>1</th>\n",
       "      <td>Embedding</td>\n",
       "      <td>(32, 8, 24)</td>\n",
       "      <td>648.0</td>\n",
       "      <td>{'weight': (27, 24)}</td>\n",
       "    </tr>\n",
       "    <tr>\n",
       "      <th>2</th>\n",
       "      <td>Flatten</td>\n",
       "      <td>(32, 192)</td>\n",
       "      <td>0.0</td>\n",
       "      <td>{}</td>\n",
       "    </tr>\n",
       "    <tr>\n",
       "      <th>3</th>\n",
       "      <td>Linear</td>\n",
       "      <td>(32, 128)</td>\n",
       "      <td>24704.0</td>\n",
       "      <td>{'weight': (128, 192), 'bias': (128,)}</td>\n",
       "    </tr>\n",
       "    <tr>\n",
       "      <th>4</th>\n",
       "      <td>BatchNorm1d</td>\n",
       "      <td>(32, 128)</td>\n",
       "      <td>256.0</td>\n",
       "      <td>{'weight': (128,), 'bias': (128,)}</td>\n",
       "    </tr>\n",
       "    <tr>\n",
       "      <th>5</th>\n",
       "      <td>Tanh</td>\n",
       "      <td>(32, 128)</td>\n",
       "      <td>0.0</td>\n",
       "      <td>{}</td>\n",
       "    </tr>\n",
       "    <tr>\n",
       "      <th>6</th>\n",
       "      <td>Linear</td>\n",
       "      <td>(32, 128)</td>\n",
       "      <td>16512.0</td>\n",
       "      <td>{'weight': (128, 128), 'bias': (128,)}</td>\n",
       "    </tr>\n",
       "    <tr>\n",
       "      <th>7</th>\n",
       "      <td>BatchNorm1d</td>\n",
       "      <td>(32, 128)</td>\n",
       "      <td>256.0</td>\n",
       "      <td>{'weight': (128,), 'bias': (128,)}</td>\n",
       "    </tr>\n",
       "    <tr>\n",
       "      <th>8</th>\n",
       "      <td>Tanh</td>\n",
       "      <td>(32, 128)</td>\n",
       "      <td>0.0</td>\n",
       "      <td>{}</td>\n",
       "    </tr>\n",
       "    <tr>\n",
       "      <th>9</th>\n",
       "      <td>Linear</td>\n",
       "      <td>(32, 128)</td>\n",
       "      <td>16512.0</td>\n",
       "      <td>{'weight': (128, 128), 'bias': (128,)}</td>\n",
       "    </tr>\n",
       "    <tr>\n",
       "      <th>10</th>\n",
       "      <td>BatchNorm1d</td>\n",
       "      <td>(32, 128)</td>\n",
       "      <td>256.0</td>\n",
       "      <td>{'weight': (128,), 'bias': (128,)}</td>\n",
       "    </tr>\n",
       "    <tr>\n",
       "      <th>11</th>\n",
       "      <td>Tanh</td>\n",
       "      <td>(32, 128)</td>\n",
       "      <td>0.0</td>\n",
       "      <td>{}</td>\n",
       "    </tr>\n",
       "    <tr>\n",
       "      <th>12</th>\n",
       "      <td>Linear</td>\n",
       "      <td>(32, 27)</td>\n",
       "      <td>3483.0</td>\n",
       "      <td>{'weight': (27, 128), 'bias': (27,)}</td>\n",
       "    </tr>\n",
       "  </tbody>\n",
       "</table>\n",
       "</div>"
      ],
      "text/plain": [
       "           name     out_size  nparams                                  params\n",
       "0             X      (32, 8)      NaN                                     NaN\n",
       "1     Embedding  (32, 8, 24)    648.0                    {'weight': (27, 24)}\n",
       "2       Flatten    (32, 192)      0.0                                      {}\n",
       "3        Linear    (32, 128)  24704.0  {'weight': (128, 192), 'bias': (128,)}\n",
       "4   BatchNorm1d    (32, 128)    256.0      {'weight': (128,), 'bias': (128,)}\n",
       "5          Tanh    (32, 128)      0.0                                      {}\n",
       "6        Linear    (32, 128)  16512.0  {'weight': (128, 128), 'bias': (128,)}\n",
       "7   BatchNorm1d    (32, 128)    256.0      {'weight': (128,), 'bias': (128,)}\n",
       "8          Tanh    (32, 128)      0.0                                      {}\n",
       "9        Linear    (32, 128)  16512.0  {'weight': (128, 128), 'bias': (128,)}\n",
       "10  BatchNorm1d    (32, 128)    256.0      {'weight': (128,), 'bias': (128,)}\n",
       "11         Tanh    (32, 128)      0.0                                      {}\n",
       "12       Linear     (32, 27)   3483.0    {'weight': (27, 128), 'bias': (27,)}"
      ]
     },
     "execution_count": 33,
     "metadata": {},
     "output_type": "execute_result"
    }
   ],
   "source": [
    "df"
   ]
  },
  {
   "cell_type": "code",
   "execution_count": 164,
   "id": "2406916d-9ea6-4fd4-b303-8c0e8f45ac4d",
   "metadata": {},
   "outputs": [
    {
     "data": {
      "text/plain": [
       "torch.Size([32, 8, 27])"
      ]
     },
     "execution_count": 164,
     "metadata": {},
     "output_type": "execute_result"
    }
   ],
   "source": [
    "logits.shape"
   ]
  },
  {
   "cell_type": "code",
   "execution_count": 165,
   "id": "9a0dad36-855c-42f3-b2d3-f2930bc78910",
   "metadata": {},
   "outputs": [
    {
     "name": "stdout",
     "output_type": "stream",
     "text": [
      "      0/ 200000: 3.3170\n",
      "  10000/ 200000: 3.3204\n",
      "  20000/ 200000: 3.3157\n"
     ]
    },
    {
     "ename": "KeyboardInterrupt",
     "evalue": "",
     "output_type": "error",
     "traceback": [
      "\u001b[0;31m---------------------------------------------------------------------------\u001b[0m",
      "\u001b[0;31mKeyboardInterrupt\u001b[0m                         Traceback (most recent call last)",
      "Cell \u001b[0;32mIn[165], line 20\u001b[0m\n\u001b[1;32m     17\u001b[0m Yb \u001b[38;5;241m=\u001b[39m Yb[:, \u001b[38;5;241m-\u001b[39m\u001b[38;5;241m1\u001b[39m]\n\u001b[1;32m     19\u001b[0m \u001b[38;5;66;03m# forward pass\u001b[39;00m\n\u001b[0;32m---> 20\u001b[0m logits,loss \u001b[38;5;241m=\u001b[39m \u001b[43mmodel\u001b[49m\u001b[43m(\u001b[49m\u001b[43mXb\u001b[49m\u001b[43m,\u001b[49m\u001b[43m \u001b[49m\u001b[43mYb\u001b[49m\u001b[43m)\u001b[49m\n\u001b[1;32m     21\u001b[0m loss \u001b[38;5;241m=\u001b[39m F\u001b[38;5;241m.\u001b[39mcross_entropy(logits, Yb) \u001b[38;5;66;03m# loss function\u001b[39;00m\n\u001b[1;32m     23\u001b[0m \u001b[38;5;66;03m# backward pass\u001b[39;00m\n",
      "File \u001b[0;32m/static/user/spock/.cache/pypoetry/virtualenvs/gpt-OrNOpjMo-py3.10/lib/python3.10/site-packages/torch/nn/modules/module.py:1194\u001b[0m, in \u001b[0;36mModule._call_impl\u001b[0;34m(self, *input, **kwargs)\u001b[0m\n\u001b[1;32m   1190\u001b[0m \u001b[38;5;66;03m# If we don't have any hooks, we want to skip the rest of the logic in\u001b[39;00m\n\u001b[1;32m   1191\u001b[0m \u001b[38;5;66;03m# this function, and just call forward.\u001b[39;00m\n\u001b[1;32m   1192\u001b[0m \u001b[38;5;28;01mif\u001b[39;00m \u001b[38;5;129;01mnot\u001b[39;00m (\u001b[38;5;28mself\u001b[39m\u001b[38;5;241m.\u001b[39m_backward_hooks \u001b[38;5;129;01mor\u001b[39;00m \u001b[38;5;28mself\u001b[39m\u001b[38;5;241m.\u001b[39m_forward_hooks \u001b[38;5;129;01mor\u001b[39;00m \u001b[38;5;28mself\u001b[39m\u001b[38;5;241m.\u001b[39m_forward_pre_hooks \u001b[38;5;129;01mor\u001b[39;00m _global_backward_hooks\n\u001b[1;32m   1193\u001b[0m         \u001b[38;5;129;01mor\u001b[39;00m _global_forward_hooks \u001b[38;5;129;01mor\u001b[39;00m _global_forward_pre_hooks):\n\u001b[0;32m-> 1194\u001b[0m     \u001b[38;5;28;01mreturn\u001b[39;00m \u001b[43mforward_call\u001b[49m\u001b[43m(\u001b[49m\u001b[38;5;241;43m*\u001b[39;49m\u001b[38;5;28;43minput\u001b[39;49m\u001b[43m,\u001b[49m\u001b[43m \u001b[49m\u001b[38;5;241;43m*\u001b[39;49m\u001b[38;5;241;43m*\u001b[39;49m\u001b[43mkwargs\u001b[49m\u001b[43m)\u001b[49m\n\u001b[1;32m   1195\u001b[0m \u001b[38;5;66;03m# Do not call functions when jit is used\u001b[39;00m\n\u001b[1;32m   1196\u001b[0m full_backward_hooks, non_full_backward_hooks \u001b[38;5;241m=\u001b[39m [], []\n",
      "File \u001b[0;32m/mnt/hdd2/userdata/egafni/projects/GPT/gpt/bigram.py:109\u001b[0m, in \u001b[0;36mforward\u001b[0;34m(self, x, targets)\u001b[0m\n\u001b[1;32m     81\u001b[0m H \u001b[38;5;241m=\u001b[39m n_hidden\n\u001b[1;32m     82\u001b[0m act \u001b[38;5;241m=\u001b[39m nn\u001b[38;5;241m.\u001b[39mTanh\n\u001b[1;32m     83\u001b[0m \u001b[38;5;28mself\u001b[39m\u001b[38;5;241m.\u001b[39mlayers \u001b[38;5;241m=\u001b[39m nn\u001b[38;5;241m.\u001b[39mSequential(\n\u001b[1;32m     84\u001b[0m     nn\u001b[38;5;241m.\u001b[39mEmbedding(vocab_size, n_embd),\n\u001b[1;32m     85\u001b[0m     \u001b[38;5;66;03m# layer 1\u001b[39;00m\n\u001b[1;32m     86\u001b[0m     FlattenConsecutive(\u001b[38;5;241m2\u001b[39m),\n\u001b[1;32m     87\u001b[0m     nn\u001b[38;5;241m.\u001b[39mLinear(n_embd, H),\n\u001b[1;32m     88\u001b[0m     Permute((\u001b[38;5;241m0\u001b[39m, \u001b[38;5;241m2\u001b[39m, \u001b[38;5;241m1\u001b[39m)),  \u001b[38;5;66;03m# B, T, C -> B, C, T\u001b[39;00m\n\u001b[1;32m     89\u001b[0m     nn\u001b[38;5;241m.\u001b[39mBatchNorm1d(H),  \u001b[38;5;66;03m# so weird that this is B, C, T!!!\u001b[39;00m\n\u001b[1;32m     90\u001b[0m     Permute((\u001b[38;5;241m0\u001b[39m, \u001b[38;5;241m2\u001b[39m, \u001b[38;5;241m1\u001b[39m)),  \u001b[38;5;66;03m# B, C, T -> B, T, C\u001b[39;00m\n\u001b[1;32m     91\u001b[0m     act(),\n\u001b[1;32m     92\u001b[0m \n\u001b[1;32m     93\u001b[0m     \u001b[38;5;66;03m# layer 2\u001b[39;00m\n\u001b[1;32m     94\u001b[0m     FlattenConsecutive(\u001b[38;5;241m2\u001b[39m),\n\u001b[1;32m     95\u001b[0m     nn\u001b[38;5;241m.\u001b[39mLinear(H, H),\n\u001b[1;32m     96\u001b[0m     Permute((\u001b[38;5;241m0\u001b[39m, \u001b[38;5;241m2\u001b[39m, \u001b[38;5;241m1\u001b[39m)),  \u001b[38;5;66;03m# B, T, C -> B, C, T\u001b[39;00m\n\u001b[1;32m     97\u001b[0m     nn\u001b[38;5;241m.\u001b[39mBatchNorm1d(H),  \u001b[38;5;66;03m# so weird that this is B, C, T!!!\u001b[39;00m\n\u001b[1;32m     98\u001b[0m     Permute((\u001b[38;5;241m0\u001b[39m, \u001b[38;5;241m2\u001b[39m, \u001b[38;5;241m1\u001b[39m)),  \u001b[38;5;66;03m# B, C, T -> B, T, C\u001b[39;00m\n\u001b[1;32m     99\u001b[0m     act(),\n\u001b[1;32m    100\u001b[0m \n\u001b[1;32m    101\u001b[0m     \u001b[38;5;66;03m# layer 3\u001b[39;00m\n\u001b[1;32m    102\u001b[0m     FlattenConsecutive(\u001b[38;5;241m2\u001b[39m),\n\u001b[1;32m    103\u001b[0m     nn\u001b[38;5;241m.\u001b[39mLinear(H, H),\n\u001b[1;32m    104\u001b[0m     Permute((\u001b[38;5;241m0\u001b[39m, \u001b[38;5;241m2\u001b[39m, \u001b[38;5;241m1\u001b[39m)),  \u001b[38;5;66;03m# B, T, C -> B, C, T\u001b[39;00m\n\u001b[1;32m    105\u001b[0m     nn\u001b[38;5;241m.\u001b[39mBatchNorm1d(H),  \u001b[38;5;66;03m# so weird that this is B, C, T!!!\u001b[39;00m\n\u001b[1;32m    106\u001b[0m     Permute((\u001b[38;5;241m0\u001b[39m, \u001b[38;5;241m2\u001b[39m, \u001b[38;5;241m1\u001b[39m)),  \u001b[38;5;66;03m# B, C, T -> B, T, C\u001b[39;00m\n\u001b[1;32m    107\u001b[0m     act(),\n\u001b[1;32m    108\u001b[0m     nn\u001b[38;5;241m.\u001b[39mLinear(H, vocab_size),\n\u001b[0;32m--> 109\u001b[0m )\n",
      "File \u001b[0;32m/static/user/spock/.cache/pypoetry/virtualenvs/gpt-OrNOpjMo-py3.10/lib/python3.10/site-packages/torch/nn/modules/module.py:1194\u001b[0m, in \u001b[0;36mModule._call_impl\u001b[0;34m(self, *input, **kwargs)\u001b[0m\n\u001b[1;32m   1190\u001b[0m \u001b[38;5;66;03m# If we don't have any hooks, we want to skip the rest of the logic in\u001b[39;00m\n\u001b[1;32m   1191\u001b[0m \u001b[38;5;66;03m# this function, and just call forward.\u001b[39;00m\n\u001b[1;32m   1192\u001b[0m \u001b[38;5;28;01mif\u001b[39;00m \u001b[38;5;129;01mnot\u001b[39;00m (\u001b[38;5;28mself\u001b[39m\u001b[38;5;241m.\u001b[39m_backward_hooks \u001b[38;5;129;01mor\u001b[39;00m \u001b[38;5;28mself\u001b[39m\u001b[38;5;241m.\u001b[39m_forward_hooks \u001b[38;5;129;01mor\u001b[39;00m \u001b[38;5;28mself\u001b[39m\u001b[38;5;241m.\u001b[39m_forward_pre_hooks \u001b[38;5;129;01mor\u001b[39;00m _global_backward_hooks\n\u001b[1;32m   1193\u001b[0m         \u001b[38;5;129;01mor\u001b[39;00m _global_forward_hooks \u001b[38;5;129;01mor\u001b[39;00m _global_forward_pre_hooks):\n\u001b[0;32m-> 1194\u001b[0m     \u001b[38;5;28;01mreturn\u001b[39;00m \u001b[43mforward_call\u001b[49m\u001b[43m(\u001b[49m\u001b[38;5;241;43m*\u001b[39;49m\u001b[38;5;28;43minput\u001b[39;49m\u001b[43m,\u001b[49m\u001b[43m \u001b[49m\u001b[38;5;241;43m*\u001b[39;49m\u001b[38;5;241;43m*\u001b[39;49m\u001b[43mkwargs\u001b[49m\u001b[43m)\u001b[49m\n\u001b[1;32m   1195\u001b[0m \u001b[38;5;66;03m# Do not call functions when jit is used\u001b[39;00m\n\u001b[1;32m   1196\u001b[0m full_backward_hooks, non_full_backward_hooks \u001b[38;5;241m=\u001b[39m [], []\n",
      "File \u001b[0;32m/static/user/spock/.cache/pypoetry/virtualenvs/gpt-OrNOpjMo-py3.10/lib/python3.10/site-packages/torch/nn/modules/container.py:204\u001b[0m, in \u001b[0;36mSequential.forward\u001b[0;34m(self, input)\u001b[0m\n\u001b[1;32m    202\u001b[0m \u001b[38;5;28;01mdef\u001b[39;00m \u001b[38;5;21mforward\u001b[39m(\u001b[38;5;28mself\u001b[39m, \u001b[38;5;28minput\u001b[39m):\n\u001b[1;32m    203\u001b[0m     \u001b[38;5;28;01mfor\u001b[39;00m module \u001b[38;5;129;01min\u001b[39;00m \u001b[38;5;28mself\u001b[39m:\n\u001b[0;32m--> 204\u001b[0m         \u001b[38;5;28minput\u001b[39m \u001b[38;5;241m=\u001b[39m \u001b[43mmodule\u001b[49m\u001b[43m(\u001b[49m\u001b[38;5;28;43minput\u001b[39;49m\u001b[43m)\u001b[49m\n\u001b[1;32m    205\u001b[0m     \u001b[38;5;28;01mreturn\u001b[39;00m \u001b[38;5;28minput\u001b[39m\n",
      "File \u001b[0;32m/static/user/spock/.cache/pypoetry/virtualenvs/gpt-OrNOpjMo-py3.10/lib/python3.10/site-packages/torch/nn/modules/module.py:1194\u001b[0m, in \u001b[0;36mModule._call_impl\u001b[0;34m(self, *input, **kwargs)\u001b[0m\n\u001b[1;32m   1190\u001b[0m \u001b[38;5;66;03m# If we don't have any hooks, we want to skip the rest of the logic in\u001b[39;00m\n\u001b[1;32m   1191\u001b[0m \u001b[38;5;66;03m# this function, and just call forward.\u001b[39;00m\n\u001b[1;32m   1192\u001b[0m \u001b[38;5;28;01mif\u001b[39;00m \u001b[38;5;129;01mnot\u001b[39;00m (\u001b[38;5;28mself\u001b[39m\u001b[38;5;241m.\u001b[39m_backward_hooks \u001b[38;5;129;01mor\u001b[39;00m \u001b[38;5;28mself\u001b[39m\u001b[38;5;241m.\u001b[39m_forward_hooks \u001b[38;5;129;01mor\u001b[39;00m \u001b[38;5;28mself\u001b[39m\u001b[38;5;241m.\u001b[39m_forward_pre_hooks \u001b[38;5;129;01mor\u001b[39;00m _global_backward_hooks\n\u001b[1;32m   1193\u001b[0m         \u001b[38;5;129;01mor\u001b[39;00m _global_forward_hooks \u001b[38;5;129;01mor\u001b[39;00m _global_forward_pre_hooks):\n\u001b[0;32m-> 1194\u001b[0m     \u001b[38;5;28;01mreturn\u001b[39;00m \u001b[43mforward_call\u001b[49m\u001b[43m(\u001b[49m\u001b[38;5;241;43m*\u001b[39;49m\u001b[38;5;28;43minput\u001b[39;49m\u001b[43m,\u001b[49m\u001b[43m \u001b[49m\u001b[38;5;241;43m*\u001b[39;49m\u001b[38;5;241;43m*\u001b[39;49m\u001b[43mkwargs\u001b[49m\u001b[43m)\u001b[49m\n\u001b[1;32m   1195\u001b[0m \u001b[38;5;66;03m# Do not call functions when jit is used\u001b[39;00m\n\u001b[1;32m   1196\u001b[0m full_backward_hooks, non_full_backward_hooks \u001b[38;5;241m=\u001b[39m [], []\n",
      "File \u001b[0;32m/static/user/spock/.cache/pypoetry/virtualenvs/gpt-OrNOpjMo-py3.10/lib/python3.10/site-packages/torch/nn/modules/linear.py:114\u001b[0m, in \u001b[0;36mLinear.forward\u001b[0;34m(self, input)\u001b[0m\n\u001b[1;32m    113\u001b[0m \u001b[38;5;28;01mdef\u001b[39;00m \u001b[38;5;21mforward\u001b[39m(\u001b[38;5;28mself\u001b[39m, \u001b[38;5;28minput\u001b[39m: Tensor) \u001b[38;5;241m-\u001b[39m\u001b[38;5;241m>\u001b[39m Tensor:\n\u001b[0;32m--> 114\u001b[0m     \u001b[38;5;28;01mreturn\u001b[39;00m \u001b[43mF\u001b[49m\u001b[38;5;241;43m.\u001b[39;49m\u001b[43mlinear\u001b[49m\u001b[43m(\u001b[49m\u001b[38;5;28;43minput\u001b[39;49m\u001b[43m,\u001b[49m\u001b[43m \u001b[49m\u001b[38;5;28;43mself\u001b[39;49m\u001b[38;5;241;43m.\u001b[39;49m\u001b[43mweight\u001b[49m\u001b[43m,\u001b[49m\u001b[43m \u001b[49m\u001b[38;5;28;43mself\u001b[39;49m\u001b[38;5;241;43m.\u001b[39;49m\u001b[43mbias\u001b[49m\u001b[43m)\u001b[49m\n",
      "\u001b[0;31mKeyboardInterrupt\u001b[0m: "
     ]
    }
   ],
   "source": [
    "# same optimization as last time\n",
    "max_steps = 200000\n",
    "batch_size = 32\n",
    "lossi = []\n",
    "\n",
    "for i in range(max_steps):\n",
    "\n",
    "  # minibatch construct\n",
    "  # ix = torch.randint(0, Xtr.shape[0], (batch_size,))\n",
    "  # Xb, Yb = Xtr[ix], Ytr[ix] # batch X,Y\n",
    "\n",
    "  ix = torch.randint(0, len(ds_train)-1, (batch_size,))\n",
    "  # Xb, Yb = [ds_train[ix_] for ix_ in ix] # batch X,Y\n",
    "  Xb, Yb = zip(*[ds_train[ix_] for ix_ in ix])\n",
    "  Xb = torch.stack(Xb, 0)\n",
    "  Yb = torch.stack(Yb, 0)\n",
    "  Yb = Yb[:, -1]\n",
    "  \n",
    "  # forward pass\n",
    "  logits, loss = model(Xb, Yb)\n",
    "  loss = F.cross_entropy(logits, Yb) # loss function\n",
    "\n",
    "  # backward pass\n",
    "  for p in parameters:\n",
    "    p.grad = None\n",
    "  loss.backward()\n",
    "\n",
    "  # update: simple SGD\n",
    "  lr = 0.1 if i < 150000 else 0.01 # step learning rate decay\n",
    "  for p in parameters:\n",
    "    p.data += -lr * p.grad\n",
    "\n",
    "  # track stats\n",
    "  if i % 10000 == 0: # print every once in a while\n",
    "    print(f'{i:7d}/{max_steps:7d}: {loss.item():.4f}')\n",
    "  lossi.append(loss.log10().item())\n"
   ]
  },
  {
   "cell_type": "code",
   "execution_count": 201,
   "id": "62bd7147-5c73-4ab2-a590-117c40135800",
   "metadata": {},
   "outputs": [],
   "source": [
    "device = torch.device(\"cuda\")\n",
    "# model = BiGram(vocab_size)\n",
    "model = MLP(vocab_size, block_size=block_size, n_embd=n_embd, n_hidden=n_hidden)\n",
    "# model = WaveNetDemo(vocab_size, n_embd=24,n_hidden=128)\n",
    "model = model.to(device)\n",
    "if hasattr(model,'seq'):\n",
    "    with torch.no_grad():\n",
    "      model.seq[-1].weight *= 0.1 # last layer make less confident\n",
    "\n",
    "optimizer = torch.optim.AdamW(model.parameters(), lr=1e-2)\n",
    "scheduler = torch.optim.lr_scheduler.StepLR(optimizer, step_size=150000)\n",
    "train_losses = []\n",
    "val_losses = {}"
   ]
  },
  {
   "cell_type": "code",
   "execution_count": 208,
   "id": "cc29f962-69a1-4e89-bc2b-9b34d7a6160c",
   "metadata": {},
   "outputs": [
    {
     "ename": "AttributeError",
     "evalue": "'tuple' object has no attribute 'shape'",
     "output_type": "error",
     "traceback": [
      "\u001b[0;31m---------------------------------------------------------------------------\u001b[0m",
      "\u001b[0;31mAttributeError\u001b[0m                            Traceback (most recent call last)",
      "Cell \u001b[0;32mIn[208], line 1\u001b[0m\n\u001b[0;32m----> 1\u001b[0m \u001b[43my_logit\u001b[49m\u001b[38;5;241;43m.\u001b[39;49m\u001b[43mshape\u001b[49m\n",
      "\u001b[0;31mAttributeError\u001b[0m: 'tuple' object has no attribute 'shape'"
     ]
    }
   ],
   "source": [
    "y_logit.shape"
   ]
  },
  {
   "cell_type": "code",
   "execution_count": 211,
   "id": "8ad6da87-2c47-42b0-aff1-148e0ecc71a6",
   "metadata": {},
   "outputs": [
    {
     "name": "stdout",
     "output_type": "stream",
     "text": [
      "1:1000|s=1000 loss: 2.3888566493988037 val_loss: 2.3300578594207764 lr: 0.01\n",
      "1:2000|s=2000 loss: 2.1664392948150635 val_loss: 2.2453510761260986 lr: 0.01\n",
      "1:3000|s=3000 loss: 2.048384666442871 val_loss: 2.238759994506836 lr: 0.01\n",
      "1:4000|s=4000 loss: 2.1166439056396484 val_loss: 2.228214740753174 lr: 0.01\n",
      "1:5000|s=5000 loss: 1.9491580724716187 val_loss: 2.186807632446289 lr: 0.01\n",
      "1:6000|s=6000 loss: 2.2257020473480225 val_loss: 2.142014265060425 lr: 0.01\n",
      "epoch done\n",
      "2:583|s=7000 loss: 1.8910250663757324 val_loss: 2.137589454650879 lr: 0.01\n",
      "2:1583|s=8000 loss: 2.255828619003296 val_loss: 2.1428544521331787 lr: 0.01\n",
      "2:2583|s=9000 loss: 1.9945025444030762 val_loss: 2.097355842590332 lr: 0.01\n",
      "2:3583|s=10000 loss: 2.1658809185028076 val_loss: 2.072314977645874 lr: 0.01\n",
      "2:4583|s=11000 loss: 2.3506972789764404 val_loss: 2.0943987369537354 lr: 0.01\n",
      "2:5583|s=12000 loss: 2.382546901702881 val_loss: 2.0889217853546143 lr: 0.01\n",
      "epoch done\n",
      "3:166|s=13000 loss: 1.9394550323486328 val_loss: 2.0695035457611084 lr: 0.01\n",
      "3:1166|s=14000 loss: 1.971591591835022 val_loss: 2.057767629623413 lr: 0.01\n",
      "3:2166|s=15000 loss: 2.4387993812561035 val_loss: 2.0412468910217285 lr: 0.01\n",
      "3:3166|s=16000 loss: 2.3169195652008057 val_loss: 2.0423331260681152 lr: 0.01\n",
      "3:4166|s=17000 loss: 1.9508936405181885 val_loss: 2.0841619968414307 lr: 0.01\n",
      "3:5166|s=18000 loss: 2.3560688495635986 val_loss: 2.0714659690856934 lr: 0.01\n",
      "3:6166|s=19000 loss: 2.0700016021728516 val_loss: 2.0470962524414062 lr: 0.01\n",
      "epoch done\n",
      "4:749|s=20000 loss: 1.585519552230835 val_loss: 2.059087038040161 lr: 0.01\n",
      "4:1749|s=21000 loss: 2.070387125015259 val_loss: 2.0454769134521484 lr: 0.01\n",
      "4:2749|s=22000 loss: 1.796510100364685 val_loss: 2.0398929119110107 lr: 0.01\n",
      "4:3749|s=23000 loss: 1.877758264541626 val_loss: 2.0279932022094727 lr: 0.01\n",
      "4:4749|s=24000 loss: 1.9089752435684204 val_loss: 2.0288262367248535 lr: 0.01\n",
      "4:5749|s=25000 loss: 2.4301609992980957 val_loss: 2.043534278869629 lr: 0.01\n",
      "epoch done\n",
      "5:332|s=26000 loss: 2.454766035079956 val_loss: 2.04552960395813 lr: 0.01\n",
      "5:1332|s=27000 loss: 2.1372058391571045 val_loss: 2.060325860977173 lr: 0.01\n",
      "5:2332|s=28000 loss: 1.364898920059204 val_loss: 2.041900157928467 lr: 0.01\n",
      "5:3332|s=29000 loss: 1.2147252559661865 val_loss: 2.0288758277893066 lr: 0.01\n",
      "5:4332|s=30000 loss: 1.8117258548736572 val_loss: 2.005967855453491 lr: 0.01\n"
     ]
    },
    {
     "ename": "KeyboardInterrupt",
     "evalue": "",
     "output_type": "error",
     "traceback": [
      "\u001b[0;31m---------------------------------------------------------------------------\u001b[0m",
      "\u001b[0;31mKeyboardInterrupt\u001b[0m                         Traceback (most recent call last)",
      "Cell \u001b[0;32mIn[211], line 7\u001b[0m\n\u001b[1;32m      5\u001b[0m done \u001b[38;5;241m=\u001b[39m \u001b[38;5;28;01mFalse\u001b[39;00m\n\u001b[1;32m      6\u001b[0m \u001b[38;5;28;01mfor\u001b[39;00m epoch \u001b[38;5;129;01min\u001b[39;00m \u001b[38;5;28mrange\u001b[39m(\u001b[38;5;241m1\u001b[39m, max_epochs\u001b[38;5;241m+\u001b[39m\u001b[38;5;241m1\u001b[39m):\n\u001b[0;32m----> 7\u001b[0m     \u001b[38;5;28;01mfor\u001b[39;00m i, (X,Y) \u001b[38;5;129;01min\u001b[39;00m \u001b[38;5;28menumerate\u001b[39m(\u001b[38;5;28miter\u001b[39m(dl_train), start\u001b[38;5;241m=\u001b[39m\u001b[38;5;241m1\u001b[39m):\n\u001b[1;32m      8\u001b[0m         step \u001b[38;5;241m+\u001b[39m\u001b[38;5;241m=\u001b[39m \u001b[38;5;241m1\u001b[39m\n\u001b[1;32m      9\u001b[0m         \u001b[38;5;66;03m# break\u001b[39;00m\n",
      "File \u001b[0;32m/static/user/spock/.cache/pypoetry/virtualenvs/gpt-OrNOpjMo-py3.10/lib/python3.10/site-packages/torch/utils/data/dataloader.py:628\u001b[0m, in \u001b[0;36m_BaseDataLoaderIter.__next__\u001b[0;34m(self)\u001b[0m\n\u001b[1;32m    625\u001b[0m \u001b[38;5;28;01mif\u001b[39;00m \u001b[38;5;28mself\u001b[39m\u001b[38;5;241m.\u001b[39m_sampler_iter \u001b[38;5;129;01mis\u001b[39;00m \u001b[38;5;28;01mNone\u001b[39;00m:\n\u001b[1;32m    626\u001b[0m     \u001b[38;5;66;03m# TODO(https://github.com/pytorch/pytorch/issues/76750)\u001b[39;00m\n\u001b[1;32m    627\u001b[0m     \u001b[38;5;28mself\u001b[39m\u001b[38;5;241m.\u001b[39m_reset()  \u001b[38;5;66;03m# type: ignore[call-arg]\u001b[39;00m\n\u001b[0;32m--> 628\u001b[0m data \u001b[38;5;241m=\u001b[39m \u001b[38;5;28;43mself\u001b[39;49m\u001b[38;5;241;43m.\u001b[39;49m\u001b[43m_next_data\u001b[49m\u001b[43m(\u001b[49m\u001b[43m)\u001b[49m\n\u001b[1;32m    629\u001b[0m \u001b[38;5;28mself\u001b[39m\u001b[38;5;241m.\u001b[39m_num_yielded \u001b[38;5;241m+\u001b[39m\u001b[38;5;241m=\u001b[39m \u001b[38;5;241m1\u001b[39m\n\u001b[1;32m    630\u001b[0m \u001b[38;5;28;01mif\u001b[39;00m \u001b[38;5;28mself\u001b[39m\u001b[38;5;241m.\u001b[39m_dataset_kind \u001b[38;5;241m==\u001b[39m _DatasetKind\u001b[38;5;241m.\u001b[39mIterable \u001b[38;5;129;01mand\u001b[39;00m \\\n\u001b[1;32m    631\u001b[0m         \u001b[38;5;28mself\u001b[39m\u001b[38;5;241m.\u001b[39m_IterableDataset_len_called \u001b[38;5;129;01mis\u001b[39;00m \u001b[38;5;129;01mnot\u001b[39;00m \u001b[38;5;28;01mNone\u001b[39;00m \u001b[38;5;129;01mand\u001b[39;00m \\\n\u001b[1;32m    632\u001b[0m         \u001b[38;5;28mself\u001b[39m\u001b[38;5;241m.\u001b[39m_num_yielded \u001b[38;5;241m>\u001b[39m \u001b[38;5;28mself\u001b[39m\u001b[38;5;241m.\u001b[39m_IterableDataset_len_called:\n",
      "File \u001b[0;32m/static/user/spock/.cache/pypoetry/virtualenvs/gpt-OrNOpjMo-py3.10/lib/python3.10/site-packages/torch/utils/data/dataloader.py:671\u001b[0m, in \u001b[0;36m_SingleProcessDataLoaderIter._next_data\u001b[0;34m(self)\u001b[0m\n\u001b[1;32m    669\u001b[0m \u001b[38;5;28;01mdef\u001b[39;00m \u001b[38;5;21m_next_data\u001b[39m(\u001b[38;5;28mself\u001b[39m):\n\u001b[1;32m    670\u001b[0m     index \u001b[38;5;241m=\u001b[39m \u001b[38;5;28mself\u001b[39m\u001b[38;5;241m.\u001b[39m_next_index()  \u001b[38;5;66;03m# may raise StopIteration\u001b[39;00m\n\u001b[0;32m--> 671\u001b[0m     data \u001b[38;5;241m=\u001b[39m \u001b[38;5;28;43mself\u001b[39;49m\u001b[38;5;241;43m.\u001b[39;49m\u001b[43m_dataset_fetcher\u001b[49m\u001b[38;5;241;43m.\u001b[39;49m\u001b[43mfetch\u001b[49m\u001b[43m(\u001b[49m\u001b[43mindex\u001b[49m\u001b[43m)\u001b[49m  \u001b[38;5;66;03m# may raise StopIteration\u001b[39;00m\n\u001b[1;32m    672\u001b[0m     \u001b[38;5;28;01mif\u001b[39;00m \u001b[38;5;28mself\u001b[39m\u001b[38;5;241m.\u001b[39m_pin_memory:\n\u001b[1;32m    673\u001b[0m         data \u001b[38;5;241m=\u001b[39m _utils\u001b[38;5;241m.\u001b[39mpin_memory\u001b[38;5;241m.\u001b[39mpin_memory(data, \u001b[38;5;28mself\u001b[39m\u001b[38;5;241m.\u001b[39m_pin_memory_device)\n",
      "File \u001b[0;32m/static/user/spock/.cache/pypoetry/virtualenvs/gpt-OrNOpjMo-py3.10/lib/python3.10/site-packages/torch/utils/data/_utils/fetch.py:61\u001b[0m, in \u001b[0;36m_MapDatasetFetcher.fetch\u001b[0;34m(self, possibly_batched_index)\u001b[0m\n\u001b[1;32m     59\u001b[0m \u001b[38;5;28;01melse\u001b[39;00m:\n\u001b[1;32m     60\u001b[0m     data \u001b[38;5;241m=\u001b[39m \u001b[38;5;28mself\u001b[39m\u001b[38;5;241m.\u001b[39mdataset[possibly_batched_index]\n\u001b[0;32m---> 61\u001b[0m \u001b[38;5;28;01mreturn\u001b[39;00m \u001b[38;5;28;43mself\u001b[39;49m\u001b[38;5;241;43m.\u001b[39;49m\u001b[43mcollate_fn\u001b[49m\u001b[43m(\u001b[49m\u001b[43mdata\u001b[49m\u001b[43m)\u001b[49m\n",
      "File \u001b[0;32m/static/user/spock/.cache/pypoetry/virtualenvs/gpt-OrNOpjMo-py3.10/lib/python3.10/site-packages/torch/utils/data/_utils/collate.py:265\u001b[0m, in \u001b[0;36mdefault_collate\u001b[0;34m(batch)\u001b[0m\n\u001b[1;32m    204\u001b[0m \u001b[38;5;28;01mdef\u001b[39;00m \u001b[38;5;21mdefault_collate\u001b[39m(batch):\n\u001b[1;32m    205\u001b[0m \u001b[38;5;250m    \u001b[39m\u001b[38;5;124mr\u001b[39m\u001b[38;5;124;03m\"\"\"\u001b[39;00m\n\u001b[1;32m    206\u001b[0m \u001b[38;5;124;03m        Function that takes in a batch of data and puts the elements within the batch\u001b[39;00m\n\u001b[1;32m    207\u001b[0m \u001b[38;5;124;03m        into a tensor with an additional outer dimension - batch size. The exact output type can be\u001b[39;00m\n\u001b[0;32m   (...)\u001b[0m\n\u001b[1;32m    263\u001b[0m \u001b[38;5;124;03m            >>> default_collate(batch)  # Handle `CustomType` automatically\u001b[39;00m\n\u001b[1;32m    264\u001b[0m \u001b[38;5;124;03m    \"\"\"\u001b[39;00m\n\u001b[0;32m--> 265\u001b[0m     \u001b[38;5;28;01mreturn\u001b[39;00m \u001b[43mcollate\u001b[49m\u001b[43m(\u001b[49m\u001b[43mbatch\u001b[49m\u001b[43m,\u001b[49m\u001b[43m \u001b[49m\u001b[43mcollate_fn_map\u001b[49m\u001b[38;5;241;43m=\u001b[39;49m\u001b[43mdefault_collate_fn_map\u001b[49m\u001b[43m)\u001b[49m\n",
      "File \u001b[0;32m/static/user/spock/.cache/pypoetry/virtualenvs/gpt-OrNOpjMo-py3.10/lib/python3.10/site-packages/torch/utils/data/_utils/collate.py:140\u001b[0m, in \u001b[0;36mcollate\u001b[0;34m(batch, collate_fn_map)\u001b[0m\n\u001b[1;32m    138\u001b[0m \u001b[38;5;28;01mif\u001b[39;00m \u001b[38;5;129;01mnot\u001b[39;00m \u001b[38;5;28mall\u001b[39m(\u001b[38;5;28mlen\u001b[39m(elem) \u001b[38;5;241m==\u001b[39m elem_size \u001b[38;5;28;01mfor\u001b[39;00m elem \u001b[38;5;129;01min\u001b[39;00m it):\n\u001b[1;32m    139\u001b[0m     \u001b[38;5;28;01mraise\u001b[39;00m \u001b[38;5;167;01mRuntimeError\u001b[39;00m(\u001b[38;5;124m'\u001b[39m\u001b[38;5;124meach element in list of batch should be of equal size\u001b[39m\u001b[38;5;124m'\u001b[39m)\n\u001b[0;32m--> 140\u001b[0m transposed \u001b[38;5;241m=\u001b[39m \u001b[38;5;28;43mlist\u001b[39;49m\u001b[43m(\u001b[49m\u001b[38;5;28;43mzip\u001b[39;49m\u001b[43m(\u001b[49m\u001b[38;5;241;43m*\u001b[39;49m\u001b[43mbatch\u001b[49m\u001b[43m)\u001b[49m\u001b[43m)\u001b[49m  \u001b[38;5;66;03m# It may be accessed twice, so we use a list.\u001b[39;00m\n\u001b[1;32m    142\u001b[0m \u001b[38;5;28;01mif\u001b[39;00m \u001b[38;5;28misinstance\u001b[39m(elem, \u001b[38;5;28mtuple\u001b[39m):\n\u001b[1;32m    143\u001b[0m     \u001b[38;5;28;01mreturn\u001b[39;00m [collate(samples, collate_fn_map\u001b[38;5;241m=\u001b[39mcollate_fn_map) \u001b[38;5;28;01mfor\u001b[39;00m samples \u001b[38;5;129;01min\u001b[39;00m transposed]  \u001b[38;5;66;03m# Backwards compatibility.\u001b[39;00m\n",
      "\u001b[0;31mKeyboardInterrupt\u001b[0m: "
     ]
    }
   ],
   "source": [
    "# n_steps = 100000\n",
    "max_epochs = 100\n",
    "eval_freq = 1000\n",
    "step = 0\n",
    "done = False\n",
    "for epoch in range(1, max_epochs+1):\n",
    "    for i, (X,Y) in enumerate(iter(dl_train), start=1):\n",
    "        step += 1\n",
    "        # break\n",
    "        X = X.to(device)\n",
    "        Y = Y.to(device)\n",
    "        y_logit,loss = model(X, Y)\n",
    "        \n",
    "        # break\n",
    "        \n",
    "        optimizer.zero_grad(True)\n",
    "        loss.backward()\n",
    "        optimizer.step()\n",
    "        scheduler.step()\n",
    "    \n",
    "        if step == 0 or step % eval_freq == 0:\n",
    "            val_loss = eval(device)\n",
    "            val_losses[step] = val_loss\n",
    "            lr = optimizer.param_groups[0]['lr']\n",
    "            print(f'{epoch}:{i}|s={step} loss: {loss.item()} val_loss: {val_loss} lr: {lr}')\n",
    "            \n",
    "        train_losses.append(float(loss))\n",
    "                \n",
    "    print('epoch done')\n"
   ]
  },
  {
   "cell_type": "code",
   "execution_count": 212,
   "id": "cfc16f9e-1fbc-44c6-b49d-66cc0463d312",
   "metadata": {},
   "outputs": [],
   "source": [
    "# list(model.parameters())[0].var(0)"
   ]
  },
  {
   "cell_type": "code",
   "execution_count": 213,
   "id": "d8c2db5c-a8f8-412b-b41a-494c6ca2337f",
   "metadata": {},
   "outputs": [
    {
     "data": {
      "text/plain": [
       "[<matplotlib.lines.Line2D at 0x7fe215569a50>]"
      ]
     },
     "execution_count": 213,
     "metadata": {},
     "output_type": "execute_result"
    },
    {
     "data": {
      "image/png": "[encoded data removed]",
      "text/plain": [
       "<Figure size 800x300 with 1 Axes>"
      ]
     },
     "metadata": {},
     "output_type": "display_data"
    }
   ],
   "source": [
    "from scipy.signal import savgol_filter\n",
    "train_losses_smoothed = savgol_filter(train_losses, 100, 1)\n",
    "fig, ax = plt.subplots(1,1,figsize=(8,3))\n",
    "i = list(range(0, len(train_losses), eval_freq))\n",
    "ax.plot(train_losses_smoothed)\n",
    "ax.plot(val_losses.keys(),val_losses.values())"
   ]
  },
  {
   "cell_type": "code",
   "execution_count": 214,
   "id": "8507680a-80f1-4563-b2c4-c7f3affa4955",
   "metadata": {},
   "outputs": [
    {
     "data": {
      "text/plain": [
       "(tensor([14, 21,  5, 12,  0,  1, 14, 19]),\n",
       " tensor([21,  5, 12,  0,  1, 14, 19, 21]))"
      ]
     },
     "execution_count": 214,
     "metadata": {},
     "output_type": "execute_result"
    }
   ],
   "source": [
    "ds_val[0]"
   ]
  },
  {
   "cell_type": "code",
   "execution_count": 218,
   "id": "53835198-e996-4bf7-b25e-2bfe043cc3db",
   "metadata": {},
   "outputs": [
    {
     "data": {
      "text/plain": [
       "2"
      ]
     },
     "execution_count": 218,
     "metadata": {},
     "output_type": "execute_result"
    }
   ],
   "source": [
    "x.ndim"
   ]
  },
  {
   "cell_type": "code",
   "execution_count": 219,
   "id": "efcd084a-265e-4943-9718-d42afb80ca6c",
   "metadata": {},
   "outputs": [
    {
     "name": "stdout",
     "output_type": "stream",
     "text": [
      "shewn\n",
      "shenion\n",
      "rainon\n",
      "amirie\n",
      "amergh\n",
      "anmion\n",
      "ayryo\n",
      "giard\n",
      "jeghen\n",
      "jencorsem\n",
      "cepaji\n",
      "enriphon\n",
      "ryedeni\n",
      "conelys\n",
      "parrems\n",
      "wam\n",
      "harjalea\n",
      "jaleeth\n",
      "jalelan\n",
      "jamann\n",
      "jatrion\n",
      "jason\n",
      "jazler\n",
      "jona\n",
      "lyn\n",
      "calna\n",
      "donisa\n",
      "taphu\n",
      "vanhel\n",
      "valyy\n",
      "xiloa\n",
      "tikhio\n",
      "tichorwa\n",
      "harae\n",
      "nahaley\n",
      "malisyi\n",
      "makalla\n",
      "makynne\n",
      "matiah\n",
      "merion\n",
      "melenah\n",
      "mareem\n",
      "dakia\n",
      "deamarie\n",
      "caolinn\n",
      "chayon\n",
      "crreila\n",
      "creydeda\n",
      "kyleena\n",
      "kaliz\n",
      "chaslenn\n",
      "karir\n",
      "landa\n",
      "laedjollani\n",
      "yolach\n",
      "ken\n",
      "reila\n",
      "rhelisse\n",
      "elena\n",
      "emilee\n",
      "eliighaele\n",
      "shaio\n",
      "shono\n",
      "cherend\n",
      "chifar\n",
      "chino\n",
      "sterh\n",
      "tameleede\n",
      "naviaa\n",
      "nezie\n",
      "\n",
      "staesh\n",
      "sofl\n",
      "zabno\n",
      "zeedelle\n",
      "nieela\n",
      "haeshali\n",
      "anrari\n",
      "anarii\n",
      "azara\n",
      "ajeylon\n",
      "neyua\n",
      "demenn\n",
      "danyla\n",
      "damiya\n",
      "daylion\n",
      "daxta\n",
      "dosana\n",
      "danalyn\n",
      "deleen\n",
      "emaanie\n",
      "karalay\n",
      "kavion\n",
      "kayorete\n",
      "kalandhas\n",
      "fryn\n",
      "garrerna\n",
      "andeitha\n",
      "gumita\n",
      "gambet\n",
      "galix\n",
      "garculo\n",
      "\n",
      "vallee\n",
      "nallie\n",
      "navelin\n",
      "\n",
      "ajiaahi\n",
      "jizaay\n",
      "jezlee\n",
      "jebeth\n",
      "jerden\n",
      "jenelil\n",
      "joeta\n",
      "jolel\n",
      "joz\n",
      "elzoa\n",
      "zeleyah\n",
      "kalel\n",
      "habryly\n",
      "naelalus\n",
      "ster\n",
      "yedha\n",
      "zevana\n",
      "zayxon\n",
      "zaxka\n",
      "zelii\n",
      "zejel\n",
      "zeak\n",
      "leja\n",
      "belen\n",
      "jelon\n",
      "joleten\n",
      "jofer\n",
      "joyleni\n",
      "jozalen\n",
      "juhbyne\n",
      "kachl\n",
      "keter\n",
      "kelella\n",
      "kalynnio\n",
      "jelvien\n",
      "ircyar\n",
      "\n"
     ]
    }
   ],
   "source": [
    "x = ds_val[0][0].unsqueeze(0)\n",
    "y_pred = model.predict(X, 1000)\n",
    "print(''.join(ds_train.decode(y_pred[0])))"
   ]
  },
  {
   "cell_type": "code",
   "execution_count": 217,
   "id": "9f3df7ab-0b17-47a7-a4da-e8bd3629bcb6",
   "metadata": {},
   "outputs": [
    {
     "name": "stdout",
     "output_type": "stream",
     "text": [
      "> \u001b[0;32m/mnt/hdd2/userdata/egafni/projects/GPT/gpt/bigram.py\u001b[0m(23)\u001b[0;36mpredict\u001b[0;34m()\u001b[0m\n",
      "\u001b[0;32m     21 \u001b[0;31m            \u001b[0my_logit\u001b[0m\u001b[0;34m,\u001b[0m \u001b[0mloss\u001b[0m \u001b[0;34m=\u001b[0m \u001b[0mself\u001b[0m\u001b[0;34m(\u001b[0m\u001b[0mX\u001b[0m\u001b[0;34m)\u001b[0m\u001b[0;34m\u001b[0m\u001b[0;34m\u001b[0m\u001b[0m\n",
      "\u001b[0m\u001b[0;32m     22 \u001b[0;31m            \u001b[0;32massert\u001b[0m \u001b[0misinstance\u001b[0m\u001b[0;34m(\u001b[0m\u001b[0my_logit\u001b[0m\u001b[0;34m,\u001b[0m \u001b[0mtorch\u001b[0m\u001b[0;34m.\u001b[0m\u001b[0mTensor\u001b[0m\u001b[0;34m)\u001b[0m\u001b[0;34m\u001b[0m\u001b[0;34m\u001b[0m\u001b[0m\n",
      "\u001b[0m\u001b[0;32m---> 23 \u001b[0;31m            \u001b[0my_proba\u001b[0m \u001b[0;34m=\u001b[0m \u001b[0mtorch\u001b[0m\u001b[0;34m.\u001b[0m\u001b[0msoftmax\u001b[0m\u001b[0;34m(\u001b[0m\u001b[0my_logit\u001b[0m\u001b[0;34m,\u001b[0m \u001b[0maxis\u001b[0m\u001b[0;34m=\u001b[0m\u001b[0;36m2\u001b[0m\u001b[0;34m)\u001b[0m\u001b[0;34m\u001b[0m\u001b[0;34m\u001b[0m\u001b[0m\n",
      "\u001b[0m\u001b[0;32m     24 \u001b[0;31m            \u001b[0mnext_token\u001b[0m \u001b[0;34m=\u001b[0m \u001b[0mtorch\u001b[0m\u001b[0;34m.\u001b[0m\u001b[0mmultinomial\u001b[0m\u001b[0;34m(\u001b[0m\u001b[0my_proba\u001b[0m\u001b[0;34m[\u001b[0m\u001b[0;34m:\u001b[0m\u001b[0;34m,\u001b[0m \u001b[0;34m-\u001b[0m\u001b[0;36m1\u001b[0m\u001b[0;34m,\u001b[0m \u001b[0;34m:\u001b[0m\u001b[0;34m]\u001b[0m\u001b[0;34m,\u001b[0m \u001b[0mnum_samples\u001b[0m\u001b[0;34m=\u001b[0m\u001b[0;36m1\u001b[0m\u001b[0;34m)\u001b[0m\u001b[0;34m\u001b[0m\u001b[0;34m\u001b[0m\u001b[0m\n",
      "\u001b[0m\u001b[0;32m     25 \u001b[0;31m            \u001b[0mX\u001b[0m \u001b[0;34m=\u001b[0m \u001b[0mtorch\u001b[0m\u001b[0;34m.\u001b[0m\u001b[0mcat\u001b[0m\u001b[0;34m(\u001b[0m\u001b[0;34m[\u001b[0m\u001b[0mX\u001b[0m\u001b[0;34m[\u001b[0m\u001b[0;34m:\u001b[0m\u001b[0;34m,\u001b[0m \u001b[0;36m1\u001b[0m\u001b[0;34m:\u001b[0m\u001b[0;34m]\u001b[0m\u001b[0;34m,\u001b[0m \u001b[0mnext_token\u001b[0m\u001b[0;34m]\u001b[0m\u001b[0;34m,\u001b[0m \u001b[0maxis\u001b[0m\u001b[0;34m=\u001b[0m\u001b[0;36m1\u001b[0m\u001b[0;34m)\u001b[0m\u001b[0;34m\u001b[0m\u001b[0;34m\u001b[0m\u001b[0m\n",
      "\u001b[0m\n"
     ]
    },
    {
     "name": "stdin",
     "output_type": "stream",
     "text": [
      "ipdb>  y_logit\n"
     ]
    },
    {
     "name": "stdout",
     "output_type": "stream",
     "text": [
      "tensor([[-2.7631e+00,  9.9062e-01, -3.3537e-01, -9.0765e-01, -4.8481e-01,\n",
      "         -2.2454e-01, -1.8219e+00, -6.2908e-02, -1.1588e+00, -1.5960e+00,\n",
      "         -1.9196e+00, -3.9353e-01,  1.5247e+00,  1.7489e-01,  6.4097e-01,\n",
      "          8.1899e-01,  1.6525e-01,  1.0941e+00,  3.6124e+00,  1.9773e+00,\n",
      "          1.0520e+00, -1.1566e+00,  3.5627e-01, -1.8867e+00, -3.9479e-01,\n",
      "          1.8337e-01,  2.8279e-01],\n",
      "        [ 1.2643e+00,  7.5333e-01, -5.1790e-01, -1.7604e+00, -1.2357e+00,\n",
      "          8.3414e-01, -2.1037e+00, -2.7824e+00, -1.4906e+00, -2.2694e-03,\n",
      "         -2.9240e+00, -1.6971e+00,  3.2932e+00,  6.1414e-01,  2.7654e+00,\n",
      "         -1.1716e+00, -2.9617e+00, -3.8996e+00,  1.0703e+00, -1.6041e-01,\n",
      "         -3.0540e-01, -2.5644e+00, -1.8339e+00, -4.0383e+00, -2.9988e+00,\n",
      "          4.4717e-01, -5.9124e-01],\n",
      "        [ 6.3073e-01,  3.7418e+00, -3.3771e+00, -1.4789e+00, -1.5102e+00,\n",
      "          3.7167e+00, -3.1904e+00, -3.1646e+00, -7.6849e-01,  4.1494e+00,\n",
      "         -2.4173e+00, -2.6876e+00, -2.1606e+00, -3.0236e+00, -3.1739e-03,\n",
      "          1.1437e+00, -4.3545e+00, -5.2605e+00, -1.2216e+00, -2.9515e+00,\n",
      "         -1.9349e+00, -1.7233e-01, -3.9359e+00, -2.2966e+00, -3.9773e+00,\n",
      "          2.0552e+00, -4.1331e+00],\n",
      "        [-3.1026e+00,  3.3121e+00, -2.4304e+00, -8.3120e-01, -9.5713e-01,\n",
      "          3.5821e+00, -3.0320e+00, -1.7210e+00, -9.8739e-02,  2.6532e+00,\n",
      "         -2.6867e+00, -7.0508e-01, -7.5537e-01, -3.3452e+00, -1.6742e+00,\n",
      "          2.1926e+00, -3.2664e+00, -3.0904e+00,  1.5551e+00, -3.1651e+00,\n",
      "         -9.7135e-01,  3.9257e-01, -2.5221e+00, -2.1851e+00, -1.9054e+00,\n",
      "          2.0178e+00, -3.7179e+00],\n",
      "        [ 1.3833e+00,  7.3492e-01, -1.4312e+00, -3.8028e-01, -1.2322e+00,\n",
      "          1.1700e+00, -2.6838e+00, -2.9630e+00, -1.0332e-01, -2.6226e-01,\n",
      "         -3.1175e+00, -9.1277e-01,  5.6433e-01,  3.9382e-01,  2.3275e+00,\n",
      "         -4.7466e-01, -1.2787e+00, -1.8637e+00,  4.3239e-01,  1.3327e+00,\n",
      "          2.9745e-01, -1.3856e+00, -2.2165e+00, -1.7246e+00, -2.2362e+00,\n",
      "         -4.5906e-01, -2.0643e+00],\n",
      "        [ 1.2331e+00,  1.8269e+00, -2.3270e+00, -6.0382e-01, -9.3754e-01,\n",
      "          2.3293e+00, -2.5849e+00, -1.4215e+00, -1.2508e+00,  1.0460e-01,\n",
      "         -2.5693e+00, -1.2221e+00, -3.6728e-01, -6.6199e-01,  1.8270e+00,\n",
      "          5.6832e-01, -2.6981e+00, -2.2916e+00, -7.2197e-01,  6.0552e-01,\n",
      "         -4.2499e-01, -2.3418e+00, -2.3506e+00, -3.5264e+00, -2.1397e+00,\n",
      "          6.2006e-01, -1.6222e+00],\n",
      "        [-3.5281e+00,  4.2904e+00,  1.4258e+00,  1.8408e+00, -3.3702e-01,\n",
      "          1.3672e+00, -2.5924e+00, -4.1870e-01,  5.1223e-01,  1.0009e+00,\n",
      "          1.7692e+00,  1.6353e+00,  3.2855e-01, -5.3010e-01, -9.3658e-01,\n",
      "         -2.5636e-01, -2.4840e+00, -3.1974e+00, -8.9917e-01, -7.1669e-01,\n",
      "         -7.0735e-01, -2.5834e+00, -2.9292e+00, -3.8587e+00, -3.0335e+00,\n",
      "         -1.2111e-01,  1.5034e-01],\n",
      "        [ 5.0345e+00,  2.6414e-01, -1.7452e+00, -1.6683e+00,  9.5290e-01,\n",
      "          7.1595e-01, -1.5933e+00, -6.8459e-02, -2.1610e+00, -6.2295e-01,\n",
      "         -3.0571e+00, -1.4653e+00,  2.6564e+00, -7.0691e-01,  8.2773e-01,\n",
      "         -5.6632e-01, -4.1174e+00, -4.2543e+00, -2.5847e-01, -2.4132e-01,\n",
      "         -2.7151e-01, -8.4480e-01, -1.6369e-01, -3.5780e+00, -1.8141e+00,\n",
      "         -3.2511e-01, -9.6864e-01],\n",
      "        [ 4.0722e+00,  1.8717e+00, -2.6072e+00, -1.7821e+00, -5.6330e-02,\n",
      "          1.2526e+00, -3.4578e+00, -2.0968e+00, -9.0547e-02,  2.0445e+00,\n",
      "         -3.4471e+00, -3.2460e+00, -8.0138e-01, -2.0188e+00,  2.4402e+00,\n",
      "         -7.5268e-01, -3.2287e+00, -4.7614e+00, -6.3188e-01, -1.8411e-01,\n",
      "          4.5743e-02, -2.3593e+00, -3.5003e+00, -3.3192e+00, -4.2727e+00,\n",
      "         -4.2215e-01, -1.3919e+00],\n",
      "        [ 6.2453e+00,  2.1740e+00, -2.2045e+00, -2.5141e+00,  2.9271e-01,\n",
      "          1.7182e+00, -3.6873e+00, -2.9694e+00, -8.5608e-01,  4.5800e-01,\n",
      "         -4.3050e+00, -2.8950e+00,  4.0112e-01, -9.0516e-01, -2.9814e-01,\n",
      "          4.6451e-01, -4.0760e+00, -4.8301e+00, -6.5541e-01, -1.5332e+00,\n",
      "         -1.3022e+00,  8.5585e-01, -2.0075e+00, -2.9908e+00, -4.3524e+00,\n",
      "         -3.2766e-01, -3.1486e+00],\n",
      "        [-2.0243e+00,  4.7536e+00, -2.0199e+00, -8.4790e-01, -1.6182e-02,\n",
      "          4.2543e+00, -2.9295e+00, -2.5846e+00, -5.3974e-01,  2.6077e+00,\n",
      "         -2.5853e+00, -2.4583e+00, -1.2714e+00, -2.5662e+00, -1.6710e+00,\n",
      "          2.4014e+00, -4.3065e+00, -4.9307e+00, -8.1867e-01, -3.5797e+00,\n",
      "         -2.7433e+00,  1.7664e+00, -1.7531e+00, -2.0785e+00, -3.5657e+00,\n",
      "          1.4435e+00, -3.6714e+00],\n",
      "        [ 3.5156e+00,  1.7376e+00, -1.9923e+00, -2.9483e+00, -6.7501e-01,\n",
      "          2.4673e+00, -2.4937e+00, -3.9733e+00, -1.9701e+00,  1.9353e+00,\n",
      "         -3.0396e+00, -2.8451e+00,  2.1349e+00,  4.3208e-02, -1.4933e+00,\n",
      "          5.2044e-01, -4.8728e+00, -6.1031e+00, -1.3418e+00, -1.5453e+00,\n",
      "         -7.7437e-01,  6.2515e-01, -1.1195e+00, -2.3163e+00, -3.6543e+00,\n",
      "          1.1770e+00, -2.0726e+00],\n",
      "        [ 5.7394e+00,  1.8549e-01, -2.3107e+00, -2.6174e+00, -5.7972e-01,\n",
      "          1.1433e+00, -3.4364e+00, -2.1563e+00,  3.0522e+00,  2.6766e-01,\n",
      "         -4.5024e+00, -2.9017e+00,  6.8933e-01, -1.4021e+00,  5.3051e-01,\n",
      "         -1.4247e+00, -3.6824e+00, -4.8299e+00,  1.4080e-01, -6.4306e-01,\n",
      "          1.0151e+00, -1.0059e-01, -2.0410e+00, -2.4815e+00, -3.4913e+00,\n",
      "         -3.8954e-02, -2.8785e+00],\n",
      "        [-1.5615e+00,  1.8321e+00,  1.4380e+00,  5.9739e-01,  1.7505e+00,\n",
      "         -3.7482e-02, -1.7392e+00, -9.7097e-01, -1.4686e+00, -5.9218e-01,\n",
      "         -6.4555e-01, -7.4817e-01,  1.2277e+00,  9.5548e-01,  1.3857e+00,\n",
      "         -1.4284e+00, -3.0575e+00, -3.1808e+00,  8.4505e-01, -6.6713e-01,\n",
      "         -1.1467e+00, -5.2933e-01,  1.3285e+00, -1.5348e+00, -1.1148e+00,\n",
      "          9.0067e-01,  8.6672e-01],\n",
      "        [-1.4052e+00,  1.9520e+00, -5.6360e-01, -4.6129e-01,  6.4996e-01,\n",
      "          5.4343e-01, -2.7850e+00, -1.6077e+00, -7.2575e-01, -2.7451e-01,\n",
      "         -1.6859e+00, -1.2960e+00,  1.5480e+00,  1.0275e+00,  3.5880e+00,\n",
      "         -6.6303e-03, -2.1376e+00, -2.7475e+00,  8.8063e-01, -6.0727e-01,\n",
      "         -1.8855e+00, -1.7790e+00, -1.3245e+00, -4.5752e+00, -3.9580e+00,\n",
      "         -3.0500e-02, -8.0185e-01],\n",
      "        [ 2.2400e+00,  1.3778e+00, -3.8983e+00, -2.4280e+00, -2.4044e-01,\n",
      "          1.8536e+00, -2.7139e+00, -2.0993e+00, -1.5093e+00,  1.7854e+00,\n",
      "         -3.6700e+00, -2.6327e+00, -4.6002e-01, -2.6242e+00,  1.8858e+00,\n",
      "         -4.7006e-01, -4.2360e+00, -4.4209e+00,  9.1031e-01, -6.3492e-01,\n",
      "          6.3450e-01, -1.5519e+00, -1.8381e+00, -2.0224e+00, -1.2961e+00,\n",
      "          1.3789e+00, -2.1197e+00],\n",
      "        [ 3.6433e+00,  3.3104e+00, -4.2733e+00, -2.6380e+00, -2.0697e+00,\n",
      "          3.2841e+00, -3.8591e+00, -3.5202e+00,  6.1341e-01,  1.6383e+00,\n",
      "         -4.2972e+00, -4.1284e+00, -3.0275e+00, -3.5740e+00,  5.3033e-02,\n",
      "          2.5035e+00, -2.5871e+00, -2.7405e+00, -3.4065e-01, -2.3860e+00,\n",
      "         -6.2116e-01,  8.0897e-01, -3.9359e+00, -1.8548e+00, -3.8606e+00,\n",
      "          1.4088e+00, -4.2597e+00],\n",
      "        [ 6.5539e-02,  2.3899e+00, -1.1294e+00, -8.3307e-01, -7.7855e-01,\n",
      "          2.7939e+00, -2.0190e+00, -1.5863e+00,  3.0434e+00,  1.4886e+00,\n",
      "         -2.9766e+00, -1.3420e+00, -9.4083e-02, -1.8712e+00, -1.8386e+00,\n",
      "          3.6464e-01, -1.8318e+00, -3.7057e+00, -3.9061e-01, -1.1073e+00,\n",
      "          6.8056e-01, -4.9346e-01, -2.7458e+00, -1.6739e+00, -3.6883e+00,\n",
      "         -5.2941e-01, -2.3769e+00],\n",
      "        [ 6.9116e-01,  1.7358e+00, -1.2945e+00,  3.1653e-01, -8.8589e-01,\n",
      "          1.7181e+00, -2.4933e+00, -1.4364e+00, -1.0640e+00, -6.5733e-01,\n",
      "         -2.1295e+00, -2.7613e-01,  4.1212e-01,  8.2423e-03,  1.1783e+00,\n",
      "          5.0053e-01, -1.9424e+00, -1.6391e+00, -6.2225e-01,  1.0247e+00,\n",
      "          1.2948e-01, -2.1590e+00, -2.0769e+00, -3.4250e+00, -2.3438e+00,\n",
      "          3.5515e-01, -1.4787e+00],\n",
      "        [-8.4007e-01,  1.1969e+00, -2.1439e+00, -5.8603e-01,  1.0340e+00,\n",
      "          3.9564e-01, -1.1409e+00,  5.2238e-01,  6.1446e-01,  1.1553e-01,\n",
      "         -1.0274e+00, -1.2158e+00, -7.1548e-01, -1.2204e+00,  1.7157e+00,\n",
      "          3.7487e-01, -1.0673e-01, -1.2854e+00,  6.7511e-01,  4.8194e-01,\n",
      "          1.6905e+00, -1.8722e+00, -7.0039e-01, -1.9361e+00, -2.2580e+00,\n",
      "         -3.0888e-01, -6.7751e-01],\n",
      "        [-1.7586e+00,  2.8632e+00,  1.4134e+00, -5.3312e-01, -2.6255e+00,\n",
      "         -1.0930e+00, -1.4836e+00,  1.4357e+00,  1.9609e-01, -5.0445e-01,\n",
      "          2.5619e+00, -3.5274e-01,  9.2172e-01, -4.9267e-01, -1.0925e+00,\n",
      "         -4.9239e-01, -2.8087e+00, -2.2556e+00, -4.8643e-01,  6.7310e-01,\n",
      "          6.5722e-01, -1.8049e+00,  8.5420e-01, -1.9572e+00,  3.8741e-02,\n",
      "          1.5915e+00,  5.5573e+00],\n",
      "        [ 8.6848e-02,  2.3821e+00, -1.8097e+00, -1.6826e+00, -2.7802e+00,\n",
      "          2.0119e+00, -2.8943e+00, -2.5725e+00,  2.0197e+00,  1.6124e+00,\n",
      "         -2.8582e+00, -1.1720e+00,  6.4725e-01, -2.3764e+00, -1.8403e+00,\n",
      "          1.1884e+00, -2.1117e+00, -3.1085e+00,  5.2772e-01, -1.6575e+00,\n",
      "          1.0087e+00, -1.8403e-01, -3.2234e+00, -1.9126e+00, -3.4725e+00,\n",
      "          1.1123e+00, -2.3515e+00],\n",
      "        [-2.4835e+00,  1.5237e+00, -1.1119e+00, -7.9411e-01, -2.4599e+00,\n",
      "          9.2935e-01, -3.6969e+00, -2.3760e+00,  3.0632e+00,  1.4621e+00,\n",
      "         -1.1732e+00,  8.5736e-01,  1.4188e+00,  3.4952e-01, -1.9532e+00,\n",
      "          8.2750e-01, -7.9597e-01, -2.1235e+00,  2.6434e-01,  3.2236e-01,\n",
      "          1.9314e+00, -7.2815e-01, -1.6780e+00, -1.8220e+00, -2.8311e+00,\n",
      "          3.5554e-01, -8.1206e-01],\n",
      "        [-2.9472e+00,  2.0301e+00, -2.5511e-01, -4.1125e-01, -5.8250e-01,\n",
      "          1.7749e+00, -2.6524e+00, -2.1097e+00, -1.2999e+00,  2.1404e+00,\n",
      "         -1.6418e+00, -9.2452e-02,  2.0608e+00, -3.4516e-01, -2.2366e+00,\n",
      "          1.2830e+00, -2.5477e+00, -3.3261e+00,  7.5678e-01, -1.0625e+00,\n",
      "         -3.9260e-01,  7.5588e-01, -2.3263e-01, -1.6827e+00, -2.2639e+00,\n",
      "          1.1816e+00, -1.7117e+00],\n",
      "        [ 2.3903e+00, -1.2213e-01, -1.2134e+00, -1.0849e+00,  4.8374e-01,\n",
      "         -1.4294e+00, -2.8474e+00, -2.1498e-01,  1.7885e+00, -7.1741e-01,\n",
      "         -2.7036e+00, -1.0642e+00,  1.2664e+00, -4.2082e-02,  4.0594e+00,\n",
      "         -1.6748e+00, -1.7767e+00, -2.3494e+00,  1.1871e+00,  7.9359e-01,\n",
      "          5.8555e-02, -1.6590e+00, -1.6688e+00, -3.4558e+00, -4.0812e+00,\n",
      "         -8.4728e-01, -6.1732e-01],\n",
      "        [-3.1445e+00,  8.5805e-01, -1.0027e+00, -3.9259e-01,  1.2665e+00,\n",
      "          2.0700e+00,  1.1176e-01, -8.7774e-01,  3.7538e-01, -1.6862e-01,\n",
      "          8.7031e-01,  2.4920e-01,  3.9874e-01,  3.4614e+00,  2.3123e+00,\n",
      "          3.2951e-01,  1.3330e+00, -4.8931e-01,  9.0243e-01, -4.1336e-01,\n",
      "         -1.9413e+00, -3.0064e+00, -1.4740e+00, -2.6124e+00, -3.0201e+00,\n",
      "         -6.9466e-01, -2.6571e+00],\n",
      "        [-2.0030e+00,  1.0576e+00,  1.7568e+00,  5.4027e-02,  2.1259e-01,\n",
      "          3.5076e-01, -1.2545e+00, -1.5865e+00,  1.7641e-01,  3.0571e-01,\n",
      "         -1.8114e+00, -1.0252e+00,  2.4669e+00,  9.5865e-01,  1.3457e+00,\n",
      "         -1.2549e+00, -1.1700e+00, -2.7450e+00,  2.1025e+00, -1.0224e+00,\n",
      "         -1.0007e+00, -8.3067e-01, -6.0271e-01, -2.3371e+00, -3.2471e+00,\n",
      "          4.6644e-02, -1.1124e+00],\n",
      "        [ 3.7302e+00,  2.8022e+00, -2.4794e+00, -1.3806e+00,  1.8092e-01,\n",
      "          1.0623e+00, -3.8189e+00, -2.9565e+00, -2.3089e+00,  7.7571e-01,\n",
      "         -3.4429e+00, -2.0963e+00,  1.6011e-01, -2.0379e+00,  2.9246e+00,\n",
      "          4.0736e-01, -4.1700e+00, -4.8027e+00, -1.0089e+00, -6.1606e-01,\n",
      "         -1.0155e+00, -9.9727e-01, -2.9122e+00, -3.7607e+00, -3.9221e+00,\n",
      "         -3.6601e-01, -1.6450e+00],\n",
      "        [-3.4852e+00,  1.7254e+00, -6.5320e-01, -4.1838e-01, -7.2191e-01,\n",
      "          1.8573e+00, -2.7665e+00, -1.7444e+00, -6.1690e-01,  2.8381e+00,\n",
      "         -6.8597e-01,  3.2355e-02,  1.5029e+00,  4.5087e-01, -1.4131e-01,\n",
      "          2.4235e-01, -2.3844e+00, -3.6365e+00,  7.1147e-01, -9.8844e-01,\n",
      "         -6.5091e-01, -2.0344e+00, -1.7114e+00, -3.1215e+00, -2.8251e+00,\n",
      "          1.1768e+00, -1.3040e+00],\n",
      "        [ 3.5131e+00,  3.8904e+00, -2.3209e+00, -9.4298e-01, -3.7318e-01,\n",
      "          2.7932e+00, -3.2397e+00, -6.2607e-01,  3.9706e-01,  7.2980e-01,\n",
      "         -1.1569e+00, -1.1590e+00, -1.4906e+00, -2.5051e+00,  1.4280e+00,\n",
      "          1.0046e+00, -3.9379e+00, -4.1086e+00, -2.6620e+00, -1.3414e+00,\n",
      "         -2.6681e+00, -2.4365e+00, -5.2947e+00, -5.7117e+00, -4.8716e+00,\n",
      "         -4.6482e-01, -2.2500e+00],\n",
      "        [ 1.7270e+00,  1.3419e-01, -1.6916e+00, -1.5111e+00, -3.4286e-01,\n",
      "          1.2101e+00, -2.6781e+00, -1.5461e+00, -1.4932e+00,  7.0089e-01,\n",
      "         -3.0088e+00, -9.9051e-01,  2.5260e+00, -4.6995e-01,  1.5791e+00,\n",
      "         -1.3756e+00, -4.0273e+00, -4.1561e+00,  9.3746e-01,  5.1871e-01,\n",
      "          7.4855e-01, -2.8791e+00, -1.7011e+00, -3.7235e+00, -1.6974e+00,\n",
      "          8.8608e-01, -1.1825e+00],\n",
      "        [-2.8348e+00,  1.2751e+00, -1.5006e-03,  1.0378e+00, -1.9917e+00,\n",
      "          2.8057e-01, -3.5986e+00, -7.7150e-01, -9.5708e-01,  1.4272e+00,\n",
      "          2.6795e+00,  1.9832e+00,  8.1472e-01,  6.0185e-01, -8.9226e-01,\n",
      "         -3.1291e-01, -2.9948e+00, -1.9668e+00, -1.1259e+00,  1.3440e+00,\n",
      "          8.6654e-01, -2.7661e+00, -4.4694e-01, -1.6245e+00,  1.3268e+00,\n",
      "          2.4589e+00,  2.9294e+00]], device='cuda:0')\n"
     ]
    },
    {
     "name": "stdin",
     "output_type": "stream",
     "text": [
      "ipdb>  y_logit.shape\n"
     ]
    },
    {
     "name": "stdout",
     "output_type": "stream",
     "text": [
      "torch.Size([32, 27])\n"
     ]
    },
    {
     "name": "stdin",
     "output_type": "stream",
     "text": [
      "ipdb>  y_logit.shape\n"
     ]
    },
    {
     "name": "stdout",
     "output_type": "stream",
     "text": [
      "torch.Size([32, 27])\n"
     ]
    },
    {
     "name": "stdin",
     "output_type": "stream",
     "text": [
      "ipdb>  q\n"
     ]
    }
   ],
   "source": [
    "%debug "
   ]
  },
  {
   "cell_type": "code",
   "execution_count": 121,
   "id": "da5b724b-52b3-4056-b30c-f259c342af18",
   "metadata": {},
   "outputs": [
    {
     "data": {
      "text/plain": [
       "torch.Size([9, 8])"
      ]
     },
     "execution_count": 121,
     "metadata": {},
     "output_type": "execute_result"
    }
   ],
   "source": [
    "X.shape"
   ]
  },
  {
   "cell_type": "code",
   "execution_count": 20,
   "id": "42717c27-7f82-44ce-8e83-446ab198bb2c",
   "metadata": {},
   "outputs": [
    {
     "data": {
      "text/plain": [
       "[<matplotlib.lines.Line2D at 0x140d1ae10>]"
      ]
     },
     "execution_count": 20,
     "metadata": {},
     "output_type": "execute_result"
    },
    {
     "data": {
      "image/png": "[encoded data removed]",
      "text/plain": [
       "<Figure size 800x300 with 1 Axes>"
      ]
     },
     "metadata": {},
     "output_type": "display_data"
    }
   ],
   "source": [
    "fig, ax = plt.subplots(1,1,figsize=(8,3))\n",
    "ax.plot(torch.as_tensor(losses).view(-1, 20).mean(1))"
   ]
  },
  {
   "cell_type": "code",
   "execution_count": 235,
   "id": "bd3e0312-a444-4f58-ac70-50a9692a435c",
   "metadata": {},
   "outputs": [
    {
     "data": {
      "text/plain": [
       "[<matplotlib.lines.Line2D at 0x286805250>]"
      ]
     },
     "execution_count": 235,
     "metadata": {},
     "output_type": "execute_result"
    },
    {
     "data": {
      "image/png": "[encoded data removed]",
      "text/plain": [
       "<Figure size 800x300 with 1 Axes>"
      ]
     },
     "metadata": {},
     "output_type": "display_data"
    }
   ],
   "source": [
    "fig, ax = plt.subplots(1,1,figsize=(8,3))\n",
    "ax.plot(torch.as_tensor(losses).view(-1, 20).mean(1))"
   ]
  },
  {
   "cell_type": "code",
   "execution_count": 239,
   "id": "4a7648f1-d264-4a80-88fc-14c7b196c08d",
   "metadata": {},
   "outputs": [
    {
     "data": {
      "text/plain": [
       "\"rifave tentha n is il tinoue, l ie s tot SAnt fos oowi'ste n cilld harr tet; be s h grors ake, he kik\\nF f foxthe iverrfeoran ce fisin suean;\\nhe: w honous, gen har warry s, t horol mbleliglllly s mes PONoseaingn, matherds\\nAUThaved RIO,\\nAs!\\nThour.\\nHUCis;\\nThie INGo;\\nBE: foladopefit, pit se adve, h hatriernoay lecet asby wbe ff;\\nA G tajou l\\n\\n\\nRO:\\nI l ags fandet VIShill.\\nMathalemu\\nOLAREWre ld MPred se mousoteall, mst, te d s I ts fl hat;\\nCAnd tousenconowakesim,\\nThur ve rorecthithase; gug mpplyo arean GBunok I MPRDWeag s haughe LI d thar,\\n\\nTUSetar want-t it t INThesetre wne tove ave hatt as y e y, d lpa brimugnd prd\\nANThous mevol m ondeenermaverthimo tanin-m h mefry sot y und, our tar ck Hounghathe wirismyo wacevart.\\nS:\\nTourdertly t---dooandiromo 'sashashyor te pel mar, de't;\\nGAPr d:\\nR:\\n\\nMENoun tr-\\n\\nCEDWhin soucovene mumetolotours ge; be ve tootulyl oo'meantuaize sst en! IStoun, anis fund! he Wrd, binglt theel nt hiovave d ar, himas my, thashes.\\nTwht! s.\\nKIINCKENI in mfapa dou ng\\nAste wig nc\""
      ]
     },
     "execution_count": 239,
     "metadata": {},
     "output_type": "execute_result"
    }
   ],
   "source": [
    "''.join(ds_train.decode(model.predict(X, 1000)[0]))"
   ]
  },
  {
   "cell_type": "code",
   "execution_count": null,
   "id": "062cf9dc-dad1-48c1-8275-dbe2a931977c",
   "metadata": {},
   "outputs": [],
   "source": []
  },
  {
   "cell_type": "code",
   "execution_count": null,
   "id": "002c79f0-de83-4ad5-a3fc-90c1cede608e",
   "metadata": {},
   "outputs": [],
   "source": []
  },
  {
   "cell_type": "code",
   "execution_count": null,
   "id": "e4ae632a-06d1-43ea-8e80-d2d6432848fb",
   "metadata": {},
   "outputs": [],
   "source": []
  },
  {
   "cell_type": "code",
   "execution_count": 40,
   "id": "401a3281-ef68-4113-ada0-91f28327a040",
   "metadata": {},
   "outputs": [
    {
     "data": {
      "text/plain": [
       "torch.Size([1, 8, 65])"
      ]
     },
     "execution_count": 40,
     "metadata": {},
     "output_type": "execute_result"
    }
   ],
   "source": [
    "y_logit.shape"
   ]
  }
 ],
 "metadata": {
  "kernelspec": {
   "display_name": "Python 3 (ipykernel)",
   "language": "python",
   "name": "python3"
  },
  "language_info": {
   "codemirror_mode": {
    "name": "ipython",
    "version": 3
   },
   "file_extension": ".py",
   "mimetype": "text/x-python",
   "name": "python",
   "nbconvert_exporter": "python",
   "pygments_lexer": "ipython3",
   "version": "3.10.12"
  }
 },
 "nbformat": 4,
 "nbformat_minor": 5
}
