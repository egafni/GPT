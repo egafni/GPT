{
 "cells": [
  {
   "cell_type": "code",
   "execution_count": 16,
   "id": "f10647e9-f15a-4f71-b565-f5758f5ef802",
   "metadata": {},
   "outputs": [
    {
     "data": {
      "text/html": [
       "<div>\n",
       "<style scoped>\n",
       "    .dataframe tbody tr th:only-of-type {\n",
       "        vertical-align: middle;\n",
       "    }\n",
       "\n",
       "    .dataframe tbody tr th {\n",
       "        vertical-align: top;\n",
       "    }\n",
       "\n",
       "    .dataframe thead th {\n",
       "        text-align: right;\n",
       "    }\n",
       "</style>\n",
       "<table border=\"1\" class=\"dataframe\">\n",
       "  <thead>\n",
       "    <tr style=\"text-align: right;\">\n",
       "      <th></th>\n",
       "      <th>erik</th>\n",
       "      <th>hattie</th>\n",
       "      <th>michael</th>\n",
       "      <th>sandra</th>\n",
       "      <th>dan</th>\n",
       "    </tr>\n",
       "  </thead>\n",
       "  <tbody>\n",
       "    <tr>\n",
       "      <th>0</th>\n",
       "      <td>NaN</td>\n",
       "      <td>NaN</td>\n",
       "      <td>NaN</td>\n",
       "      <td>NaN</td>\n",
       "      <td>NaN</td>\n",
       "    </tr>\n",
       "    <tr>\n",
       "      <th>1</th>\n",
       "      <td>NaN</td>\n",
       "      <td>NaN</td>\n",
       "      <td>NaN</td>\n",
       "      <td>NaN</td>\n",
       "      <td>NaN</td>\n",
       "    </tr>\n",
       "    <tr>\n",
       "      <th>2</th>\n",
       "      <td>NaN</td>\n",
       "      <td>NaN</td>\n",
       "      <td>NaN</td>\n",
       "      <td>NaN</td>\n",
       "      <td>NaN</td>\n",
       "    </tr>\n",
       "    <tr>\n",
       "      <th>3</th>\n",
       "      <td>NaN</td>\n",
       "      <td>NaN</td>\n",
       "      <td>NaN</td>\n",
       "      <td>NaN</td>\n",
       "      <td>NaN</td>\n",
       "    </tr>\n",
       "    <tr>\n",
       "      <th>4</th>\n",
       "      <td>NaN</td>\n",
       "      <td>NaN</td>\n",
       "      <td>NaN</td>\n",
       "      <td>NaN</td>\n",
       "      <td>NaN</td>\n",
       "    </tr>\n",
       "    <tr>\n",
       "      <th>5</th>\n",
       "      <td>NaN</td>\n",
       "      <td>NaN</td>\n",
       "      <td>NaN</td>\n",
       "      <td>NaN</td>\n",
       "      <td>NaN</td>\n",
       "    </tr>\n",
       "    <tr>\n",
       "      <th>6</th>\n",
       "      <td>NaN</td>\n",
       "      <td>NaN</td>\n",
       "      <td>NaN</td>\n",
       "      <td>NaN</td>\n",
       "      <td>NaN</td>\n",
       "    </tr>\n",
       "  </tbody>\n",
       "</table>\n",
       "</div>"
      ],
      "text/plain": [
       "   erik  hattie  michael  sandra  dan\n",
       "0   NaN     NaN      NaN     NaN  NaN\n",
       "1   NaN     NaN      NaN     NaN  NaN\n",
       "2   NaN     NaN      NaN     NaN  NaN\n",
       "3   NaN     NaN      NaN     NaN  NaN\n",
       "4   NaN     NaN      NaN     NaN  NaN\n",
       "5   NaN     NaN      NaN     NaN  NaN\n",
       "6   NaN     NaN      NaN     NaN  NaN"
      ]
     },
     "execution_count": 16,
     "metadata": {},
     "output_type": "execute_result"
    }
   ],
   "source": [
    "df.iloc[:, 2:]"
   ]
  },
  {
   "cell_type": "code",
   "execution_count": 69,
   "id": "5b7724f2-8166-4518-8821-56c102eb125b",
   "metadata": {},
   "outputs": [
    {
     "data": {
      "text/plain": [
       "erik       324.75\n",
       "hattie     310.37\n",
       "michael    310.37\n",
       "sandra      42.31\n",
       "dan        133.96\n",
       "ke          42.31\n",
       "val         19.61\n",
       "dtype: float64"
      ]
     },
     "execution_count": 69,
     "metadata": {},
     "output_type": "execute_result"
    }
   ],
   "source": [
    "import pandas as pd\n",
    "import io\n",
    "x = io.StringIO(\"\"\"cost\titem\terik\thattie\tmichael\tsandra\tdan\tke\tval\n",
    "54\tmcdonalds\t1\t1\t1\t0\t0\t0\t1\n",
    "187\tgroceries\t1.25\t1\t1\t0\t0\t0\t0\n",
    "55\tgas\t1\t1\t1\t0.5\t0\t.5\t.5\n",
    "59.83\tfood delivery\t1\t1\t1\t0\t0\t0\t0\n",
    "111\tfood delivery\t1\t1\t1\t0\t0\t0\t0\n",
    "181\tdinner\t1\t1\t1\t1\t0\t1\t0\n",
    "535.86\thotel\t1\t1\t1\t0\t1\t0\t0\"\"\"\n",
    ")\n",
    "df = pd.read_table(x)\n",
    "df2 = df.set_index(['cost','item'])\n",
    "df2 = df2.astype(float)\n",
    "df2 /= df2.sum(1).values[:, None]\n",
    "# df2 = df.copy()\n",
    "# df2['owes'] = df[]\n",
    "df['cost']\n",
    "(df2 * df['cost'].values[:,None]).sum(0).round(2)"
   ]
  },
  {
   "cell_type": "code",
   "execution_count": 70,
   "id": "0b7389d1-732e-4a26-bab6-8e15551cabc7",
   "metadata": {},
   "outputs": [
    {
     "data": {
      "text/html": [
       "<div>\n",
       "<style scoped>\n",
       "    .dataframe tbody tr th:only-of-type {\n",
       "        vertical-align: middle;\n",
       "    }\n",
       "\n",
       "    .dataframe tbody tr th {\n",
       "        vertical-align: top;\n",
       "    }\n",
       "\n",
       "    .dataframe thead th {\n",
       "        text-align: right;\n",
       "    }\n",
       "</style>\n",
       "<table border=\"1\" class=\"dataframe\">\n",
       "  <thead>\n",
       "    <tr style=\"text-align: right;\">\n",
       "      <th></th>\n",
       "      <th></th>\n",
       "      <th>erik</th>\n",
       "      <th>hattie</th>\n",
       "      <th>michael</th>\n",
       "      <th>sandra</th>\n",
       "      <th>dan</th>\n",
       "      <th>ke</th>\n",
       "      <th>val</th>\n",
       "    </tr>\n",
       "    <tr>\n",
       "      <th>cost</th>\n",
       "      <th>item</th>\n",
       "      <th></th>\n",
       "      <th></th>\n",
       "      <th></th>\n",
       "      <th></th>\n",
       "      <th></th>\n",
       "      <th></th>\n",
       "      <th></th>\n",
       "    </tr>\n",
       "  </thead>\n",
       "  <tbody>\n",
       "    <tr>\n",
       "      <th>54.00</th>\n",
       "      <th>mcdonalds</th>\n",
       "      <td>0.25</td>\n",
       "      <td>0.25</td>\n",
       "      <td>0.25</td>\n",
       "      <td>0.00</td>\n",
       "      <td>0.00</td>\n",
       "      <td>0.00</td>\n",
       "      <td>0.25</td>\n",
       "    </tr>\n",
       "    <tr>\n",
       "      <th>187.00</th>\n",
       "      <th>groceries</th>\n",
       "      <td>0.38</td>\n",
       "      <td>0.31</td>\n",
       "      <td>0.31</td>\n",
       "      <td>0.00</td>\n",
       "      <td>0.00</td>\n",
       "      <td>0.00</td>\n",
       "      <td>0.00</td>\n",
       "    </tr>\n",
       "    <tr>\n",
       "      <th>55.00</th>\n",
       "      <th>gas</th>\n",
       "      <td>0.22</td>\n",
       "      <td>0.22</td>\n",
       "      <td>0.22</td>\n",
       "      <td>0.11</td>\n",
       "      <td>0.00</td>\n",
       "      <td>0.11</td>\n",
       "      <td>0.11</td>\n",
       "    </tr>\n",
       "    <tr>\n",
       "      <th>59.83</th>\n",
       "      <th>food delivery</th>\n",
       "      <td>0.33</td>\n",
       "      <td>0.33</td>\n",
       "      <td>0.33</td>\n",
       "      <td>0.00</td>\n",
       "      <td>0.00</td>\n",
       "      <td>0.00</td>\n",
       "      <td>0.00</td>\n",
       "    </tr>\n",
       "    <tr>\n",
       "      <th>111.00</th>\n",
       "      <th>food delivery</th>\n",
       "      <td>0.33</td>\n",
       "      <td>0.33</td>\n",
       "      <td>0.33</td>\n",
       "      <td>0.00</td>\n",
       "      <td>0.00</td>\n",
       "      <td>0.00</td>\n",
       "      <td>0.00</td>\n",
       "    </tr>\n",
       "    <tr>\n",
       "      <th>181.00</th>\n",
       "      <th>dinner</th>\n",
       "      <td>0.20</td>\n",
       "      <td>0.20</td>\n",
       "      <td>0.20</td>\n",
       "      <td>0.20</td>\n",
       "      <td>0.00</td>\n",
       "      <td>0.20</td>\n",
       "      <td>0.00</td>\n",
       "    </tr>\n",
       "    <tr>\n",
       "      <th>535.86</th>\n",
       "      <th>hotel</th>\n",
       "      <td>0.25</td>\n",
       "      <td>0.25</td>\n",
       "      <td>0.25</td>\n",
       "      <td>0.00</td>\n",
       "      <td>0.25</td>\n",
       "      <td>0.00</td>\n",
       "      <td>0.00</td>\n",
       "    </tr>\n",
       "  </tbody>\n",
       "</table>\n",
       "</div>"
      ],
      "text/plain": [
       "                      erik  hattie  michael  sandra   dan    ke   val\n",
       "cost   item                                                          \n",
       "54.00  mcdonalds      0.25    0.25     0.25    0.00  0.00  0.00  0.25\n",
       "187.00 groceries      0.38    0.31     0.31    0.00  0.00  0.00  0.00\n",
       "55.00  gas            0.22    0.22     0.22    0.11  0.00  0.11  0.11\n",
       "59.83  food delivery  0.33    0.33     0.33    0.00  0.00  0.00  0.00\n",
       "111.00 food delivery  0.33    0.33     0.33    0.00  0.00  0.00  0.00\n",
       "181.00 dinner         0.20    0.20     0.20    0.20  0.00  0.20  0.00\n",
       "535.86 hotel          0.25    0.25     0.25    0.00  0.25  0.00  0.00"
      ]
     },
     "execution_count": 70,
     "metadata": {},
     "output_type": "execute_result"
    }
   ],
   "source": [
    "df2.round(2)"
   ]
  },
  {
   "cell_type": "code",
   "execution_count": 71,
   "id": "e9d16783-d3ec-4e2b-9c0a-898a65aed420",
   "metadata": {},
   "outputs": [
    {
     "data": {
      "text/html": [
       "<div>\n",
       "<style scoped>\n",
       "    .dataframe tbody tr th:only-of-type {\n",
       "        vertical-align: middle;\n",
       "    }\n",
       "\n",
       "    .dataframe tbody tr th {\n",
       "        vertical-align: top;\n",
       "    }\n",
       "\n",
       "    .dataframe thead th {\n",
       "        text-align: right;\n",
       "    }\n",
       "</style>\n",
       "<table border=\"1\" class=\"dataframe\">\n",
       "  <thead>\n",
       "    <tr style=\"text-align: right;\">\n",
       "      <th></th>\n",
       "      <th></th>\n",
       "      <th>erik</th>\n",
       "      <th>hattie</th>\n",
       "      <th>michael</th>\n",
       "      <th>sandra</th>\n",
       "      <th>dan</th>\n",
       "      <th>ke</th>\n",
       "      <th>val</th>\n",
       "    </tr>\n",
       "    <tr>\n",
       "      <th>cost</th>\n",
       "      <th>item</th>\n",
       "      <th></th>\n",
       "      <th></th>\n",
       "      <th></th>\n",
       "      <th></th>\n",
       "      <th></th>\n",
       "      <th></th>\n",
       "      <th></th>\n",
       "    </tr>\n",
       "  </thead>\n",
       "  <tbody>\n",
       "    <tr>\n",
       "      <th>54.00</th>\n",
       "      <th>mcdonalds</th>\n",
       "      <td>13.50</td>\n",
       "      <td>13.50</td>\n",
       "      <td>13.50</td>\n",
       "      <td>0.00</td>\n",
       "      <td>0.00</td>\n",
       "      <td>0.00</td>\n",
       "      <td>13.50</td>\n",
       "    </tr>\n",
       "    <tr>\n",
       "      <th>187.00</th>\n",
       "      <th>groceries</th>\n",
       "      <td>71.92</td>\n",
       "      <td>57.54</td>\n",
       "      <td>57.54</td>\n",
       "      <td>0.00</td>\n",
       "      <td>0.00</td>\n",
       "      <td>0.00</td>\n",
       "      <td>0.00</td>\n",
       "    </tr>\n",
       "    <tr>\n",
       "      <th>55.00</th>\n",
       "      <th>gas</th>\n",
       "      <td>12.22</td>\n",
       "      <td>12.22</td>\n",
       "      <td>12.22</td>\n",
       "      <td>6.11</td>\n",
       "      <td>0.00</td>\n",
       "      <td>6.11</td>\n",
       "      <td>6.11</td>\n",
       "    </tr>\n",
       "    <tr>\n",
       "      <th>59.83</th>\n",
       "      <th>food delivery</th>\n",
       "      <td>19.94</td>\n",
       "      <td>19.94</td>\n",
       "      <td>19.94</td>\n",
       "      <td>0.00</td>\n",
       "      <td>0.00</td>\n",
       "      <td>0.00</td>\n",
       "      <td>0.00</td>\n",
       "    </tr>\n",
       "    <tr>\n",
       "      <th>111.00</th>\n",
       "      <th>food delivery</th>\n",
       "      <td>37.00</td>\n",
       "      <td>37.00</td>\n",
       "      <td>37.00</td>\n",
       "      <td>0.00</td>\n",
       "      <td>0.00</td>\n",
       "      <td>0.00</td>\n",
       "      <td>0.00</td>\n",
       "    </tr>\n",
       "    <tr>\n",
       "      <th>181.00</th>\n",
       "      <th>dinner</th>\n",
       "      <td>36.20</td>\n",
       "      <td>36.20</td>\n",
       "      <td>36.20</td>\n",
       "      <td>36.20</td>\n",
       "      <td>0.00</td>\n",
       "      <td>36.20</td>\n",
       "      <td>0.00</td>\n",
       "    </tr>\n",
       "    <tr>\n",
       "      <th>535.86</th>\n",
       "      <th>hotel</th>\n",
       "      <td>133.96</td>\n",
       "      <td>133.96</td>\n",
       "      <td>133.96</td>\n",
       "      <td>0.00</td>\n",
       "      <td>133.96</td>\n",
       "      <td>0.00</td>\n",
       "      <td>0.00</td>\n",
       "    </tr>\n",
       "  </tbody>\n",
       "</table>\n",
       "</div>"
      ],
      "text/plain": [
       "                        erik  hattie  michael  sandra     dan     ke    val\n",
       "cost   item                                                                \n",
       "54.00  mcdonalds       13.50   13.50    13.50    0.00    0.00   0.00  13.50\n",
       "187.00 groceries       71.92   57.54    57.54    0.00    0.00   0.00   0.00\n",
       "55.00  gas             12.22   12.22    12.22    6.11    0.00   6.11   6.11\n",
       "59.83  food delivery   19.94   19.94    19.94    0.00    0.00   0.00   0.00\n",
       "111.00 food delivery   37.00   37.00    37.00    0.00    0.00   0.00   0.00\n",
       "181.00 dinner          36.20   36.20    36.20   36.20    0.00  36.20   0.00\n",
       "535.86 hotel          133.96  133.96   133.96    0.00  133.96   0.00   0.00"
      ]
     },
     "execution_count": 71,
     "metadata": {},
     "output_type": "execute_result"
    }
   ],
   "source": [
    "df3 = (df2 * df['cost'].values[:,None]).round(2)\n",
    "df3"
   ]
  },
  {
   "cell_type": "code",
   "execution_count": 72,
   "id": "e06b6ea8-9c76-455a-b067-77a5ce18867f",
   "metadata": {},
   "outputs": [
    {
     "data": {
      "text/plain": [
       "erik       324.74\n",
       "hattie     310.36\n",
       "michael    310.36\n",
       "sandra      42.31\n",
       "dan        133.96\n",
       "ke          42.31\n",
       "val         19.61\n",
       "dtype: float64"
      ]
     },
     "execution_count": 72,
     "metadata": {},
     "output_type": "execute_result"
    }
   ],
   "source": [
    "df3.sum(0)"
   ]
  },
  {
   "cell_type": "code",
   "execution_count": 1,
   "id": "a742ff07-5fac-464f-abf3-47f0a18ed2e2",
   "metadata": {},
   "outputs": [],
   "source": [
    "# %load_ext autoreload\n",
    "# %autoreload 2\n",
    "# from nn.value import Value\n",
    "import random\n",
    "import numpy as np\n",
    "import matplotlib.pyplot as plt\n",
    "import torch\n",
    "from nn.value import Value, exp, log, softmax\n",
    "from nn.module import Layer, MLP, Relu, Tanh\n",
    "\n",
    "%matplotlib inline\n",
    "np.random.seed(1337)\n",
    "random.seed(1337)"
   ]
  },
  {
   "cell_type": "markdown",
   "id": "0baab4a3-cf70-40cf-a3c7-f34aa066a7d3",
   "metadata": {},
   "source": [
    "# Regression"
   ]
  },
  {
   "cell_type": "code",
   "execution_count": 2,
   "id": "8dae9865-c9be-4b3a-a48c-0b30e2560d11",
   "metadata": {},
   "outputs": [
    {
     "data": {
      "text/plain": [
       "(tensor(8.), tensor(4.), None, tensor(32., grad_fn=<MulBackward0>))"
      ]
     },
     "execution_count": 2,
     "metadata": {},
     "output_type": "execute_result"
    }
   ],
   "source": [
    "# x = 4.\n",
    "x = torch.tensor(4., requires_grad=True)\n",
    "y = x*2\n",
    "y.retain_grad()\n",
    "z = y*4\n",
    "z.backward()\n",
    "z.retain_grad()\n",
    "x.grad, y.grad, z.grad, z"
   ]
  },
  {
   "cell_type": "code",
   "execution_count": 3,
   "id": "4ba2d927-b615-49f2-83a2-9a3852a6db28",
   "metadata": {},
   "outputs": [
    {
     "data": {
      "text/plain": [
       "(15.7781121978613, 0.0, 0.0, 0.0)"
      ]
     },
     "execution_count": 3,
     "metadata": {},
     "output_type": "execute_result"
    }
   ],
   "source": [
    "backend = 'Value'\n",
    "x1, x2 = 1., -1.\n",
    "w1, w2 = .1, .04\n",
    "if backend == 'Value':\n",
    "    f = Value\n",
    "    exp_ = exp\n",
    "    log_ = log\n",
    "elif backend == 'torch':\n",
    "    f = torch.tensor\n",
    "    exp_ = torch.exp\n",
    "    log_ = torch.log\n",
    "else:\n",
    "    raise ValueError(f'{backend} is invalid')\n",
    "\n",
    "x1, x2, w1, w2 = f(x1), f(x2), f(w1), f(w2)\n",
    "parameters = [x1, x2, w1, w2]\n",
    "\n",
    "for p in parameters:\n",
    "    # only for torch\n",
    "    p.requires_grad = True\n",
    "\n",
    "# forward\n",
    "z = x1*2\n",
    "y = log_(z) + exp_(z)  # this breaks things!\n",
    "\n",
    "# zero\n",
    "for p in parameters:\n",
    "    p.grad = 0.0 if backend == 'Value' else torch.tensor(0.0)\n",
    "\n",
    "y.backward()\n",
    "\n",
    "x1.grad, x2.grad, w1.grad, w2.grad"
   ]
  },
  {
   "cell_type": "code",
   "execution_count": 4,
   "id": "05ab8953-7819-4d1c-a5cf-46aa60de86ad",
   "metadata": {},
   "outputs": [
    {
     "data": {
      "text/plain": [
       "(tensor(15.7781),\n",
       " tensor(0.),\n",
       " tensor(0.),\n",
       " tensor(0.),\n",
       " tensor(8.0822, grad_fn=<AddBackward0>))"
      ]
     },
     "execution_count": 4,
     "metadata": {},
     "output_type": "execute_result"
    }
   ],
   "source": [
    "backend = 'torch'\n",
    "x1, x2 = 1., -1.\n",
    "w1, w2 = .1, .04\n",
    "if backend == 'Value':\n",
    "    f = Value\n",
    "    exp_ = exp\n",
    "    log_ = log\n",
    "elif backend == 'torch':\n",
    "    f = torch.tensor\n",
    "    exp_ = torch.exp\n",
    "    log_ = torch.log\n",
    "else:\n",
    "    raise ValueError(f'{backend} is invalid')\n",
    "\n",
    "x1, x2, w1, w2 = f(x1), f(x2), f(w1), f(w2)\n",
    "parameters = [x1, x2, w1, w2]\n",
    "\n",
    "for p in parameters:\n",
    "    # only for torch\n",
    "    p.requires_grad = True\n",
    "\n",
    "# forward\n",
    "z = x1*2  # this breaks things!\n",
    "y = log_(z) + exp_(z)  # this breaks things!\n",
    "\n",
    "# zero\n",
    "for p in parameters:\n",
    "    p.grad = 0.0 if backend == 'Value' else torch.tensor(0.0)\n",
    "\n",
    "y.backward()\n",
    "\n",
    "x1.grad, x2.grad, w1.grad, w2.grad,y"
   ]
  },
  {
   "cell_type": "code",
   "execution_count": 5,
   "id": "3e3efae4-fdf4-4dae-b80d-8f1a5c31fb1f",
   "metadata": {},
   "outputs": [
    {
     "name": "stderr",
     "output_type": "stream",
     "text": [
      "/var/folders/nw/lktt921x1wg_wt5tfy5q9k2c0000gn/T/ipykernel_63674/3268843017.py:7: UserWarning: The .grad attribute of a Tensor that is not a leaf Tensor is being accessed. Its .grad attribute won't be populated during autograd.backward(). If you indeed want the .grad field to be populated for a non-leaf Tensor, use .retain_grad() on the non-leaf Tensor. If you access the non-leaf Tensor by mistake, make sure you access the leaf Tensor instead. See github.com/pytorch/pytorch/pull/30531 for more informations. (Triggered internally at /Users/runner/work/pytorch/pytorch/pytorch/build/aten/src/ATen/core/TensorBody.h:494.)\n",
      "  x.grad, y.grad, z.grad, z\n"
     ]
    },
    {
     "data": {
      "text/plain": [
       "(tensor(15.7781), tensor(7.8891), None, tensor(8.0822, grad_fn=<AddBackward0>))"
      ]
     },
     "execution_count": 5,
     "metadata": {},
     "output_type": "execute_result"
    }
   ],
   "source": [
    "# x = 4.\n",
    "x = torch.tensor(1., requires_grad=True)\n",
    "y = x*2\n",
    "y.retain_grad()\n",
    "z = torch.log(y) + torch.exp(y)\n",
    "z.backward()\n",
    "x.grad, y.grad, z.grad, z"
   ]
  },
  {
   "cell_type": "code",
   "execution_count": 6,
   "id": "77627264-9990-45ce-acfd-283f2f0f7656",
   "metadata": {},
   "outputs": [
    {
     "data": {
      "text/plain": [
       "(15.7781121978613, 7.88905609893065, 1.0, Value(z=8.082203279490596, grad=1.0))"
      ]
     },
     "execution_count": 6,
     "metadata": {},
     "output_type": "execute_result"
    }
   ],
   "source": [
    "# x = 4.\n",
    "x = Value(1, name='x')\n",
    "y = x*2; y.name='y'\n",
    "l1 = log(y); l1.name = 'l1'\n",
    "e1 = exp(y); e1.name='e1'\n",
    "z = l1+e1; z.name='z'\n",
    "z.backward()\n",
    "x.grad, y.grad, z.grad, z"
   ]
  },
  {
   "cell_type": "code",
   "execution_count": 7,
   "id": "12e58f9d-c472-456a-abe0-f0233cadde2d",
   "metadata": {},
   "outputs": [
    {
     "data": {
      "text/plain": [
       "[Value(z=8.082203279490596, grad=1.0),\n",
       " Value(l1=0.6931471805599453, grad=1.0),\n",
       " Value(y=2, grad=7.88905609893065),\n",
       " Value(x=1, grad=15.7781121978613),\n",
       " Value(2, grad=7.88905609893065),\n",
       " Value(e1=7.38905609893065, grad=1.0)]"
      ]
     },
     "execution_count": 7,
     "metadata": {},
     "output_type": "execute_result"
    }
   ],
   "source": [
    "z.topo_sort()"
   ]
  },
  {
   "cell_type": "code",
   "execution_count": 9,
   "id": "a155c5b7-9d03-4e4b-9691-860467118ddf",
   "metadata": {},
   "outputs": [
    {
     "data": {
      "text/plain": [
       "[Value(z=8.082203279490596, grad=1.0),\n",
       " Value(e1=7.38905609893065, grad=1.0),\n",
       " Value(l1=0.6931471805599453, grad=1.0),\n",
       " Value(y=2, grad=7.88905609893065),\n",
       " Value(2, grad=7.88905609893065),\n",
       " Value(x=1, grad=15.7781121978613)]"
      ]
     },
     "execution_count": 9,
     "metadata": {},
     "output_type": "execute_result"
    }
   ],
   "source": [
    "list(z.topo_sort2())"
   ]
  },
  {
   "cell_type": "code",
   "execution_count": 200,
   "id": "f2ba0e78-b6d4-46c7-b136-ac9f00b84589",
   "metadata": {},
   "outputs": [
    {
     "data": {
      "text/plain": [
       "8.082203279490596"
      ]
     },
     "execution_count": 200,
     "metadata": {},
     "output_type": "execute_result"
    }
   ],
   "source": [
    "import math\n",
    "x = 1\n",
    "y = x*2\n",
    "z = math.exp(y) + math.log(y)\n",
    "z"
   ]
  },
  {
   "cell_type": "code",
   "execution_count": 201,
   "id": "c9706690-2c25-49b1-bc26-c43ee55c79c6",
   "metadata": {},
   "outputs": [
    {
     "data": {
      "text/plain": [
       "8.08378123350169"
      ]
     },
     "execution_count": 201,
     "metadata": {},
     "output_type": "execute_result"
    }
   ],
   "source": [
    "import math\n",
    "h = .0001\n",
    "x = 1 + h\n",
    "y = x*2\n",
    "z2 = math.exp(y) + math.log(y)\n",
    "z2"
   ]
  },
  {
   "cell_type": "code",
   "execution_count": 166,
   "id": "ba659a2c-bce6-44d4-85ef-698237baadf4",
   "metadata": {},
   "outputs": [
    {
     "data": {
      "text/plain": [
       "15.779540110933965"
      ]
     },
     "execution_count": 166,
     "metadata": {},
     "output_type": "execute_result"
    }
   ],
   "source": [
    "(z2 - z) / h"
   ]
  },
  {
   "cell_type": "code",
   "execution_count": 2,
   "id": "0172adcf-f9eb-4109-af11-fe046b722b74",
   "metadata": {},
   "outputs": [],
   "source": [
    "from sklearn.datasets import make_regression\n",
    "X, y = X_raw, y_raw = make_regression(n_samples=50, n_features=10)"
   ]
  },
  {
   "cell_type": "code",
   "execution_count": 33,
   "id": "12255087-998b-453e-b7fe-d6aef885d841",
   "metadata": {},
   "outputs": [],
   "source": [
    "net = MLP(10, [1], act=Relu)"
   ]
  },
  {
   "cell_type": "code",
   "execution_count": 34,
   "id": "7b8ddec1-f18f-499a-a8dd-8b52142b60a4",
   "metadata": {},
   "outputs": [
    {
     "name": "stdout",
     "output_type": "stream",
     "text": [
      "loss 37677.42694340859\n",
      "loss 21668.051695859813\n",
      "loss 13229.453934626643\n",
      "loss 8554.65904705731\n",
      "loss 5826.4540340151025\n",
      "loss 4149.244946344627\n",
      "loss 3065.6865016135635\n",
      "loss 2333.117011143112\n",
      "loss 1817.5439107151747\n",
      "loss 1441.9415339183718\n",
      "loss 1160.2486095875302\n",
      "loss 943.8557642390219\n",
      "loss 774.3431934493794\n",
      "loss 639.4446088148101\n",
      "loss 530.7304746406978\n",
      "loss 442.2368638426177\n",
      "loss 369.6304298212492\n",
      "loss 309.6860857927308\n",
      "loss 259.9519224336515\n",
      "loss 218.52896983427942\n",
      "loss 183.92299131506036\n",
      "loss 154.94242021850422\n",
      "loss 130.626464822462\n",
      "loss 110.19333855143715\n",
      "loss 93.00218964470182\n",
      "loss 78.52454757291173\n",
      "loss 66.3225164633599\n",
      "loss 56.03184907238157\n",
      "loss 47.34862070015342\n",
      "loss 40.01860801436364\n",
      "loss 33.82873536467268\n",
      "loss 28.6001260317944\n",
      "loss 24.182416526286374\n",
      "loss 20.449076772555692\n",
      "loss 17.293539552973378\n",
      "loss 14.62598662174307\n",
      "loss 12.370671491482042\n",
      "loss 10.46368342722394\n",
      "loss 8.851075938275516\n",
      "loss 7.487297605126147\n",
      "loss 6.333874506889743\n",
      "loss 5.358302595187325\n",
      "loss 4.533115646357227\n",
      "loss 3.8351003192476907\n",
      "loss 3.244634650035797\n",
      "loss 2.7451302539703084\n",
      "loss 2.3225617488681976\n",
      "loss 1.9650695999170291\n",
      "loss 1.6626248143230244\n",
      "loss 1.4067457703304913\n"
     ]
    }
   ],
   "source": [
    "X=[[x_ for x_ in x]for x in X_raw]\n",
    "batch_size = len(X)\n",
    "lr = .1\n",
    "\n",
    "for i in range(50):\n",
    "    #forward\n",
    "    y_logits = net(X)\n",
    "\n",
    "    # hacky MSE loss\n",
    "    loss = sum((y1-y2)**2  for y1, y2 in zip(y_logits, y)) / batch_size\n",
    "    loss = loss[0]\n",
    "\n",
    "    #backward\n",
    "    for p in net.parameters():\n",
    "        p.grad = 0\n",
    "\n",
    "    loss.backward()\n",
    "    # print(mlp.parameters())\n",
    "    # if i==0 or i % 10 == 0:\n",
    "    # y_preds = [y[0].data>y[1].data for y in y_logits]\n",
    "    # acc = (np.array(y_preds) == y).mean()\n",
    "    print('loss', loss.data)#, 'reg_loss', reg_loss.data)\n",
    "    # for p in net.parameters():\n",
    "    #     print(f'{p.name}={p.data:.2f} grad={p.grad:.5f}')\n",
    "    \n",
    "    for p in net.parameters():\n",
    "        p.data -= p.grad * lr"
   ]
  },
  {
   "cell_type": "code",
   "execution_count": 35,
   "id": "f65938cf-fa89-41dd-9424-8f838ea16533",
   "metadata": {},
   "outputs": [
    {
     "data": {
      "text/plain": [
       "<matplotlib.collections.PathCollection at 0x16cae22d0>"
      ]
     },
     "execution_count": 35,
     "metadata": {},
     "output_type": "execute_result"
    },
    {
     "data": {
      "image/png": "[encoded data removed]",
      "text/plain": [
       "<Figure size 640x480 with 1 Axes>"
      ]
     },
     "metadata": {},
     "output_type": "display_data"
    }
   ],
   "source": [
    "y_pred = [[y_.data for y_ in y] for y in y_logits]\n",
    "plt.scatter(y_pred, y)"
   ]
  },
  {
   "cell_type": "markdown",
   "id": "ac6502c8-0928-48d3-82fe-3a946aa4dfbe",
   "metadata": {},
   "source": [
    "# Classification"
   ]
  },
  {
   "cell_type": "code",
   "execution_count": 135,
   "id": "84ba7f3b-052e-4462-97f9-cbeb3a03cba1",
   "metadata": {},
   "outputs": [
    {
     "data": {
      "text/plain": [
       "<matplotlib.collections.PathCollection at 0x177e95410>"
      ]
     },
     "execution_count": 135,
     "metadata": {},
     "output_type": "execute_result"
    },
    {
     "data": {
      "image/png": "[encoded data removed]",
      "text/plain": [
       "<Figure size 500x500 with 1 Axes>"
      ]
     },
     "metadata": {},
     "output_type": "display_data"
    }
   ],
   "source": [
    "# make up a dataset\n",
    "\n",
    "from sklearn.datasets import make_moons, make_blobs\n",
    "X_raw, y_raw = X, y = make_moons(n_samples=50, noise=0.1)\n",
    "\n",
    "# visualize in 2D\n",
    "plt.figure(figsize=(5,5))\n",
    "plt.scatter(X[:,0], X[:,1], c=y, s=20, cmap='jet')"
   ]
  },
  {
   "cell_type": "code",
   "execution_count": 160,
   "id": "9474f984-7d12-4557-b3d4-55929e8ab5b6",
   "metadata": {},
   "outputs": [],
   "source": [
    "# doesn't work yet...\n",
    "net = MLP(2, [14, 2], act=Relu)"
   ]
  },
  {
   "cell_type": "code",
   "execution_count": 161,
   "id": "d2493d34-027d-43bc-9d8a-7e432532f0a8",
   "metadata": {},
   "outputs": [
    {
     "name": "stdout",
     "output_type": "stream",
     "text": [
      "loss 0.6719577466376111 acc 0.6\n",
      "loss 0.7903344123130323 acc 0.6\n",
      "loss 0.620698969298057 acc 0.6\n",
      "loss 0.4853201603226649 acc 0.6\n",
      "loss 0.2708111160638335 acc 0.6\n",
      "loss 0.2076621619727067 acc 0.7\n",
      "loss 0.17665720953848998 acc 0.7\n",
      "loss 0.1598181222092354 acc 0.7\n",
      "loss 0.14679938160030434 acc 0.7\n",
      "loss 0.13565967431899192 acc 0.7\n",
      "loss 0.12580206407030106 acc 0.7\n",
      "loss 0.1169763582594271 acc 0.6\n",
      "loss 0.10902243890279897 acc 0.6\n",
      "loss 0.10181800748455117 acc 0.6\n",
      "loss 0.09526450792115573 acc 0.6\n",
      "loss 0.08928087334138068 acc 0.6\n",
      "loss 0.08379964005444009 acc 0.6\n",
      "loss 0.078764111597509 acc 0.6\n",
      "loss 0.07412621426878722 acc 0.6\n",
      "loss 0.06984484685449875 acc 0.6\n",
      "loss 0.0658845743592317 acc 0.6\n",
      "loss 0.06221429224443138 acc 0.6\n",
      "loss 0.05880694638903207 acc 0.6\n",
      "loss 0.05563908737766365 acc 0.6\n",
      "loss 0.052689985866720204 acc 0.6\n",
      "loss 0.049941220023429524 acc 0.6\n",
      "loss 0.04737634094151986 acc 0.6\n",
      "loss 0.044980598036066126 acc 0.6\n",
      "loss 0.042740711999663526 acc 0.6\n",
      "loss 0.040644685744236436 acc 0.6\n",
      "loss 0.03868164588252388 acc 0.6\n",
      "loss 0.03684170892652536 acc 0.6\n",
      "loss 0.03511586762083027 acc 0.5\n",
      "loss 0.03349589378359074 acc 0.5\n",
      "loss 0.03197425476674404 acc 0.5\n",
      "loss 0.030544041222039693 acc 0.5\n",
      "loss 0.029198904309248836 acc 0.5\n",
      "loss 0.02793300083674376 acc 0.5\n",
      "loss 0.026740945104385863 acc 0.5\n",
      "loss 0.025617766441000608 acc 0.5\n",
      "loss 0.02455887160633618 acc 0.5\n",
      "loss 0.023560011370013817 acc 0.5\n",
      "loss 0.022617250679967726 acc 0.5\n",
      "loss 0.02172695222653504 acc 0.5\n",
      "loss 0.020885747936879067 acc 0.5\n",
      "loss 0.020090493185227088 acc 0.5\n",
      "loss 0.019338266025560342 acc 0.5\n",
      "loss 0.01862634952912032 acc 0.5\n",
      "loss 0.01795221574565952 acc 0.5\n",
      "loss 0.017313510387504335 acc 0.5\n"
     ]
    }
   ],
   "source": [
    "batch_size = len(X)\n",
    "lr = .1\n",
    "    \n",
    "for i in range(1):\n",
    "    #forward\n",
    "    y_logits = net(X)\n",
    "    y_probs = [softmax(y_logits_) for y_logits_ in y_logits]\n",
    "\n",
    "    # nll loss\n",
    "    nll_loss = -sum(log(y_probs_[y_true]) for y_probs_, y_true in zip(y_probs, y)) #/ batch_size\n",
    "    # L2\n",
    "    # reg_loss = 1e-3 * sum(p**2 for p in net.parameters())**(.5)\n",
    "    loss = nll_loss #+ reg_loss\n",
    "        \n",
    "    #backward\n",
    "    for p in net.parameters():\n",
    "        p.grad = 0\n",
    "\n",
    "    loss.backward()\n",
    "    # print(mlp.parameters())\n",
    "    # if i==0 or i % 10 == 0:\n",
    "    print('loss', loss.data, 'nll_loss', nll_loss.data)#, 'reg_loss', reg_loss.data)\n",
    "    for p in net.parameters():\n",
    "        print(f'{p.name}={p.data:.2f} grad={p.grad:.5f}')\n",
    "    \n",
    "    for p in net.parameters():\n",
    "        p.data -= p.grad * lr"
   ]
  },
  {
   "cell_type": "code",
   "execution_count": null,
   "id": "52721352-eff2-4bb4-862f-3d9cdaf98174",
   "metadata": {},
   "outputs": [],
   "source": []
  }
 ],
 "metadata": {
  "kernelspec": {
   "display_name": "Python 3 (ipykernel)",
   "language": "python",
   "name": "python3"
  },
  "language_info": {
   "codemirror_mode": {
    "name": "ipython",
    "version": 3
   },
   "file_extension": ".py",
   "mimetype": "text/x-python",
   "name": "python",
   "nbconvert_exporter": "python",
   "pygments_lexer": "ipython3",
   "version": "3.11.6"
  }
 },
 "nbformat": 4,
 "nbformat_minor": 5
}
